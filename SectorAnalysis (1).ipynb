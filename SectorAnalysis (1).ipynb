{
 "cells": [
  {
   "cell_type": "code",
   "execution_count": 1,
   "id": "1ea3b669-ceb6-4a0e-a87f-1ce50b15c20c",
   "metadata": {},
   "outputs": [],
   "source": [
    "import pandas as pd\n",
    "import numpy as np"
   ]
  },
  {
   "cell_type": "code",
   "execution_count": 2,
   "id": "97892ac9-5a0d-47d0-b324-2d29226747ca",
   "metadata": {},
   "outputs": [
    {
     "data": {
      "text/html": [
       "<div>\n",
       "<style scoped>\n",
       "    .dataframe tbody tr th:only-of-type {\n",
       "        vertical-align: middle;\n",
       "    }\n",
       "\n",
       "    .dataframe tbody tr th {\n",
       "        vertical-align: top;\n",
       "    }\n",
       "\n",
       "    .dataframe thead th {\n",
       "        text-align: right;\n",
       "    }\n",
       "</style>\n",
       "<table border=\"1\" class=\"dataframe\">\n",
       "  <thead>\n",
       "    <tr style=\"text-align: right;\">\n",
       "      <th></th>\n",
       "      <th>SYMBOL</th>\n",
       "      <th>Sector</th>\n",
       "      <th>Industry</th>\n",
       "      <th>% Change</th>\n",
       "      <th>Close Price</th>\n",
       "      <th>%pct</th>\n",
       "      <th>ALPHA NEW L/N</th>\n",
       "      <th>ALPHA NEW L/S</th>\n",
       "      <th>% Change.1</th>\n",
       "      <th>Close Price.1</th>\n",
       "      <th>...</th>\n",
       "      <th>ALPHA NEW S/N</th>\n",
       "      <th>ALPHA NEW S/S</th>\n",
       "      <th>ltp  change</th>\n",
       "      <th>NSE CODE</th>\n",
       "      <th>52 week High</th>\n",
       "      <th>%52 week High</th>\n",
       "      <th>Unnamed: 17</th>\n",
       "      <th>Unnamed: 18</th>\n",
       "      <th>Unnamed: 19</th>\n",
       "      <th>Unnamed: 20</th>\n",
       "    </tr>\n",
       "  </thead>\n",
       "  <tbody>\n",
       "    <tr>\n",
       "      <th>0</th>\n",
       "      <td>NSE:GRINDWELL</td>\n",
       "      <td>ABRASIVES</td>\n",
       "      <td>ABRASIVES</td>\n",
       "      <td>2588.55</td>\n",
       "      <td>2108.0</td>\n",
       "      <td>-18.564447</td>\n",
       "      <td>-21.85</td>\n",
       "      <td>-18.80</td>\n",
       "      <td>2390.35</td>\n",
       "      <td>2108.0</td>\n",
       "      <td>...</td>\n",
       "      <td>-21.16</td>\n",
       "      <td>-17.15</td>\n",
       "      <td>NaN</td>\n",
       "      <td>NSE:GRINDWELL,</td>\n",
       "      <td>2960.00</td>\n",
       "      <td>40.417457</td>\n",
       "      <td>NaN</td>\n",
       "      <td>NaN</td>\n",
       "      <td>NaN</td>\n",
       "      <td>NaN</td>\n",
       "    </tr>\n",
       "    <tr>\n",
       "      <th>1</th>\n",
       "      <td>NSE:CARBORUNIV</td>\n",
       "      <td>ABRASIVES</td>\n",
       "      <td>ABRASIVES</td>\n",
       "      <td>1718.80</td>\n",
       "      <td>1457.8</td>\n",
       "      <td>-15.185013</td>\n",
       "      <td>-18.47</td>\n",
       "      <td>-15.42</td>\n",
       "      <td>1510.20</td>\n",
       "      <td>1457.8</td>\n",
       "      <td>...</td>\n",
       "      <td>-11.36</td>\n",
       "      <td>-7.35</td>\n",
       "      <td>0.0</td>\n",
       "      <td>NSE:CARBORUNIV,</td>\n",
       "      <td>1841.15</td>\n",
       "      <td>26.296474</td>\n",
       "      <td>NaN</td>\n",
       "      <td>NaN</td>\n",
       "      <td>NaN</td>\n",
       "      <td>NaN</td>\n",
       "    </tr>\n",
       "  </tbody>\n",
       "</table>\n",
       "<p>2 rows × 21 columns</p>\n",
       "</div>"
      ],
      "text/plain": [
       "           SYMBOL     Sector   Industry  % Change  Close Price       %pct  \\\n",
       "0   NSE:GRINDWELL  ABRASIVES  ABRASIVES   2588.55       2108.0 -18.564447   \n",
       "1  NSE:CARBORUNIV  ABRASIVES  ABRASIVES   1718.80       1457.8 -15.185013   \n",
       "\n",
       "   ALPHA NEW L/N  ALPHA NEW L/S  % Change.1  Close Price.1  ...  \\\n",
       "0         -21.85         -18.80     2390.35         2108.0  ...   \n",
       "1         -18.47         -15.42     1510.20         1457.8  ...   \n",
       "\n",
       "   ALPHA NEW S/N  ALPHA NEW S/S  ltp  change         NSE CODE 52 week High  \\\n",
       "0         -21.16         -17.15          NaN   NSE:GRINDWELL,      2960.00   \n",
       "1         -11.36          -7.35          0.0  NSE:CARBORUNIV,      1841.15   \n",
       "\n",
       "   %52 week High  Unnamed: 17 Unnamed: 18 Unnamed: 19 Unnamed: 20  \n",
       "0      40.417457          NaN         NaN         NaN         NaN  \n",
       "1      26.296474          NaN         NaN         NaN         NaN  \n",
       "\n",
       "[2 rows x 21 columns]"
      ]
     },
     "execution_count": 2,
     "metadata": {},
     "output_type": "execute_result"
    }
   ],
   "source": [
    "data = pd.read_csv(\"C:\\\\Users\\\\Rohit Mhatre\\\\Downloads\\\\1dec24.csv\")\n",
    "data.head(2)"
   ]
  },
  {
   "cell_type": "code",
   "execution_count": 3,
   "id": "511302c6-0b69-482f-89a1-aa15362be5eb",
   "metadata": {},
   "outputs": [],
   "source": [
    "df = data[['SYMBOL','Sector','ALPHA NEW L/N','ALPHA NEW L/S','NSE CODE']].copy()\n",
    "df.dropna(axis=0,inplace=True)"
   ]
  },
  {
   "cell_type": "code",
   "execution_count": 4,
   "id": "9a701622-40e5-4274-a36e-b63d78377de8",
   "metadata": {},
   "outputs": [
    {
     "data": {
      "text/plain": [
       "33"
      ]
     },
     "execution_count": 4,
     "metadata": {},
     "output_type": "execute_result"
    }
   ],
   "source": [
    "duplicate = df['SYMBOL'].duplicated()\n",
    "duplicate.sum()"
   ]
  },
  {
   "cell_type": "code",
   "execution_count": 5,
   "id": "7f84807a-97be-4e58-af2b-93890e6e1493",
   "metadata": {},
   "outputs": [],
   "source": [
    "df = df.drop_duplicates(subset=['SYMBOL'])"
   ]
  },
  {
   "cell_type": "code",
   "execution_count": 6,
   "id": "17686170-6a0a-424a-a664-6ab886b9aabb",
   "metadata": {},
   "outputs": [
    {
     "data": {
      "text/plain": [
       "0"
      ]
     },
     "execution_count": 6,
     "metadata": {},
     "output_type": "execute_result"
    }
   ],
   "source": [
    "df['SYMBOL'].duplicated().sum()"
   ]
  },
  {
   "cell_type": "code",
   "execution_count": 7,
   "id": "c3302f93-5209-4c43-9b89-5a757e2d48a7",
   "metadata": {},
   "outputs": [
    {
     "data": {
      "text/html": [
       "<div>\n",
       "<style scoped>\n",
       "    .dataframe tbody tr th:only-of-type {\n",
       "        vertical-align: middle;\n",
       "    }\n",
       "\n",
       "    .dataframe tbody tr th {\n",
       "        vertical-align: top;\n",
       "    }\n",
       "\n",
       "    .dataframe thead th {\n",
       "        text-align: right;\n",
       "    }\n",
       "</style>\n",
       "<table border=\"1\" class=\"dataframe\">\n",
       "  <thead>\n",
       "    <tr style=\"text-align: right;\">\n",
       "      <th></th>\n",
       "      <th>SYMBOL</th>\n",
       "      <th>Sector</th>\n",
       "      <th>ALPHA NEW L/N</th>\n",
       "      <th>ALPHA NEW L/S</th>\n",
       "      <th>NSE CODE</th>\n",
       "    </tr>\n",
       "  </thead>\n",
       "  <tbody>\n",
       "    <tr>\n",
       "      <th>0</th>\n",
       "      <td>NSE:GRINDWELL</td>\n",
       "      <td>ABRASIVES</td>\n",
       "      <td>-21.85</td>\n",
       "      <td>-18.80</td>\n",
       "      <td>NSE:GRINDWELL,</td>\n",
       "    </tr>\n",
       "    <tr>\n",
       "      <th>1</th>\n",
       "      <td>NSE:CARBORUNIV</td>\n",
       "      <td>ABRASIVES</td>\n",
       "      <td>-18.47</td>\n",
       "      <td>-15.42</td>\n",
       "      <td>NSE:CARBORUNIV,</td>\n",
       "    </tr>\n",
       "    <tr>\n",
       "      <th>2</th>\n",
       "      <td>NSE:WENDT</td>\n",
       "      <td>ABRASIVES</td>\n",
       "      <td>-2.68</td>\n",
       "      <td>0.36</td>\n",
       "      <td>NSE:WENDT,</td>\n",
       "    </tr>\n",
       "    <tr>\n",
       "      <th>3</th>\n",
       "      <td>NSE:BBTC</td>\n",
       "      <td>AGRICULTURE</td>\n",
       "      <td>2.13</td>\n",
       "      <td>5.18</td>\n",
       "      <td>NSE:BBTC,</td>\n",
       "    </tr>\n",
       "    <tr>\n",
       "      <th>4</th>\n",
       "      <td>NSE:BSHSL</td>\n",
       "      <td>AGRICULTURE</td>\n",
       "      <td>-19.19</td>\n",
       "      <td>-16.15</td>\n",
       "      <td>NSE:BSHSL,</td>\n",
       "    </tr>\n",
       "  </tbody>\n",
       "</table>\n",
       "</div>"
      ],
      "text/plain": [
       "           SYMBOL       Sector  ALPHA NEW L/N  ALPHA NEW L/S         NSE CODE\n",
       "0   NSE:GRINDWELL    ABRASIVES         -21.85         -18.80   NSE:GRINDWELL,\n",
       "1  NSE:CARBORUNIV    ABRASIVES         -18.47         -15.42  NSE:CARBORUNIV,\n",
       "2       NSE:WENDT    ABRASIVES          -2.68           0.36       NSE:WENDT,\n",
       "3        NSE:BBTC  AGRICULTURE           2.13           5.18        NSE:BBTC,\n",
       "4       NSE:BSHSL  AGRICULTURE         -19.19         -16.15       NSE:BSHSL,"
      ]
     },
     "execution_count": 7,
     "metadata": {},
     "output_type": "execute_result"
    }
   ],
   "source": [
    "df.head()"
   ]
  },
  {
   "cell_type": "code",
   "execution_count": 8,
   "id": "88fe1986-608e-461e-9e23-7afb41a505db",
   "metadata": {},
   "outputs": [
    {
     "data": {
      "text/html": [
       "<div>\n",
       "<style scoped>\n",
       "    .dataframe tbody tr th:only-of-type {\n",
       "        vertical-align: middle;\n",
       "    }\n",
       "\n",
       "    .dataframe tbody tr th {\n",
       "        vertical-align: top;\n",
       "    }\n",
       "\n",
       "    .dataframe thead th {\n",
       "        text-align: right;\n",
       "    }\n",
       "</style>\n",
       "<table border=\"1\" class=\"dataframe\">\n",
       "  <thead>\n",
       "    <tr style=\"text-align: right;\">\n",
       "      <th></th>\n",
       "      <th>ALPHA NEW L/N</th>\n",
       "      <th>rank</th>\n",
       "    </tr>\n",
       "    <tr>\n",
       "      <th>Sector</th>\n",
       "      <th></th>\n",
       "      <th></th>\n",
       "    </tr>\n",
       "  </thead>\n",
       "  <tbody>\n",
       "    <tr>\n",
       "      <th>IT - EducationInformation TechnologyMid Cap</th>\n",
       "      <td>77.620000</td>\n",
       "      <td>1</td>\n",
       "    </tr>\n",
       "    <tr>\n",
       "      <th>Electric EquipmentElectric EquipmentCAPITAL GOODSMid Cap</th>\n",
       "      <td>42.837000</td>\n",
       "      <td>2</td>\n",
       "    </tr>\n",
       "    <tr>\n",
       "      <th>Diamond &amp; Jewellery</th>\n",
       "      <td>37.500000</td>\n",
       "      <td>3</td>\n",
       "    </tr>\n",
       "    <tr>\n",
       "      <th>Ratings</th>\n",
       "      <td>28.843333</td>\n",
       "      <td>4</td>\n",
       "    </tr>\n",
       "    <tr>\n",
       "      <th>Medical Equipment/Supplies/AccessoriesHealthcare</th>\n",
       "      <td>24.040000</td>\n",
       "      <td>5</td>\n",
       "    </tr>\n",
       "    <tr>\n",
       "      <th>...</th>\n",
       "      <td>...</td>\n",
       "      <td>...</td>\n",
       "    </tr>\n",
       "    <tr>\n",
       "      <th>Renewable energy</th>\n",
       "      <td>-24.290000</td>\n",
       "      <td>147</td>\n",
       "    </tr>\n",
       "    <tr>\n",
       "      <th>IT - NetworkingInformation TechnologySmall Cap</th>\n",
       "      <td>-24.715000</td>\n",
       "      <td>148</td>\n",
       "    </tr>\n",
       "    <tr>\n",
       "      <th>Railways Wagons/AUTOMOBILE &amp; ANCILLARIES</th>\n",
       "      <td>-26.630000</td>\n",
       "      <td>149</td>\n",
       "    </tr>\n",
       "    <tr>\n",
       "      <th>Consumer Durables - Electronics-</th>\n",
       "      <td>-28.220000</td>\n",
       "      <td>150</td>\n",
       "    </tr>\n",
       "    <tr>\n",
       "      <th>Ship Building</th>\n",
       "      <td>-30.870000</td>\n",
       "      <td>151</td>\n",
       "    </tr>\n",
       "  </tbody>\n",
       "</table>\n",
       "<p>151 rows × 2 columns</p>\n",
       "</div>"
      ],
      "text/plain": [
       "                                                    ALPHA NEW L/N  rank\n",
       "Sector                                                                 \n",
       "IT - EducationInformation TechnologyMid Cap             77.620000     1\n",
       "Electric EquipmentElectric EquipmentCAPITAL GOO...      42.837000     2\n",
       "Diamond & Jewellery                                     37.500000     3\n",
       "Ratings                                                 28.843333     4\n",
       "Medical Equipment/Supplies/AccessoriesHealthcare        24.040000     5\n",
       "...                                                           ...   ...\n",
       "Renewable energy                                       -24.290000   147\n",
       "IT - NetworkingInformation TechnologySmall Cap         -24.715000   148\n",
       "Railways Wagons/AUTOMOBILE & ANCILLARIES               -26.630000   149\n",
       "Consumer Durables - Electronics-                       -28.220000   150\n",
       "Ship Building                                          -30.870000   151\n",
       "\n",
       "[151 rows x 2 columns]"
      ]
     },
     "execution_count": 8,
     "metadata": {},
     "output_type": "execute_result"
    }
   ],
   "source": [
    "group_df = df.groupby('Sector')['ALPHA NEW L/N'].mean()\n",
    "\n",
    "top_n_sectors = group_df.sort_values(ascending=False)\n",
    "b = pd.DataFrame(top_n_sectors)\n",
    "b['rank'] = np.arange(1,len(b)+1)\n",
    "b"
   ]
  },
  {
   "cell_type": "code",
   "execution_count": 9,
   "id": "491906dd-96f0-4f8e-ba24-82c3d12cbfcf",
   "metadata": {},
   "outputs": [],
   "source": [
    "result = []\n",
    "for sector,avg_alpha in top_n_sectors.items():\n",
    "    stocks_above_avg = df[(df['Sector'] == sector) & (df['ALPHA NEW L/N'] >= avg_alpha)]\n",
    "    result.append(stocks_above_avg)"
   ]
  },
  {
   "cell_type": "code",
   "execution_count": 10,
   "id": "1b62f6ce-651b-47e9-b90e-23ea19ca503b",
   "metadata": {},
   "outputs": [
    {
     "data": {
      "text/html": [
       "<div>\n",
       "<style scoped>\n",
       "    .dataframe tbody tr th:only-of-type {\n",
       "        vertical-align: middle;\n",
       "    }\n",
       "\n",
       "    .dataframe tbody tr th {\n",
       "        vertical-align: top;\n",
       "    }\n",
       "\n",
       "    .dataframe thead th {\n",
       "        text-align: right;\n",
       "    }\n",
       "</style>\n",
       "<table border=\"1\" class=\"dataframe\">\n",
       "  <thead>\n",
       "    <tr style=\"text-align: right;\">\n",
       "      <th></th>\n",
       "      <th>SYMBOL</th>\n",
       "      <th>Sector</th>\n",
       "      <th>ALPHA NEW L/N</th>\n",
       "      <th>ALPHA NEW L/S</th>\n",
       "      <th>NSE CODE</th>\n",
       "    </tr>\n",
       "  </thead>\n",
       "  <tbody>\n",
       "    <tr>\n",
       "      <th>0</th>\n",
       "      <td>NSE:NIITLTD</td>\n",
       "      <td>IT - EducationInformation TechnologyMid Cap</td>\n",
       "      <td>77.62</td>\n",
       "      <td>80.66</td>\n",
       "      <td>NSE:NIITLTD,</td>\n",
       "    </tr>\n",
       "    <tr>\n",
       "      <th>1</th>\n",
       "      <td>NSE:TARIL</td>\n",
       "      <td>Electric EquipmentElectric EquipmentCAPITAL GO...</td>\n",
       "      <td>460.45</td>\n",
       "      <td>463.50</td>\n",
       "      <td>NSE:TARIL,</td>\n",
       "    </tr>\n",
       "    <tr>\n",
       "      <th>2</th>\n",
       "      <td>NSE:GOLDIAM</td>\n",
       "      <td>Diamond &amp; Jewellery</td>\n",
       "      <td>65.53</td>\n",
       "      <td>68.58</td>\n",
       "      <td>NSE:GOLDIAM,</td>\n",
       "    </tr>\n",
       "    <tr>\n",
       "      <th>3</th>\n",
       "      <td>NSE:PCJEWELLER</td>\n",
       "      <td>Diamond &amp; Jewellery</td>\n",
       "      <td>71.06</td>\n",
       "      <td>74.11</td>\n",
       "      <td>NSE:PCJEWELLER,</td>\n",
       "    </tr>\n",
       "    <tr>\n",
       "      <th>4</th>\n",
       "      <td>NSE:RGL</td>\n",
       "      <td>Diamond &amp; Jewellery</td>\n",
       "      <td>73.44</td>\n",
       "      <td>76.48</td>\n",
       "      <td>NSE:RGL,</td>\n",
       "    </tr>\n",
       "    <tr>\n",
       "      <th>5</th>\n",
       "      <td>NSE:TBZ</td>\n",
       "      <td>Diamond &amp; Jewellery</td>\n",
       "      <td>54.16</td>\n",
       "      <td>57.20</td>\n",
       "      <td>NSE:TBZ,</td>\n",
       "    </tr>\n",
       "    <tr>\n",
       "      <th>6</th>\n",
       "      <td>NSE:RADHIKAJWE</td>\n",
       "      <td>Diamond &amp; Jewellery</td>\n",
       "      <td>37.81</td>\n",
       "      <td>40.86</td>\n",
       "      <td>NSE:RADHIKAJWE,</td>\n",
       "    </tr>\n",
       "    <tr>\n",
       "      <th>7</th>\n",
       "      <td>NSE:SKYGOLD</td>\n",
       "      <td>Diamond &amp; Jewellery</td>\n",
       "      <td>87.94</td>\n",
       "      <td>90.99</td>\n",
       "      <td>NSE:SKYGOLD,</td>\n",
       "    </tr>\n",
       "    <tr>\n",
       "      <th>8</th>\n",
       "      <td>NSE:RBZJEWEL</td>\n",
       "      <td>Diamond &amp; Jewellery</td>\n",
       "      <td>37.52</td>\n",
       "      <td>40.56</td>\n",
       "      <td>NSE:RBZJEWEL,</td>\n",
       "    </tr>\n",
       "    <tr>\n",
       "      <th>9</th>\n",
       "      <td>NSE:MOTISONS</td>\n",
       "      <td>Diamond &amp; Jewellery</td>\n",
       "      <td>78.47</td>\n",
       "      <td>81.52</td>\n",
       "      <td>NSE:MOTISONS,</td>\n",
       "    </tr>\n",
       "    <tr>\n",
       "      <th>10</th>\n",
       "      <td>NSE:CARERATING</td>\n",
       "      <td>Ratings</td>\n",
       "      <td>50.10</td>\n",
       "      <td>53.14</td>\n",
       "      <td>NSE:CARERATING,</td>\n",
       "    </tr>\n",
       "    <tr>\n",
       "      <th>11</th>\n",
       "      <td>NSE:POLYMED</td>\n",
       "      <td>Medical Equipment/Supplies/AccessoriesHealthcare</td>\n",
       "      <td>46.32</td>\n",
       "      <td>49.37</td>\n",
       "      <td>NSE:POLYMED,</td>\n",
       "    </tr>\n",
       "    <tr>\n",
       "      <th>12</th>\n",
       "      <td>NSE:PAYTM</td>\n",
       "      <td>Fintech-Information Technology</td>\n",
       "      <td>78.90</td>\n",
       "      <td>81.95</td>\n",
       "      <td>NSE:PAYTM,</td>\n",
       "    </tr>\n",
       "    <tr>\n",
       "      <th>13</th>\n",
       "      <td>NSE:POLICYBZR</td>\n",
       "      <td>Fintech-Information Technology</td>\n",
       "      <td>25.89</td>\n",
       "      <td>28.94</td>\n",
       "      <td>NSE:POLICYBZR,</td>\n",
       "    </tr>\n",
       "    <tr>\n",
       "      <th>14</th>\n",
       "      <td>NSE:ZAGGLE</td>\n",
       "      <td>Fintech-Information Technology</td>\n",
       "      <td>49.67</td>\n",
       "      <td>52.71</td>\n",
       "      <td>NSE:ZAGGLE,</td>\n",
       "    </tr>\n",
       "    <tr>\n",
       "      <th>15</th>\n",
       "      <td>NSE:SEJALLTD</td>\n",
       "      <td>Glass-CONSTRUCTION MATERIAL</td>\n",
       "      <td>46.23</td>\n",
       "      <td>49.28</td>\n",
       "      <td>NSE:SEJALLTD,</td>\n",
       "    </tr>\n",
       "    <tr>\n",
       "      <th>16</th>\n",
       "      <td>NSE:HINDNATGLS</td>\n",
       "      <td>Glass-CONSTRUCTION MATERIAL</td>\n",
       "      <td>41.82</td>\n",
       "      <td>44.87</td>\n",
       "      <td>NSE:HINDNATGLS,</td>\n",
       "    </tr>\n",
       "    <tr>\n",
       "      <th>17</th>\n",
       "      <td>NSE:INDHOTEL</td>\n",
       "      <td>Hotel, Resort &amp; Restaurants-HospitalityLarge Cap</td>\n",
       "      <td>20.45</td>\n",
       "      <td>23.50</td>\n",
       "      <td>NSE:INDHOTEL,</td>\n",
       "    </tr>\n",
       "    <tr>\n",
       "      <th>18</th>\n",
       "      <td>NSE:BSE</td>\n",
       "      <td>Finance - Others</td>\n",
       "      <td>80.09</td>\n",
       "      <td>83.14</td>\n",
       "      <td>NSE:BSE,</td>\n",
       "    </tr>\n",
       "    <tr>\n",
       "      <th>19</th>\n",
       "      <td>NSE:KFINTECH</td>\n",
       "      <td>Finance - Others</td>\n",
       "      <td>29.45</td>\n",
       "      <td>32.50</td>\n",
       "      <td>NSE:KFINTECH,</td>\n",
       "    </tr>\n",
       "    <tr>\n",
       "      <th>20</th>\n",
       "      <td>NSE:PRUDENT</td>\n",
       "      <td>Finance - Others</td>\n",
       "      <td>28.76</td>\n",
       "      <td>31.81</td>\n",
       "      <td>NSE:PRUDENT,</td>\n",
       "    </tr>\n",
       "    <tr>\n",
       "      <th>21</th>\n",
       "      <td>NSE:AMBER</td>\n",
       "      <td>Air Conditioners-CONSUMER DURABLES</td>\n",
       "      <td>36.87</td>\n",
       "      <td>39.92</td>\n",
       "      <td>NSE:AMBER,</td>\n",
       "    </tr>\n",
       "    <tr>\n",
       "      <th>22</th>\n",
       "      <td>NSE:EPACK</td>\n",
       "      <td>Air Conditioners-CONSUMER DURABLES</td>\n",
       "      <td>52.15</td>\n",
       "      <td>55.20</td>\n",
       "      <td>NSE:EPACK,</td>\n",
       "    </tr>\n",
       "    <tr>\n",
       "      <th>23</th>\n",
       "      <td>NSE:FORTIS</td>\n",
       "      <td>Hospital &amp; Healthcare Services-Healthcare</td>\n",
       "      <td>28.51</td>\n",
       "      <td>31.56</td>\n",
       "      <td>NSE:FORTIS,</td>\n",
       "    </tr>\n",
       "    <tr>\n",
       "      <th>24</th>\n",
       "      <td>NSE:ASTERDM</td>\n",
       "      <td>Hospital &amp; Healthcare Services-Healthcare</td>\n",
       "      <td>40.94</td>\n",
       "      <td>43.99</td>\n",
       "      <td>NSE:ASTERDM,</td>\n",
       "    </tr>\n",
       "    <tr>\n",
       "      <th>25</th>\n",
       "      <td>NSE:KIMS</td>\n",
       "      <td>Hospital &amp; Healthcare Services-Healthcare</td>\n",
       "      <td>32.96</td>\n",
       "      <td>36.01</td>\n",
       "      <td>NSE:KIMS,</td>\n",
       "    </tr>\n",
       "    <tr>\n",
       "      <th>26</th>\n",
       "      <td>NSE:RAINBOW</td>\n",
       "      <td>Hospital &amp; Healthcare Services-Healthcare</td>\n",
       "      <td>30.60</td>\n",
       "      <td>33.65</td>\n",
       "      <td>NSE:RAINBOW,</td>\n",
       "    </tr>\n",
       "    <tr>\n",
       "      <th>27</th>\n",
       "      <td>NSE:HCG</td>\n",
       "      <td>Hospital &amp; Healthcare Services-Healthcare</td>\n",
       "      <td>38.32</td>\n",
       "      <td>41.37</td>\n",
       "      <td>NSE:HCG,</td>\n",
       "    </tr>\n",
       "    <tr>\n",
       "      <th>28</th>\n",
       "      <td>NSE:VIJAYA</td>\n",
       "      <td>Hospital &amp; Healthcare Services-Healthcare</td>\n",
       "      <td>41.54</td>\n",
       "      <td>44.58</td>\n",
       "      <td>NSE:VIJAYA,</td>\n",
       "    </tr>\n",
       "    <tr>\n",
       "      <th>29</th>\n",
       "      <td>NSE:THYROCARE</td>\n",
       "      <td>Hospital &amp; Healthcare Services-Healthcare</td>\n",
       "      <td>19.05</td>\n",
       "      <td>22.09</td>\n",
       "      <td>NSE:THYROCARE,</td>\n",
       "    </tr>\n",
       "    <tr>\n",
       "      <th>30</th>\n",
       "      <td>NSE:KRSNAA</td>\n",
       "      <td>Hospital &amp; Healthcare Services-Healthcare</td>\n",
       "      <td>42.98</td>\n",
       "      <td>46.03</td>\n",
       "      <td>NSE:KRSNAA,</td>\n",
       "    </tr>\n",
       "    <tr>\n",
       "      <th>31</th>\n",
       "      <td>NSE:ARTEMISMED</td>\n",
       "      <td>Hospital &amp; Healthcare Services-Healthcare</td>\n",
       "      <td>20.35</td>\n",
       "      <td>23.40</td>\n",
       "      <td>NSE:ARTEMISMED,</td>\n",
       "    </tr>\n",
       "    <tr>\n",
       "      <th>32</th>\n",
       "      <td>NSE:VIMTALABS</td>\n",
       "      <td>Hospital &amp; Healthcare Services-Healthcare</td>\n",
       "      <td>61.20</td>\n",
       "      <td>64.25</td>\n",
       "      <td>NSE:VIMTALABS,</td>\n",
       "    </tr>\n",
       "    <tr>\n",
       "      <th>33</th>\n",
       "      <td>NSE:INDRAMEDCO</td>\n",
       "      <td>Hospital &amp; Healthcare Services-Healthcare</td>\n",
       "      <td>70.16</td>\n",
       "      <td>73.21</td>\n",
       "      <td>NSE:INDRAMEDCO,</td>\n",
       "    </tr>\n",
       "    <tr>\n",
       "      <th>34</th>\n",
       "      <td>NSE:YATHARTH</td>\n",
       "      <td>Hospital &amp; Healthcare Services-Healthcare</td>\n",
       "      <td>26.51</td>\n",
       "      <td>29.56</td>\n",
       "      <td>NSE:YATHARTH,</td>\n",
       "    </tr>\n",
       "    <tr>\n",
       "      <th>35</th>\n",
       "      <td>NSE:ANGELONE</td>\n",
       "      <td>Finance - Stock Broking</td>\n",
       "      <td>30.27</td>\n",
       "      <td>33.32</td>\n",
       "      <td>NSE:ANGELONE,</td>\n",
       "    </tr>\n",
       "    <tr>\n",
       "      <th>36</th>\n",
       "      <td>NSE:MOTILALOFS</td>\n",
       "      <td>Finance - Stock Broking</td>\n",
       "      <td>36.43</td>\n",
       "      <td>39.48</td>\n",
       "      <td>NSE:MOTILALOFS,</td>\n",
       "    </tr>\n",
       "    <tr>\n",
       "      <th>37</th>\n",
       "      <td>NSE:MCX</td>\n",
       "      <td>Finance - Stock Broking</td>\n",
       "      <td>41.24</td>\n",
       "      <td>44.29</td>\n",
       "      <td>NSE:MCX,</td>\n",
       "    </tr>\n",
       "    <tr>\n",
       "      <th>38</th>\n",
       "      <td>NSE:CHOICEIN</td>\n",
       "      <td>Finance - Stock Broking</td>\n",
       "      <td>29.66</td>\n",
       "      <td>32.71</td>\n",
       "      <td>NSE:CHOICEIN,</td>\n",
       "    </tr>\n",
       "    <tr>\n",
       "      <th>39</th>\n",
       "      <td>NSE:DHANI</td>\n",
       "      <td>Finance - Stock Broking</td>\n",
       "      <td>37.48</td>\n",
       "      <td>40.53</td>\n",
       "      <td>NSE:DHANI,</td>\n",
       "    </tr>\n",
       "    <tr>\n",
       "      <th>40</th>\n",
       "      <td>NSE:GEOJITFSL</td>\n",
       "      <td>Finance - Stock Broking</td>\n",
       "      <td>16.91</td>\n",
       "      <td>19.96</td>\n",
       "      <td>NSE:GEOJITFSL,</td>\n",
       "    </tr>\n",
       "    <tr>\n",
       "      <th>41</th>\n",
       "      <td>NSE:MONARCH</td>\n",
       "      <td>Finance - Stock Broking</td>\n",
       "      <td>21.62</td>\n",
       "      <td>24.67</td>\n",
       "      <td>NSE:MONARCH,</td>\n",
       "    </tr>\n",
       "    <tr>\n",
       "      <th>42</th>\n",
       "      <td>NSE:ARIHANTCAP</td>\n",
       "      <td>Finance - Stock Broking</td>\n",
       "      <td>34.08</td>\n",
       "      <td>37.13</td>\n",
       "      <td>NSE:ARIHANTCAP,</td>\n",
       "    </tr>\n",
       "    <tr>\n",
       "      <th>43</th>\n",
       "      <td>NSE:SIYSIL</td>\n",
       "      <td>Textile - Weaving</td>\n",
       "      <td>43.80</td>\n",
       "      <td>46.85</td>\n",
       "      <td>NSE:SIYSIL,</td>\n",
       "    </tr>\n",
       "    <tr>\n",
       "      <th>44</th>\n",
       "      <td>NSE:UNITEDPOLY</td>\n",
       "      <td>Textile - Weaving</td>\n",
       "      <td>66.49</td>\n",
       "      <td>69.54</td>\n",
       "      <td>NSE:UNITEDPOLY,</td>\n",
       "    </tr>\n",
       "    <tr>\n",
       "      <th>45</th>\n",
       "      <td>NSE:AARVEEDEN</td>\n",
       "      <td>Textile - Weaving</td>\n",
       "      <td>86.93</td>\n",
       "      <td>89.97</td>\n",
       "      <td>NSE:AARVEEDEN,</td>\n",
       "    </tr>\n",
       "    <tr>\n",
       "      <th>46</th>\n",
       "      <td>NSE:LAURUSLABS</td>\n",
       "      <td>Pharmaceuticals &amp; Drugs-HealthcareMid Cap</td>\n",
       "      <td>19.15</td>\n",
       "      <td>22.20</td>\n",
       "      <td>NSE:LAURUSLABS,</td>\n",
       "    </tr>\n",
       "    <tr>\n",
       "      <th>47</th>\n",
       "      <td>NSE:IPCALAB</td>\n",
       "      <td>Pharmaceuticals &amp; Drugs-HealthcareMid Cap</td>\n",
       "      <td>14.80</td>\n",
       "      <td>17.84</td>\n",
       "      <td>NSE:IPCALAB,</td>\n",
       "    </tr>\n",
       "    <tr>\n",
       "      <th>48</th>\n",
       "      <td>NSE:SUVENPHAR</td>\n",
       "      <td>Pharmaceuticals &amp; Drugs-HealthcareMid Cap</td>\n",
       "      <td>27.14</td>\n",
       "      <td>30.19</td>\n",
       "      <td>NSE:SUVENPHAR,</td>\n",
       "    </tr>\n",
       "    <tr>\n",
       "      <th>49</th>\n",
       "      <td>NSE:ERIS</td>\n",
       "      <td>Pharmaceuticals &amp; Drugs-HealthcareMid Cap</td>\n",
       "      <td>23.06</td>\n",
       "      <td>26.11</td>\n",
       "      <td>NSE:ERIS,</td>\n",
       "    </tr>\n",
       "    <tr>\n",
       "      <th>50</th>\n",
       "      <td>NSE:GLS</td>\n",
       "      <td>Pharmaceuticals &amp; Drugs-HealthcareMid Cap</td>\n",
       "      <td>18.69</td>\n",
       "      <td>21.74</td>\n",
       "      <td>NSE:GLS,</td>\n",
       "    </tr>\n",
       "    <tr>\n",
       "      <th>51</th>\n",
       "      <td>NSE:CAPLIPOINT</td>\n",
       "      <td>Pharmaceuticals &amp; Drugs-HealthcareMid Cap</td>\n",
       "      <td>36.48</td>\n",
       "      <td>39.53</td>\n",
       "      <td>NSE:CAPLIPOINT,</td>\n",
       "    </tr>\n",
       "    <tr>\n",
       "      <th>52</th>\n",
       "      <td>NSE:JUBLPHARMA</td>\n",
       "      <td>Pharmaceuticals &amp; Drugs-HealthcareMid Cap</td>\n",
       "      <td>56.82</td>\n",
       "      <td>59.86</td>\n",
       "      <td>NSE:JUBLPHARMA,</td>\n",
       "    </tr>\n",
       "    <tr>\n",
       "      <th>53</th>\n",
       "      <td>NSE:MARKSANS</td>\n",
       "      <td>Pharmaceuticals &amp; Drugs-HealthcareMid Cap</td>\n",
       "      <td>59.48</td>\n",
       "      <td>62.52</td>\n",
       "      <td>NSE:MARKSANS,</td>\n",
       "    </tr>\n",
       "    <tr>\n",
       "      <th>54</th>\n",
       "      <td>NSE:NEULANDLAB</td>\n",
       "      <td>Pharmaceuticals &amp; Drugs-HealthcareMid Cap</td>\n",
       "      <td>86.34</td>\n",
       "      <td>89.39</td>\n",
       "      <td>NSE:NEULANDLAB,</td>\n",
       "    </tr>\n",
       "    <tr>\n",
       "      <th>55</th>\n",
       "      <td>NSE:STAR</td>\n",
       "      <td>Pharmaceuticals &amp; Drugs-HealthcareMid Cap</td>\n",
       "      <td>49.26</td>\n",
       "      <td>52.30</td>\n",
       "      <td>NSE:STAR,</td>\n",
       "    </tr>\n",
       "    <tr>\n",
       "      <th>56</th>\n",
       "      <td>NSE:WOCKPHARMA</td>\n",
       "      <td>Pharmaceuticals &amp; Drugs-HealthcareMid Cap</td>\n",
       "      <td>50.09</td>\n",
       "      <td>53.14</td>\n",
       "      <td>NSE:WOCKPHARMA,</td>\n",
       "    </tr>\n",
       "    <tr>\n",
       "      <th>57</th>\n",
       "      <td>NSE:INNOVACAP</td>\n",
       "      <td>Pharmaceuticals &amp; Drugs-HealthcareMid Cap</td>\n",
       "      <td>57.88</td>\n",
       "      <td>60.92</td>\n",
       "      <td>NSE:INNOVACAP,</td>\n",
       "    </tr>\n",
       "    <tr>\n",
       "      <th>58</th>\n",
       "      <td>NSE:CONCORDBIO</td>\n",
       "      <td>Pharmaceuticals &amp; Drugs-HealthcareMid Cap</td>\n",
       "      <td>27.17</td>\n",
       "      <td>30.22</td>\n",
       "      <td>NSE:CONCORDBIO,</td>\n",
       "    </tr>\n",
       "    <tr>\n",
       "      <th>59</th>\n",
       "      <td>NSE:PIXTRANS</td>\n",
       "      <td>Rubber Products/AGRICULTURE</td>\n",
       "      <td>56.91</td>\n",
       "      <td>59.95</td>\n",
       "      <td>NSE:PIXTRANS,</td>\n",
       "    </tr>\n",
       "  </tbody>\n",
       "</table>\n",
       "</div>"
      ],
      "text/plain": [
       "            SYMBOL                                             Sector  \\\n",
       "0      NSE:NIITLTD        IT - EducationInformation TechnologyMid Cap   \n",
       "1        NSE:TARIL  Electric EquipmentElectric EquipmentCAPITAL GO...   \n",
       "2      NSE:GOLDIAM                                Diamond & Jewellery   \n",
       "3   NSE:PCJEWELLER                                Diamond & Jewellery   \n",
       "4          NSE:RGL                                Diamond & Jewellery   \n",
       "5          NSE:TBZ                                Diamond & Jewellery   \n",
       "6   NSE:RADHIKAJWE                                Diamond & Jewellery   \n",
       "7      NSE:SKYGOLD                                Diamond & Jewellery   \n",
       "8     NSE:RBZJEWEL                                Diamond & Jewellery   \n",
       "9     NSE:MOTISONS                                Diamond & Jewellery   \n",
       "10  NSE:CARERATING                                            Ratings   \n",
       "11     NSE:POLYMED   Medical Equipment/Supplies/AccessoriesHealthcare   \n",
       "12       NSE:PAYTM                     Fintech-Information Technology   \n",
       "13   NSE:POLICYBZR                     Fintech-Information Technology   \n",
       "14      NSE:ZAGGLE                     Fintech-Information Technology   \n",
       "15    NSE:SEJALLTD                        Glass-CONSTRUCTION MATERIAL   \n",
       "16  NSE:HINDNATGLS                        Glass-CONSTRUCTION MATERIAL   \n",
       "17    NSE:INDHOTEL   Hotel, Resort & Restaurants-HospitalityLarge Cap   \n",
       "18         NSE:BSE                                   Finance - Others   \n",
       "19    NSE:KFINTECH                                   Finance - Others   \n",
       "20     NSE:PRUDENT                                   Finance - Others   \n",
       "21       NSE:AMBER                 Air Conditioners-CONSUMER DURABLES   \n",
       "22       NSE:EPACK                 Air Conditioners-CONSUMER DURABLES   \n",
       "23      NSE:FORTIS          Hospital & Healthcare Services-Healthcare   \n",
       "24     NSE:ASTERDM          Hospital & Healthcare Services-Healthcare   \n",
       "25        NSE:KIMS          Hospital & Healthcare Services-Healthcare   \n",
       "26     NSE:RAINBOW          Hospital & Healthcare Services-Healthcare   \n",
       "27         NSE:HCG          Hospital & Healthcare Services-Healthcare   \n",
       "28      NSE:VIJAYA          Hospital & Healthcare Services-Healthcare   \n",
       "29   NSE:THYROCARE          Hospital & Healthcare Services-Healthcare   \n",
       "30      NSE:KRSNAA          Hospital & Healthcare Services-Healthcare   \n",
       "31  NSE:ARTEMISMED          Hospital & Healthcare Services-Healthcare   \n",
       "32   NSE:VIMTALABS          Hospital & Healthcare Services-Healthcare   \n",
       "33  NSE:INDRAMEDCO          Hospital & Healthcare Services-Healthcare   \n",
       "34    NSE:YATHARTH          Hospital & Healthcare Services-Healthcare   \n",
       "35    NSE:ANGELONE                            Finance - Stock Broking   \n",
       "36  NSE:MOTILALOFS                            Finance - Stock Broking   \n",
       "37         NSE:MCX                            Finance - Stock Broking   \n",
       "38    NSE:CHOICEIN                            Finance - Stock Broking   \n",
       "39       NSE:DHANI                            Finance - Stock Broking   \n",
       "40   NSE:GEOJITFSL                            Finance - Stock Broking   \n",
       "41     NSE:MONARCH                            Finance - Stock Broking   \n",
       "42  NSE:ARIHANTCAP                            Finance - Stock Broking   \n",
       "43      NSE:SIYSIL                                  Textile - Weaving   \n",
       "44  NSE:UNITEDPOLY                                  Textile - Weaving   \n",
       "45   NSE:AARVEEDEN                                  Textile - Weaving   \n",
       "46  NSE:LAURUSLABS          Pharmaceuticals & Drugs-HealthcareMid Cap   \n",
       "47     NSE:IPCALAB          Pharmaceuticals & Drugs-HealthcareMid Cap   \n",
       "48   NSE:SUVENPHAR          Pharmaceuticals & Drugs-HealthcareMid Cap   \n",
       "49        NSE:ERIS          Pharmaceuticals & Drugs-HealthcareMid Cap   \n",
       "50         NSE:GLS          Pharmaceuticals & Drugs-HealthcareMid Cap   \n",
       "51  NSE:CAPLIPOINT          Pharmaceuticals & Drugs-HealthcareMid Cap   \n",
       "52  NSE:JUBLPHARMA          Pharmaceuticals & Drugs-HealthcareMid Cap   \n",
       "53    NSE:MARKSANS          Pharmaceuticals & Drugs-HealthcareMid Cap   \n",
       "54  NSE:NEULANDLAB          Pharmaceuticals & Drugs-HealthcareMid Cap   \n",
       "55        NSE:STAR          Pharmaceuticals & Drugs-HealthcareMid Cap   \n",
       "56  NSE:WOCKPHARMA          Pharmaceuticals & Drugs-HealthcareMid Cap   \n",
       "57   NSE:INNOVACAP          Pharmaceuticals & Drugs-HealthcareMid Cap   \n",
       "58  NSE:CONCORDBIO          Pharmaceuticals & Drugs-HealthcareMid Cap   \n",
       "59    NSE:PIXTRANS                        Rubber Products/AGRICULTURE   \n",
       "\n",
       "    ALPHA NEW L/N  ALPHA NEW L/S         NSE CODE  \n",
       "0           77.62          80.66     NSE:NIITLTD,  \n",
       "1          460.45         463.50       NSE:TARIL,  \n",
       "2           65.53          68.58     NSE:GOLDIAM,  \n",
       "3           71.06          74.11  NSE:PCJEWELLER,  \n",
       "4           73.44          76.48         NSE:RGL,  \n",
       "5           54.16          57.20         NSE:TBZ,  \n",
       "6           37.81          40.86  NSE:RADHIKAJWE,  \n",
       "7           87.94          90.99     NSE:SKYGOLD,  \n",
       "8           37.52          40.56    NSE:RBZJEWEL,  \n",
       "9           78.47          81.52    NSE:MOTISONS,  \n",
       "10          50.10          53.14  NSE:CARERATING,  \n",
       "11          46.32          49.37     NSE:POLYMED,  \n",
       "12          78.90          81.95       NSE:PAYTM,  \n",
       "13          25.89          28.94   NSE:POLICYBZR,  \n",
       "14          49.67          52.71      NSE:ZAGGLE,  \n",
       "15          46.23          49.28    NSE:SEJALLTD,  \n",
       "16          41.82          44.87  NSE:HINDNATGLS,  \n",
       "17          20.45          23.50    NSE:INDHOTEL,  \n",
       "18          80.09          83.14         NSE:BSE,  \n",
       "19          29.45          32.50    NSE:KFINTECH,  \n",
       "20          28.76          31.81     NSE:PRUDENT,  \n",
       "21          36.87          39.92       NSE:AMBER,  \n",
       "22          52.15          55.20       NSE:EPACK,  \n",
       "23          28.51          31.56      NSE:FORTIS,  \n",
       "24          40.94          43.99     NSE:ASTERDM,  \n",
       "25          32.96          36.01        NSE:KIMS,  \n",
       "26          30.60          33.65     NSE:RAINBOW,  \n",
       "27          38.32          41.37         NSE:HCG,  \n",
       "28          41.54          44.58      NSE:VIJAYA,  \n",
       "29          19.05          22.09   NSE:THYROCARE,  \n",
       "30          42.98          46.03      NSE:KRSNAA,  \n",
       "31          20.35          23.40  NSE:ARTEMISMED,  \n",
       "32          61.20          64.25   NSE:VIMTALABS,  \n",
       "33          70.16          73.21  NSE:INDRAMEDCO,  \n",
       "34          26.51          29.56    NSE:YATHARTH,  \n",
       "35          30.27          33.32    NSE:ANGELONE,  \n",
       "36          36.43          39.48  NSE:MOTILALOFS,  \n",
       "37          41.24          44.29         NSE:MCX,  \n",
       "38          29.66          32.71    NSE:CHOICEIN,  \n",
       "39          37.48          40.53       NSE:DHANI,  \n",
       "40          16.91          19.96   NSE:GEOJITFSL,  \n",
       "41          21.62          24.67     NSE:MONARCH,  \n",
       "42          34.08          37.13  NSE:ARIHANTCAP,  \n",
       "43          43.80          46.85      NSE:SIYSIL,  \n",
       "44          66.49          69.54  NSE:UNITEDPOLY,  \n",
       "45          86.93          89.97   NSE:AARVEEDEN,  \n",
       "46          19.15          22.20  NSE:LAURUSLABS,  \n",
       "47          14.80          17.84     NSE:IPCALAB,  \n",
       "48          27.14          30.19   NSE:SUVENPHAR,  \n",
       "49          23.06          26.11        NSE:ERIS,  \n",
       "50          18.69          21.74         NSE:GLS,  \n",
       "51          36.48          39.53  NSE:CAPLIPOINT,  \n",
       "52          56.82          59.86  NSE:JUBLPHARMA,  \n",
       "53          59.48          62.52    NSE:MARKSANS,  \n",
       "54          86.34          89.39  NSE:NEULANDLAB,  \n",
       "55          49.26          52.30        NSE:STAR,  \n",
       "56          50.09          53.14  NSE:WOCKPHARMA,  \n",
       "57          57.88          60.92   NSE:INNOVACAP,  \n",
       "58          27.17          30.22  NSE:CONCORDBIO,  \n",
       "59          56.91          59.95    NSE:PIXTRANS,  "
      ]
     },
     "execution_count": 10,
     "metadata": {},
     "output_type": "execute_result"
    }
   ],
   "source": [
    "stock = pd.concat(result,ignore_index=True)\n",
    "stock.head(60)"
   ]
  },
  {
   "cell_type": "code",
   "execution_count": 11,
   "id": "3c132cc4-6841-4266-b0ff-33919f99d803",
   "metadata": {},
   "outputs": [
    {
     "name": "stdout",
     "output_type": "stream",
     "text": [
      "NSE:NIITLTD,\n",
      "NSE:TARIL,\n",
      "NSE:GOLDIAM,\n",
      "NSE:PCJEWELLER,\n",
      "NSE:RGL,\n",
      "NSE:TBZ,\n",
      "NSE:RADHIKAJWE,\n",
      "NSE:SKYGOLD,\n",
      "NSE:RBZJEWEL,\n",
      "NSE:MOTISONS,\n",
      "NSE:CARERATING,\n",
      "NSE:POLYMED,\n",
      "NSE:PAYTM,\n",
      "NSE:POLICYBZR,\n",
      "NSE:ZAGGLE,\n",
      "NSE:SEJALLTD,\n",
      "NSE:HINDNATGLS,\n",
      "NSE:INDHOTEL,\n",
      "NSE:BSE,\n",
      "NSE:KFINTECH,\n",
      "NSE:PRUDENT,\n",
      "NSE:AMBER,\n",
      "NSE:EPACK,\n",
      "NSE:FORTIS,\n",
      "NSE:ASTERDM,\n",
      "NSE:KIMS,\n",
      "NSE:RAINBOW,\n",
      "NSE:HCG,\n",
      "NSE:VIJAYA,\n",
      "NSE:THYROCARE,\n",
      "NSE:KRSNAA,\n",
      "NSE:ARTEMISMED,\n",
      "NSE:VIMTALABS,\n",
      "NSE:INDRAMEDCO,\n",
      "NSE:YATHARTH,\n",
      "NSE:ANGELONE,\n",
      "NSE:MOTILALOFS,\n",
      "NSE:MCX,\n",
      "NSE:CHOICEIN,\n",
      "NSE:DHANI,\n",
      "NSE:GEOJITFSL,\n",
      "NSE:MONARCH,\n",
      "NSE:ARIHANTCAP,\n",
      "NSE:SIYSIL,\n",
      "NSE:UNITEDPOLY,\n",
      "NSE:AARVEEDEN,\n",
      "NSE:LAURUSLABS,\n",
      "NSE:IPCALAB,\n",
      "NSE:SUVENPHAR,\n",
      "NSE:ERIS,\n",
      "NSE:GLS,\n",
      "NSE:CAPLIPOINT,\n",
      "NSE:JUBLPHARMA,\n",
      "NSE:MARKSANS,\n",
      "NSE:NEULANDLAB,\n",
      "NSE:STAR,\n",
      "NSE:WOCKPHARMA,\n",
      "NSE:INNOVACAP,\n",
      "NSE:CONCORDBIO,\n",
      "NSE:PIXTRANS,\n",
      "NSE:ELGIRUBCO,\n",
      "NSE:JGCHEM,\n",
      "NSE:DGCONTENT,\n",
      "NSE:DOMS,\n",
      "NSE:VISASTEEL,\n",
      "NSE:MANAKCOAT,\n",
      "NSE:MAHASTEEL,\n",
      "NSE:SALSTEEL,\n",
      "NSE:KAYNES,\n",
      "NSE:SYRMA,\n",
      "NSE:AVALON,\n",
      "NSE:WEBELSOLAR,\n",
      "NSE:PREMIERENE,\n",
      "NSE:MEDPLUS,\n",
      "NSE:AMIORG,\n",
      "NSE:HIKAL,\n",
      "NSE:UNICHEMLAB,\n",
      "NSE:SHILPAMED,\n",
      "NSE:SUPRIYA,\n",
      "NSE:GUFICBIO,\n",
      "NSE:DCAL,\n",
      "NSE:SEQUENT,\n",
      "NSE:ORCHPHARMA,\n",
      "NSE:THEMISMED,\n",
      "NSE:MOREPENLAB,\n",
      "NSE:RPGLIFE,\n",
      "NSE:SOLARA,\n",
      "NSE:JAGSNPHARM,\n",
      "NSE:BLISSGVS,\n",
      "NSE:PANACEABIO,\n",
      "NSE:MEDICO,\n",
      "NSE:SYNCOMF,\n",
      "NSE:WINDLAS,\n",
      "NSE:LYKALABS,\n",
      "NSE:STYLAMIND,\n",
      "NSE:WIPL,\n",
      "NSE:NELCO,\n",
      "NSE:E2E,\n",
      "NSE:NETWEB,\n",
      "NSE:IEL,\n",
      "NSE:KAPSTON,\n",
      "NSE:YAARI,\n",
      "NSE:STERTOOLS,\n",
      "NSE:MANORAMA,\n",
      "NSE:GARFIBRES,\n",
      "NSE:MONTECARLO,\n",
      "NSE:PGIL,\n",
      "NSE:KITEX,\n",
      "NSE:HIMATSEIDE,\n",
      "NSE:CENTENKA,\n",
      "NSE:AYMSYNTEX,\n",
      "NSE:LMW,\n",
      "NSE:GOKULAGRO,\n",
      "NSE:GOKUL,\n",
      "NSE:KRITINUT,\n",
      "NSE:RADICO,\n",
      "NSE:TI,\n",
      "NSE:ASALCBR,\n",
      "NSE:AGI,\n",
      "NSE:DIXON,\n",
      "NSE:ABSLAMC,\n",
      "NSE:UTIAMC,\n",
      "NSE:GILLANDERS,\n",
      "NSE:PCBL,\n",
      "NSE:CARTRADE,\n",
      "NSE:ZOMATO,\n",
      "NSE:SWIGGY,\n",
      "NSE:FIRSTCRY,\n",
      "NSE:SUDARSCHEM,\n",
      "NSE:VIDHIING,\n",
      "NSE:KIRIINDUS,\n",
      "NSE:SHREEPUSHK,\n",
      "NSE:BHAGERIA,\n",
      "NSE:DYNPRO,\n",
      "NSE:MASTEK,\n",
      "NSE:NAZARA,\n",
      "NSE:BCG,\n",
      "NSE:CIGNITITEC,\n",
      "NSE:RPSGVENT,\n",
      "NSE:SASKEN,\n",
      "NSE:GENESYS,\n",
      "NSE:AURUM,\n",
      "NSE:RAMCOSYS,\n",
      "NSE:63MOONS,\n",
      "NSE:ADSL,\n",
      "NSE:KERNEX,\n",
      "NSE:GEECEE,\n",
      "NSE:EMAMIREAL,\n",
      "NSE:KBCGLOBAL,\n",
      "NSE:ATALREAL,\n",
      "NSE:DBEIL,\n",
      "NSE:GARUDA,\n",
      "NSE:GRAVITA,\n",
      "NSE:RAMRAT,\n",
      "NSE:POCL,\n",
      "NSE:MCL,\n",
      "NSE:OPTIEMUS,\n",
      "NSE:HEXATRADEX,\n",
      "NSE:ORIENTTECH,\n",
      "NSE:ENTERO,\n",
      "NSE:MUFTI,\n",
      "NSE:EPL,\n",
      "NSE:POLYPLEX,\n",
      "NSE:KINGFA,\n",
      "NSE:TIMETECHNO,\n",
      "NSE:GRWRHITECH,\n",
      "NSE:XPROINDIA,\n",
      "NSE:SHAILY,\n",
      "NSE:ESTER,\n",
      "NSE:TRITURBINE,\n",
      "NSE:PRAJIND,\n",
      "NSE:NESCO,\n",
      "NSE:SHRIPISTON,\n",
      "NSE:GENUSPOWER,\n",
      "NSE:ANUP,\n",
      "NSE:SKIPPER,\n",
      "NSE:ANANDRATHI,\n",
      "NSE:JYOTICNC,\n",
      "NSE:AZAD,\n",
      "NSE:NAUKRI,\n",
      "NSE:AFFLE,\n",
      "NSE:CAMS,\n",
      "NSE:FSL,\n",
      "NSE:ECLERX,\n",
      "NSE:VAKRANGEE,\n",
      "NSE:CREATIVE,\n",
      "NSE:IRIS,\n",
      "NSE:DIVISLAB,\n",
      "NSE:TORNTPHARM,\n",
      "NSE:EMCURE,\n",
      "NSE:MANKIND,\n",
      "NSE:GODFRYPHLP,\n",
      "NSE:DYNAMATECH,\n",
      "NSE:SHAKTIPUMP,\n",
      "NSE:LATTEYS,\n",
      "NSE:MUTHOOTFIN,\n",
      "NSE:PEL,\n",
      "NSE:TATAINVEST,\n",
      "NSE:CDSL,\n",
      "NSE:EDELWEISS,\n",
      "NSE:CHOLAHLDNG,\n",
      "NSE:JMFINANCIL,\n",
      "NSE:IIFLSEC,\n",
      "NSE:NRL,\n",
      "NSE:OSWALAGRO,\n",
      "NSE:EQUIPPP,\n",
      "NSE:TEMBO,\n",
      "NSE:GOYALALUM,\n",
      "NSE:UMAEXPORTS,\n",
      "NSE:SSDL,\n",
      "NSE:LLOYDSME,\n",
      "NSE:JSWSTEEL,\n",
      "NSE:SHYAMMETL,\n",
      "NSE:WELCORP,\n",
      "NSE:SARDAEN,\n",
      "NSE:PILITA,\n",
      "NSE:PREMIERPOL,\n",
      "NSE:RPPL,\n",
      "NSE:EMMBI,\n",
      "NSE:BALAJEE,\n",
      "NSE:IGARASHI,\n",
      "NSE:SERVOTECH,\n",
      "NSE:SALZERELEC,\n",
      "NSE:HIRECT,\n",
      "NSE:INDOTECH,\n",
      "NSE:MODISONLTD,\n",
      "NSE:POKARNA,\n",
      "NSE:EXXARO,\n",
      "NSE:NITCO,\n",
      "NSE:DIFFNKG,\n",
      "NSE:KABRAEXTRU,\n",
      "NSE:JASH,\n",
      "NSE:EKC,\n",
      "NSE:ELIN,\n",
      "NSE:MALLCOM,\n",
      "NSE:UNIDT,\n",
      "NSE:PAVNAIND,\n",
      "NSE:WINDMACHIN,\n",
      "NSE:KRN,\n",
      "NSE:GALAPREC,\n",
      "NSE:AEROFLEX,\n",
      "NSE:TRENT,\n",
      "NSE:VMART,\n",
      "NSE:ARVINDFASN,\n",
      "NSE:ETHOSLTD,\n",
      "NSE:V2RETAIL,\n",
      "NSE:OSIAHYPER,\n",
      "NSE:FCONSUMER,\n",
      "NSE:PNGJL,\n",
      "NSE:STYLEBAAZA,\n",
      "NSE:JUBLFOOD,\n",
      "NSE:BIKAJI,\n",
      "NSE:BECTORFOOD,\n",
      "NSE:LTFOODS,\n",
      "NSE:DODLA,\n",
      "NSE:SYMPHONY,\n",
      "NSE:BOROLTD,\n",
      "NSE:PGEL,\n",
      "NSE:STOVEKRAFT,\n",
      "NSE:CENTURYPLY,\n",
      "NSE:ARCHIDPLY,\n",
      "NSE:HCLTECH,\n",
      "NSE:WIPRO,\n",
      "NSE:LTIM,\n",
      "NSE:TECHM,\n",
      "NSE:LTTS,\n",
      "NSE:PERSISTENT,\n",
      "NSE:MPHASIS,\n",
      "NSE:OFSS,\n",
      "NSE:COFORGE,\n",
      "NSE:CYIENT,\n",
      "NSE:NEWGEN,\n",
      "NSE:ZENTEC,\n",
      "NSE:TASTYBITE,\n",
      "NSE:DIAMONDYD,\n",
      "NSE:ADFFOODS,\n",
      "NSE:PARAGMILK,\n",
      "NSE:CLSEL,\n",
      "NSE:SUKHJITS,\n",
      "NSE:IFBAGRO,\n",
      "NSE:EIFFL,\n",
      "NSE:SARVESHWAR,\n",
      "NSE:SANSTAR,\n",
      "NSE:GOPAL,\n",
      "NSE:NATIONALUM,\n",
      "NSE:HARDWYN,\n",
      "NSE:MAANALU,\n",
      "NSE:JYOTISTRUC,\n",
      "NSE:BAJAJHLDNG,\n",
      "NSE:SHRIRAMFIN,\n",
      "NSE:CEATLTD,\n",
      "NSE:TOLINS,\n",
      "NSE:IMFA,\n",
      "NSE:COROMANDEL,\n",
      "NSE:CHAMBLFERT,\n",
      "NSE:DEEPAKFERT,\n",
      "NSE:PARADEEP,\n",
      "NSE:MANGCHEFER,\n",
      "NSE:ZUARI,\n",
      "NSE:RAMAPHO,\n",
      "NSE:ARIES,\n",
      "NSE:HEUBACHIND,\n",
      "NSE:LXCHEM,\n",
      "NSE:GUJALKALI,\n",
      "NSE:GHCL,\n",
      "NSE:PRIVISCL,\n",
      "NSE:NEOGEN,\n",
      "NSE:CAMLINFINE,\n",
      "NSE:MOL,\n",
      "NSE:INDIAGLYCO,\n",
      "NSE:TIRUMALCHM,\n",
      "NSE:SHK,\n",
      "NSE:DCW,\n",
      "NSE:OAL,\n",
      "NSE:SRHHYPOLTD,\n",
      "NSE:DVL,\n",
      "NSE:INDOAMIN,\n",
      "NSE:CHEMFAB,\n",
      "NSE:PLATIND,\n",
      "NSE:RAJRILTD,\n",
      "NSE:GANECOS,\n",
      "NSE:PASUPTAC,\n",
      "NSE:SIEMENS,\n",
      "NSE:CGPOWER,\n",
      "NSE:LT,\n",
      "NSE:AXISBANK,\n",
      "NSE:BEL,\n",
      "NSE:GALLANTT,\n",
      "NSE:MAHSEAMLES,\n",
      "NSE:BANSALWIRE,\n",
      "NSE:RAMASTEEL,\n",
      "NSE:SHANKARA,\n",
      "NSE:KSL,\n",
      "NSE:GOODLUCK,\n",
      "NSE:HITECH,\n",
      "NSE:PENIND,\n",
      "NSE:MSPL,\n",
      "NSE:ELECTHERM,\n",
      "NSE:RATNAVEER,\n",
      "NSE:DALBHARAT,\n",
      "NSE:RAMCOCEM,\n",
      "NSE:NUVOCO,\n",
      "NSE:PRSMJOHNSN,\n",
      "NSE:INDIACEM,\n",
      "NSE:ORIENTCEM,\n",
      "NSE:KESORAMIND,\n",
      "NSE:REFEX,\n",
      "NSE:CCL,\n",
      "NSE:JAYSREETEA,\n",
      "NSE:DTIL,\n",
      "NSE:MCLEODRUSS,\n",
      "NSE:UNITEDTEA,\n",
      "NSE:PVRINOX,\n",
      "NSE:TIPSMUSIC,\n",
      "NSE:BALAJITELE,\n",
      "NSE:SHEMAROO,\n",
      "NSE:TIPSFILMS,\n",
      "NSE:MUKTAARTS,\n",
      "NSE:BAGFILMS,\n",
      "NSE:CINEVISTA,\n",
      "NSE:KAMATHOTEL,\n",
      "NSE:APOLSINHOT,\n",
      "NSE:ASIANHOTNR,\n",
      "NSE:GIRRESORTS,\n",
      "NSE:AHLEAST,\n",
      "NSE:MODIRUBBER,\n",
      "NSE:PIDILITIND,\n",
      "NSE:FLUOROCHEM,\n",
      "NSE:SOLARINDS,\n",
      "NSE:TATACHEM,\n",
      "NSE:GODREJIND,\n",
      "NSE:JUBLINGREA,\n",
      "NSE:HSCL,\n",
      "NSE:PAGEIND,\n",
      "NSE:MANYAVAR,\n",
      "NSE:KPRMILL,\n",
      "NSE:SANSERA,\n",
      "NSE:PRICOLLTD,\n",
      "NSE:FIEMIND,\n",
      "NSE:BANCOINDIA,\n",
      "NSE:GNA,\n",
      "NSE:PRECAM,\n",
      "NSE:RML,\n",
      "NSE:MUNJALAU,\n",
      "NSE:NDRAUTO,\n",
      "NSE:KROSS,\n",
      "NSE:ASKAUTOLTD,\n",
      "NSE:JINDRILL,\n",
      "NSE:SELAN,\n",
      "NSE:ASIANENE,\n",
      "NSE:ABAN,\n",
      "NSE:DIVGIITTS,\n",
      "NSE:DEEPINDS,\n",
      "NSE:PITTIENG,\n",
      "NSE:SOUTHWEST,\n",
      "NSE:AARON,\n",
      "NSE:PRITIKAUTO,\n",
      "NSE:OBEROIRLTY,\n",
      "NSE:BRIGADE,\n",
      "NSE:ANANTRAJ,\n",
      "NSE:UPL,\n",
      "NSE:SUMICHEM,\n",
      "NSE:BASF,\n",
      "NSE:BHARATRAS,\n",
      "NSE:SHARDACROP,\n",
      "NSE:RALLIS,\n",
      "NSE:BESTAGRO,\n",
      "NSE:HERANBA,\n",
      "NSE:EXCELINDUS,\n",
      "NSE:RUSTOMJEE,\n",
      "NSE:GANESHHOUC,\n",
      "NSE:PSPPROJECT,\n",
      "NSE:KOLTEPATIL,\n",
      "NSE:WELENT,\n",
      "NSE:ARVSMART,\n",
      "NSE:TARC,\n",
      "NSE:MARATHON,\n",
      "NSE:AJMERA,\n",
      "NSE:SHRIRAMPPS,\n",
      "NSE:CAPACITE,\n",
      "NSE:ARIHANTSUP,\n",
      "NSE:SBGLP,\n",
      "NSE:HUBTOWN,\n",
      "NSE:ARKADE,\n",
      "NSE:BFUTILITIE,\n",
      "NSE:GMRP&UI,\n",
      "NSE:ACMESOLAR,\n",
      "NSE:DLINKINDIA,\n",
      "NSE:WABAG,\n",
      "NSE:SJS,\n",
      "NSE:ARROWGREEN,\n",
      "NSE:AWFIS,\n",
      "NSE:UDS,\n",
      "NSE:DCMSHRIRAM,\n",
      "NSE:POLYCAB,\n",
      "NSE:KEI,\n",
      "NSE:PRECWIRE,\n",
      "NSE:DYCL,\n",
      "NSE:AKSHOPTFBR,\n",
      "NSE:DMCC,\n",
      "NSE:INDOBORAX,\n",
      "NSE:DICIND,\n",
      "NSE:PAR,\n",
      "NSE:KRONOX,\n",
      "NSE:MPSLTD,\n",
      "NSE:SANDESH,\n",
      "NSE:DJML,\n",
      "NSE:POWERGRID,\n",
      "NSE:CESC,\n",
      "NSE:RPOWER,\n",
      "NSE:RELINFRA,\n",
      "NSE:NAVA,\n",
      "NSE:IWEL,\n",
      "NSE:PNBHOUSING,\n",
      "NSE:APTUS,\n",
      "NSE:AAVAS,\n",
      "NSE:CANFINHOME,\n",
      "NSE:HOMEFIRST,\n",
      "NSE:BAJAJHFL,\n",
      "NSE:KEC,\n",
      "NSE:MANINFRA,\n",
      "NSE:ITDCEM,\n",
      "NSE:ASHOKA,\n",
      "NSE:SEPC,\n",
      "NSE:SIMPLEXINF,\n",
      "NSE:SPMLINFRA,\n",
      "NSE:AFCONS,\n",
      "NSE:INTERARCH,\n",
      "NSE:CEIGALL,\n",
      "NSE:SRM,\n",
      "NSE:EMSLIMITED,\n",
      "NSE:VPRPL,\n",
      "NSE:ICICIPRULI,\n",
      "NSE:NIVABUPA,\n",
      "NSE:SAGILITY,\n",
      "NSE:GODIGIT,\n",
      "NSE:AADHARHFC,\n",
      "NSE:MEDIASSIST,\n",
      "NSE:SBIN,\n",
      "NSE:BANKBARODA,\n",
      "NSE:PGHH,\n",
      "NSE:GILLETTE,\n",
      "NSE:GALAXYSURF,\n",
      "NSE:VIPIND,\n",
      "NSE:SAFARI,\n",
      "NSE:CARYSIL,\n",
      "NSE:AARTISURF,\n",
      "NSE:CUPID,\n",
      "NSE:INDOSTAR,\n",
      "NSE:SASTASUNDR,\n",
      "NSE:VHL,\n",
      "NSE:SUMMITSEC,\n",
      "NSE:MUTHOOTCAP,\n",
      "NSE:CREST,\n",
      "NSE:THEINVEST,\n",
      "NSE:NAHARCAP,\n",
      "NSE:BAIDFIN,\n",
      "NSE:CONSOFINVT,\n",
      "NSE:MANBA,\n",
      "NSE:NORTHARC,\n",
      "NSE:ITI,\n",
      "NSE:HFCL,\n",
      "NSE:BBOX,\n",
      "NSE:EIDPARRY,\n",
      "NSE:BALRAMCHIN,\n",
      "NSE:TRIVENI,\n",
      "NSE:BANARISUG,\n",
      "NSE:DALMIASUG,\n",
      "NSE:DBOL,\n",
      "NSE:AVADHSUGAR,\n",
      "NSE:MAGADSUGAR,\n",
      "NSE:GODAVARIB,\n",
      "NSE:FILATEX,\n",
      "NSE:NITINSPIN,\n",
      "NSE:PRECOT,\n",
      "NSE:GINNIFILA,\n",
      "NSE:SHIVATEX,\n",
      "NSE:PIONEEREMB,\n",
      "NSE:CHALET,\n",
      "NSE:ORIENTHOT,\n",
      "NSE:TAJGVK,\n",
      "NSE:PARKHOTELS,\n",
      "NSE:SAMHI,\n",
      "NSE:VBL,\n",
      "NSE:AKZOINDIA,\n",
      "NSE:INDIGOPNTS,\n",
      "NSE:INDIGO,\n",
      "NSE:WONDERLA,\n",
      "NSE:RKFORGE,\n",
      "NSE:HILTON,\n",
      "NSE:BOSCHLTD,\n",
      "NSE:BLUEDART,\n",
      "NSE:VRLLOG,\n",
      "NSE:TCI,\n",
      "NSE:NAVKARCORP,\n",
      "NSE:RITCO,\n",
      "NSE:NECCLTD,\n",
      "NSE:SVLL,\n",
      "NSE:ASPINWALL,\n",
      "NSE:TARACHAND,\n",
      "NSE:OBCL,\n",
      "NSE:WCIL,\n",
      "NSE:TVSSCS,\n",
      "NSE:VESUVIUS,\n",
      "NSE:SONACOMS,\n",
      "NSE:UNOMINDA,\n",
      "NSE:ENDURANCE,\n",
      "NSE:MINDACORP,\n",
      "NSE:MAHSCOOTER,\n",
      "NSE:INFOBEAN,\n",
      "NSE:NINSYS,\n",
      "NSE:CYBERTECH,\n",
      "NSE:DEVIT,\n",
      "NSE:IZMO,\n",
      "NSE:MEGASOFT,\n",
      "NSE:AIRAN,\n",
      "NSE:DRCSYSTEMS,\n",
      "NSE:VISESHINFO,\n",
      "NSE:SOFTTECH,\n",
      "NSE:XELPMOC,\n",
      "NSE:ASHOKLEY,\n",
      "NSE:VSTTILLERS,\n",
      "NSE:M&M,\n",
      "NSE:BAJAJ-AUTO,\n",
      "NSE:EICHERMOT,\n",
      "NSE:TVSMOTOR,\n",
      "NSE:HYUNDAI,\n",
      "NSE:OLAELEC,\n",
      "NSE:GLOBAL,\n",
      "NSE:CLEDUCATE,\n",
      "NSE:HBLPOWER,\n",
      "NSE:EVEREADY,\n",
      "NSE:WENDT,\n",
      "NSE:ULTRACEMCO,\n",
      "NSE:GRASIM,\n",
      "NSE:HDFCBANK,\n",
      "NSE:ICICIBANK,\n",
      "NSE:AUBANK,\n",
      "NSE:FEDERALBNK,\n",
      "NSE:CUB,\n",
      "NSE:KARURVYSYA,\n",
      "NSE:TMB,\n",
      "NSE:J&KBANK,\n",
      "NSE:KTKBANK,\n",
      "NSE:BBTC,\n",
      "NSE:VENKEYS,\n",
      "NSE:MGEL,\n",
      "NSE:HARRMALAYA,\n",
      "NSE:BLS,\n",
      "NSE:ECOSMOBLTY,\n",
      "NSE:RAIN,\n",
      "NSE:KOTHARIPET,\n",
      "NSE:RBL,\n",
      "NSE:SINTERCOM,\n",
      "NSE:PPAP,\n",
      "NSE:RANEENGINE,\n",
      "NSE:STEELCAS,\n",
      "NSE:SGIL,\n",
      "NSE:GTPL,\n",
      "NSE:ZEEMEDIA,\n",
      "NSE:NDLVENTURE,\n",
      "NSE:RAJTV,\n",
      "NSE:BTML,\n",
      "NSE:SITINET,\n",
      "NSE:NMDC,\n",
      "NSE:ORISSAMINE,\n",
      "NSE:ASHAPURMIN,\n",
      "NSE:METROBRAND,\n",
      "NSE:BATAINDIA,\n",
      "NSE:CAMPUS,\n",
      "NSE:LIBERTSHOE,\n",
      "NSE:URJA,\n",
      "NSE:GVKPIL,\n",
      "NSE:ENERGYDEV,\n",
      "NSE:GULFOILLUB,\n",
      "NSE:GANDHAR,\n",
      "NSE:HEIDELBERG,\n",
      "NSE:SAGCEM,\n",
      "NSE:KCP,\n",
      "NSE:RAMCOIND,\n",
      "NSE:SHREDIGCEM,\n",
      "NSE:MANGLMCEM,\n",
      "NSE:NCLIND,\n",
      "NSE:HAL,\n",
      "NSE:ASTRAMICRO,\n",
      "NSE:CANBK,\n",
      "NSE:UNIONBANK,\n",
      "NSE:INDIANB,\n",
      "NSE:BANKINDIA,\n",
      "NSE:CENTRALBK,\n",
      "NSE:WSTCSTPAPR,\n",
      "NSE:SESHAPAPER,\n",
      "NSE:ANDHRAPAP,\n",
      "NSE:RUSHIL,\n",
      "NSE:BBTCL,\n",
      "NSE:PDMJEPAPER,\n",
      "NSE:GENUSPAPER,\n",
      "NSE:RUCHIRA,\n",
      "NSE:RAMANEWS,\n",
      "NSE:WORTH,\n",
      "NSE:BHARTIARTL,\n",
      "NSE:TATACOMM,\n",
      "NSE:RCOM,\n",
      "NSE:BHARTIHEXA,\n",
      "NSE:SUPREMEIND,\n",
      "NSE:FINPIPE,\n",
      "NSE:CSBBANK,\n",
      "NSE:DCBBANK,\n",
      "NSE:SOUTHBANK,\n",
      "NSE:FINOPB,\n",
      "NSE:PFC,\n",
      "NSE:MASFIN,\n",
      "NSE:TFCILTD,\n",
      "NSE:CHEVIOT,\n",
      "NSE:RUBYMILLS,\n",
      "NSE:IRISDOREME,\n",
      "NSE:SELMC,\n",
      "NSE:SBC,\n",
      "NSE:ORBTEXP,\n",
      "NSE:VIPCLOTHNG,\n",
      "NSE:NDL,\n",
      "NSE:ZODIACLOTH,\n",
      "NSE:SCHAEFFLER,\n",
      "NSE:SKFINDIA,\n",
      "NSE:NRBBEARING,\n",
      "NSE:MENONBE,\n",
      "NSE:ATGL,\n",
      "NSE:GSPL,\n",
      "NSE:COMPUSOFT,\n",
      "NSE:BGRENERGY,\n",
      "NSE:REPL,\n",
      "NSE:BRNL,\n",
      "NSE:SADBHAV,\n",
      "NSE:KDDL,\n",
      "NSE:REDINGTON,\n",
      "NSE:GPPL,\n",
      "NSE:SCI,\n",
      "NSE:SEAMECLTD,\n",
      "NSE:JSWINFRA,\n",
      "NSE:RELIANCE,\n",
      "NSE:BPCL,\n",
      "NSE:HINDPETRO,\n",
      "NSE:BORORENEW,\n",
      "NSE:KSOLVES,\n",
      "NSE:TEXRAIL,\n",
      "NSE:HONAUT,\n",
      "NSE:MAZDOCK,\n"
     ]
    }
   ],
   "source": [
    "for sym in stock['NSE CODE']:\n",
    "    print(sym)"
   ]
  },
  {
   "cell_type": "code",
   "execution_count": 12,
   "id": "061ec01e-6fb6-46d0-9e5f-25eacce4c647",
   "metadata": {},
   "outputs": [
    {
     "data": {
      "text/html": [
       "<div>\n",
       "<style scoped>\n",
       "    .dataframe tbody tr th:only-of-type {\n",
       "        vertical-align: middle;\n",
       "    }\n",
       "\n",
       "    .dataframe tbody tr th {\n",
       "        vertical-align: top;\n",
       "    }\n",
       "\n",
       "    .dataframe thead th {\n",
       "        text-align: right;\n",
       "    }\n",
       "</style>\n",
       "<table border=\"1\" class=\"dataframe\">\n",
       "  <thead>\n",
       "    <tr style=\"text-align: right;\">\n",
       "      <th></th>\n",
       "      <th>SYMBOL</th>\n",
       "      <th>Sector</th>\n",
       "      <th>ALPHA NEW L/N</th>\n",
       "      <th>ALPHA NEW L/S</th>\n",
       "      <th>NSE CODE</th>\n",
       "    </tr>\n",
       "  </thead>\n",
       "  <tbody>\n",
       "    <tr>\n",
       "      <th>1</th>\n",
       "      <td>NSE:TARIL</td>\n",
       "      <td>Electric EquipmentElectric EquipmentCAPITAL GO...</td>\n",
       "      <td>460.45</td>\n",
       "      <td>463.50</td>\n",
       "      <td>NSE:TARIL,</td>\n",
       "    </tr>\n",
       "    <tr>\n",
       "      <th>107</th>\n",
       "      <td>NSE:KITEX</td>\n",
       "      <td>TextileMid Cap</td>\n",
       "      <td>212.28</td>\n",
       "      <td>215.33</td>\n",
       "      <td>NSE:KITEX,</td>\n",
       "    </tr>\n",
       "    <tr>\n",
       "      <th>89</th>\n",
       "      <td>NSE:PANACEABIO</td>\n",
       "      <td>Pharmaceuticals &amp; Drugs-HealthcareSmall Cap</td>\n",
       "      <td>209.24</td>\n",
       "      <td>212.28</td>\n",
       "      <td>NSE:PANACEABIO,</td>\n",
       "    </tr>\n",
       "    <tr>\n",
       "      <th>206</th>\n",
       "      <td>NSE:TEMBO</td>\n",
       "      <td>TradingSmall Cap</td>\n",
       "      <td>200.45</td>\n",
       "      <td>203.50</td>\n",
       "      <td>NSE:TEMBO,</td>\n",
       "    </tr>\n",
       "    <tr>\n",
       "      <th>97</th>\n",
       "      <td>NSE:E2E</td>\n",
       "      <td>IT - Hardware-CONSUMER DURABLES</td>\n",
       "      <td>150.21</td>\n",
       "      <td>153.26</td>\n",
       "      <td>NSE:E2E,</td>\n",
       "    </tr>\n",
       "    <tr>\n",
       "      <th>...</th>\n",
       "      <td>...</td>\n",
       "      <td>...</td>\n",
       "      <td>...</td>\n",
       "      <td>...</td>\n",
       "      <td>...</td>\n",
       "    </tr>\n",
       "    <tr>\n",
       "      <th>676</th>\n",
       "      <td>NSE:SCI</td>\n",
       "      <td>Shipping-Logistics</td>\n",
       "      <td>-21.42</td>\n",
       "      <td>-18.38</td>\n",
       "      <td>NSE:SCI,</td>\n",
       "    </tr>\n",
       "    <tr>\n",
       "      <th>673</th>\n",
       "      <td>NSE:KDDL</td>\n",
       "      <td>Watches &amp; Accessories-CONSUMER DURABLES</td>\n",
       "      <td>-22.22</td>\n",
       "      <td>-19.18</td>\n",
       "      <td>NSE:KDDL,</td>\n",
       "    </tr>\n",
       "    <tr>\n",
       "      <th>684</th>\n",
       "      <td>NSE:TEXRAIL</td>\n",
       "      <td>Railways Wagons/AUTOMOBILE &amp; ANCILLARIES</td>\n",
       "      <td>-24.19</td>\n",
       "      <td>-21.14</td>\n",
       "      <td>NSE:TEXRAIL,</td>\n",
       "    </tr>\n",
       "    <tr>\n",
       "      <th>682</th>\n",
       "      <td>NSE:BORORENEW</td>\n",
       "      <td>Renewable energy</td>\n",
       "      <td>-24.29</td>\n",
       "      <td>-21.24</td>\n",
       "      <td>NSE:BORORENEW,</td>\n",
       "    </tr>\n",
       "    <tr>\n",
       "      <th>685</th>\n",
       "      <td>NSE:HONAUT</td>\n",
       "      <td>Consumer Durables - Electronics-</td>\n",
       "      <td>-28.22</td>\n",
       "      <td>-25.17</td>\n",
       "      <td>NSE:HONAUT,</td>\n",
       "    </tr>\n",
       "  </tbody>\n",
       "</table>\n",
       "<p>266 rows × 5 columns</p>\n",
       "</div>"
      ],
      "text/plain": [
       "             SYMBOL                                             Sector  \\\n",
       "1         NSE:TARIL  Electric EquipmentElectric EquipmentCAPITAL GO...   \n",
       "107       NSE:KITEX                                     TextileMid Cap   \n",
       "89   NSE:PANACEABIO        Pharmaceuticals & Drugs-HealthcareSmall Cap   \n",
       "206       NSE:TEMBO                                   TradingSmall Cap   \n",
       "97          NSE:E2E                    IT - Hardware-CONSUMER DURABLES   \n",
       "..              ...                                                ...   \n",
       "676         NSE:SCI                                 Shipping-Logistics   \n",
       "673        NSE:KDDL            Watches & Accessories-CONSUMER DURABLES   \n",
       "684     NSE:TEXRAIL           Railways Wagons/AUTOMOBILE & ANCILLARIES   \n",
       "682   NSE:BORORENEW                                   Renewable energy   \n",
       "685      NSE:HONAUT                   Consumer Durables - Electronics-   \n",
       "\n",
       "     ALPHA NEW L/N  ALPHA NEW L/S         NSE CODE  \n",
       "1           460.45         463.50       NSE:TARIL,  \n",
       "107         212.28         215.33       NSE:KITEX,  \n",
       "89          209.24         212.28  NSE:PANACEABIO,  \n",
       "206         200.45         203.50       NSE:TEMBO,  \n",
       "97          150.21         153.26         NSE:E2E,  \n",
       "..             ...            ...              ...  \n",
       "676         -21.42         -18.38         NSE:SCI,  \n",
       "673         -22.22         -19.18        NSE:KDDL,  \n",
       "684         -24.19         -21.14     NSE:TEXRAIL,  \n",
       "682         -24.29         -21.24   NSE:BORORENEW,  \n",
       "685         -28.22         -25.17      NSE:HONAUT,  \n",
       "\n",
       "[266 rows x 5 columns]"
      ]
     },
     "execution_count": 12,
     "metadata": {},
     "output_type": "execute_result"
    }
   ],
   "source": [
    "a = stock.sort_values(by='ALPHA NEW L/N',ascending=False)\n",
    "group_a = a.groupby('Sector').head(2)\n",
    "group_a"
   ]
  },
  {
   "cell_type": "code",
   "execution_count": 13,
   "id": "05870053-32b7-4a38-8bc5-79162ebc2f6c",
   "metadata": {},
   "outputs": [
    {
     "name": "stdout",
     "output_type": "stream",
     "text": [
      "NSE:TARIL,\n",
      "NSE:KITEX,\n",
      "NSE:PANACEABIO,\n",
      "NSE:TEMBO,\n",
      "NSE:E2E,\n",
      "NSE:VISASTEEL,\n",
      "NSE:MAHASTEEL,\n",
      "NSE:WEBELSOLAR,\n",
      "NSE:JAGSNPHARM,\n",
      "NSE:ANUP,\n"
     ]
    }
   ],
   "source": [
    "for sym in group_a['NSE CODE'].head(10):\n",
    "    print(sym)"
   ]
  },
  {
   "cell_type": "code",
   "execution_count": 14,
   "id": "204e429e-4959-4a86-a638-152b33fb83ce",
   "metadata": {
    "scrolled": true
   },
   "outputs": [
    {
     "name": "stderr",
     "output_type": "stream",
     "text": [
      "C:\\Users\\Rohit Mhatre\\AppData\\Local\\Temp\\ipykernel_20484\\3497143026.py:1: DeprecationWarning: DataFrameGroupBy.apply operated on the grouping columns. This behavior is deprecated, and in a future version of pandas the grouping columns will be excluded from the operation. Either pass `include_groups=False` to exclude the groupings or explicitly select the grouping columns after groupby to silence this warning.\n",
      "  top_n_stock = stock.groupby('Sector').apply(lambda group:group.nlargest(2,'ALPHA NEW L/N')).reset_index(drop=True)\n"
     ]
    }
   ],
   "source": [
    "top_n_stock = stock.groupby('Sector').apply(lambda group:group.nlargest(2,'ALPHA NEW L/N')).reset_index(drop=True)"
   ]
  },
  {
   "cell_type": "code",
   "execution_count": 15,
   "id": "b70871b4-d132-40fb-90bc-6a46987a1f8b",
   "metadata": {},
   "outputs": [
    {
     "name": "stdout",
     "output_type": "stream",
     "text": [
      "NSE:WENDT,\n",
      "NSE:BBTC,\n",
      "NSE:HARRMALAYA,\n",
      "NSE:TI,\n",
      "NSE:RADICO,\n",
      "NSE:STERTOOLS,\n",
      "NSE:EPACK,\n",
      "NSE:AMBER,\n",
      "NSE:INDIGO,\n",
      "NSE:NATIONALUM,\n",
      "NSE:HARDWYN,\n",
      "NSE:WONDERLA,\n",
      "NSE:BOSCHLTD,\n",
      "NSE:UNOMINDA,\n",
      "NSE:MAHSCOOTER,\n",
      "NSE:PRECAM,\n",
      "NSE:BANCOINDIA,\n",
      "NSE:SINTERCOM,\n",
      "NSE:RANEENGINE,\n",
      "NSE:OLAELEC,\n",
      "NSE:HYUNDAI,\n",
      "NSE:IRIS,\n",
      "NSE:ECLERX,\n",
      "NSE:AXISBANK,\n",
      "NSE:HDFCBANK,\n",
      "NSE:ICICIBANK,\n",
      "NSE:FINOPB,\n",
      "NSE:DCBBANK,\n",
      "NSE:BANKBARODA,\n",
      "NSE:SBIN,\n",
      "NSE:INDIANB,\n",
      "NSE:UNIONBANK,\n",
      "NSE:HBLPOWER,\n",
      "NSE:EVEREADY,\n",
      "NSE:MENONBE,\n",
      "NSE:SKFINDIA,\n",
      "NSE:DYCL,\n",
      "NSE:PRECWIRE,\n",
      "NSE:PCBL,\n",
      "NSE:STEELCAS,\n",
      "NSE:SGIL,\n",
      "NSE:ULTRACEMCO,\n",
      "NSE:GRASIM,\n",
      "NSE:RAMCOCEM,\n",
      "NSE:PRSMJOHNSN,\n",
      "NSE:RAMCOIND,\n",
      "NSE:KCP,\n",
      "NSE:NITCO,\n",
      "NSE:POKARNA,\n",
      "NSE:GODFRYPHLP,\n",
      "NSE:LATTEYS,\n",
      "NSE:SHAKTIPUMP,\n",
      "NSE:ANANTRAJ,\n",
      "NSE:OBEROIRLTY,\n",
      "NSE:AJMERA,\n",
      "NSE:CAPACITE,\n",
      "NSE:ATALREAL,\n",
      "NSE:DBEIL,\n",
      "NSE:PGEL,\n",
      "NSE:STOVEKRAFT,\n",
      "NSE:DIXON,\n",
      "NSE:HONAUT,\n",
      "NSE:VBL,\n",
      "NSE:LTFOODS,\n",
      "NSE:BECTORFOOD,\n",
      "NSE:CLSEL,\n",
      "NSE:EIFFL,\n",
      "NSE:HAL,\n",
      "NSE:ASTRAMICRO,\n",
      "NSE:SKYGOLD,\n",
      "NSE:MOTISONS,\n",
      "NSE:KIRIINDUS,\n",
      "NSE:SHREEPUSHK,\n",
      "NSE:GOKULAGRO,\n",
      "NSE:GOKUL,\n",
      "NSE:CLEDUCATE,\n",
      "NSE:GLOBAL,\n",
      "NSE:DCMSHRIRAM,\n",
      "NSE:GILLANDERS,\n",
      "NSE:SIEMENS,\n",
      "NSE:CGPOWER,\n",
      "NSE:TARIL,\n",
      "NSE:HIRECT,\n",
      "NSE:SERVOTECH,\n",
      "NSE:DIFFNKG,\n",
      "NSE:WEBELSOLAR,\n",
      "NSE:AVALON,\n",
      "NSE:LT,\n",
      "NSE:SIMPLEXINF,\n",
      "NSE:INTERARCH,\n",
      "NSE:REPL,\n",
      "NSE:SADBHAV,\n",
      "NSE:BEL,\n",
      "NSE:ANUP,\n",
      "NSE:SKIPPER,\n",
      "NSE:WINDMACHIN,\n",
      "NSE:KRN,\n",
      "NSE:DEEPINDS,\n",
      "NSE:SOUTHWEST,\n",
      "NSE:IMFA,\n",
      "NSE:DEEPAKFERT,\n",
      "NSE:PARADEEP,\n",
      "NSE:UTIAMC,\n",
      "NSE:ABSLAMC,\n",
      "NSE:PNBHOUSING,\n",
      "NSE:BAJAJHFL,\n",
      "NSE:BSE,\n",
      "NSE:KFINTECH,\n",
      "NSE:MCX,\n",
      "NSE:DHANI,\n",
      "NSE:MASFIN,\n",
      "NSE:TFCILTD,\n",
      "NSE:PAYTM,\n",
      "NSE:ZAGGLE,\n",
      "NSE:LIBERTSHOE,\n",
      "NSE:CAMPUS,\n",
      "NSE:RKFORGE,\n",
      "NSE:HILTON,\n",
      "NSE:GSPL,\n",
      "NSE:ATGL,\n",
      "NSE:SEJALLTD,\n",
      "NSE:HINDNATGLS,\n",
      "NSE:INDRAMEDCO,\n",
      "NSE:VIMTALABS,\n",
      "NSE:INDHOTEL,\n",
      "NSE:ORIENTHOT,\n",
      "NSE:CHALET,\n",
      "NSE:AHLEAST,\n",
      "NSE:MODIRUBBER,\n",
      "NSE:GILLETTE,\n",
      "NSE:SAFARI,\n",
      "NSE:NIITLTD,\n",
      "NSE:COMPUSOFT,\n",
      "NSE:E2E,\n",
      "NSE:NETWEB,\n",
      "NSE:DLINKINDIA,\n",
      "NSE:KSOLVES,\n",
      "NSE:COFORGE,\n",
      "NSE:PERSISTENT,\n",
      "NSE:KERNEX,\n",
      "NSE:63MOONS,\n",
      "NSE:NINSYS,\n",
      "NSE:DEVIT,\n",
      "NSE:REFEX,\n",
      "NSE:SAGILITY,\n",
      "NSE:NIVABUPA,\n",
      "NSE:STYLAMIND,\n",
      "NSE:WIPL,\n",
      "NSE:SVLL,\n",
      "NSE:WCIL,\n",
      "NSE:GANDHAR,\n",
      "NSE:GULFOILLUB,\n",
      "NSE:TIPSMUSIC,\n",
      "NSE:MUKTAARTS,\n",
      "NSE:POLYMED,\n",
      "NSE:ORISSAMINE,\n",
      "NSE:ASHAPURMIN,\n",
      "NSE:SJS,\n",
      "NSE:UDS,\n",
      "NSE:YAARI,\n",
      "NSE:IEL,\n",
      "NSE:BAJAJHLDNG,\n",
      "NSE:SHRIRAMFIN,\n",
      "NSE:EDELWEISS,\n",
      "NSE:IIFLSEC,\n",
      "NSE:SUMMITSEC,\n",
      "NSE:MANBA,\n",
      "NSE:RAMRAT,\n",
      "NSE:POCL,\n",
      "NSE:JINDRILL,\n",
      "NSE:SELAN,\n",
      "NSE:AGI,\n",
      "NSE:AKZOINDIA,\n",
      "NSE:INDIGOPNTS,\n",
      "NSE:PDMJEPAPER,\n",
      "NSE:RUCHIRA,\n",
      "NSE:SHARDACROP,\n",
      "NSE:HERANBA,\n",
      "NSE:KOTHARIPET,\n",
      "NSE:RAIN,\n",
      "NSE:MANKIND,\n",
      "NSE:DIVISLAB,\n",
      "NSE:NEULANDLAB,\n",
      "NSE:MARKSANS,\n",
      "NSE:PANACEABIO,\n",
      "NSE:JAGSNPHARM,\n",
      "NSE:SUPREMEIND,\n",
      "NSE:FINPIPE,\n",
      "NSE:GRWRHITECH,\n",
      "NSE:SHAILY,\n",
      "NSE:PREMIERPOL,\n",
      "NSE:EMMBI,\n",
      "NSE:RELINFRA,\n",
      "NSE:RPOWER,\n",
      "NSE:BFUTILITIE,\n",
      "NSE:ACMESOLAR,\n",
      "NSE:ENERGYDEV,\n",
      "NSE:GVKPIL,\n",
      "NSE:DGCONTENT,\n",
      "NSE:DOMS,\n",
      "NSE:DJML,\n",
      "NSE:MPSLTD,\n",
      "NSE:TEXRAIL,\n",
      "NSE:CARERATING,\n",
      "NSE:HINDPETRO,\n",
      "NSE:RELIANCE,\n",
      "NSE:VESUVIUS,\n",
      "NSE:BORORENEW,\n",
      "NSE:V2RETAIL,\n",
      "NSE:OSIAHYPER,\n",
      "NSE:PIXTRANS,\n",
      "NSE:JGCHEM,\n",
      "NSE:MAZDOCK,\n",
      "NSE:JSWINFRA,\n",
      "NSE:SCI,\n",
      "NSE:MANORAMA,\n",
      "NSE:JUBLINGREA,\n",
      "NSE:HSCL,\n",
      "NSE:PLATIND,\n",
      "NSE:SHK,\n",
      "NSE:KRONOX,\n",
      "NSE:PAR,\n",
      "NSE:SARDAEN,\n",
      "NSE:LLOYDSME,\n",
      "NSE:MSPL,\n",
      "NSE:RATNAVEER,\n",
      "NSE:VISASTEEL,\n",
      "NSE:MAHASTEEL,\n",
      "NSE:GODAVARIB,\n",
      "NSE:BALRAMCHIN,\n",
      "NSE:ZEEMEDIA,\n",
      "NSE:NDLVENTURE,\n",
      "NSE:MCLEODRUSS,\n",
      "NSE:CCL,\n",
      "NSE:BBOX,\n",
      "NSE:HFCL,\n",
      "NSE:BHARTIHEXA,\n",
      "NSE:BHARTIARTL,\n",
      "NSE:LMW,\n",
      "NSE:GANECOS,\n",
      "NSE:PASUPTAC,\n",
      "NSE:SHIVATEX,\n",
      "NSE:PRECOT,\n",
      "NSE:AARVEEDEN,\n",
      "NSE:UNITEDPOLY,\n",
      "NSE:MANYAVAR,\n",
      "NSE:KPRMILL,\n",
      "NSE:KITEX,\n",
      "NSE:AYMSYNTEX,\n",
      "NSE:RUBYMILLS,\n",
      "NSE:VIPCLOTHNG,\n",
      "NSE:REDINGTON,\n",
      "NSE:ORIENTTECH,\n",
      "NSE:OPTIEMUS,\n",
      "NSE:TEMBO,\n",
      "NSE:OSWALAGRO,\n",
      "NSE:JYOTISTRUC,\n",
      "NSE:BLS,\n",
      "NSE:ECOSMOBLTY,\n",
      "NSE:TOLINS,\n",
      "NSE:CEATLTD,\n",
      "NSE:KDDL,\n",
      "NSE:ARCHIDPLY,\n",
      "NSE:CENTURYPLY,\n",
      "NSE:CARTRADE,\n",
      "NSE:ZOMATO,\n"
     ]
    }
   ],
   "source": [
    "for code in top_n_stock['NSE CODE']:\n",
    "    print(code)"
   ]
  },
  {
   "cell_type": "code",
   "execution_count": 16,
   "id": "fdb1704b-e4ba-4261-bb71-d304ec37aa70",
   "metadata": {},
   "outputs": [],
   "source": [
    "rank_df = pd.read_csv(\"C:\\\\Users\\\\Rohit Mhatre\\\\Downloads\\\\SectorRotation.csv\",header=4)"
   ]
  },
  {
   "cell_type": "code",
   "execution_count": 17,
   "id": "7933c85b-3a53-40ff-b397-be98588635e1",
   "metadata": {
    "scrolled": true
   },
   "outputs": [
    {
     "data": {
      "text/html": [
       "<div>\n",
       "<style scoped>\n",
       "    .dataframe tbody tr th:only-of-type {\n",
       "        vertical-align: middle;\n",
       "    }\n",
       "\n",
       "    .dataframe tbody tr th {\n",
       "        vertical-align: top;\n",
       "    }\n",
       "\n",
       "    .dataframe thead th {\n",
       "        text-align: right;\n",
       "    }\n",
       "</style>\n",
       "<table border=\"1\" class=\"dataframe\">\n",
       "  <thead>\n",
       "    <tr style=\"text-align: right;\">\n",
       "      <th></th>\n",
       "      <th>SYMBOL</th>\n",
       "      <th>Sector</th>\n",
       "      <th>Industry</th>\n",
       "      <th>% Change</th>\n",
       "      <th>Close Price</th>\n",
       "      <th>Close 1</th>\n",
       "      <th>Close 2</th>\n",
       "      <th>Close 3</th>\n",
       "      <th>Close 4</th>\n",
       "      <th>Close 5</th>\n",
       "      <th>...</th>\n",
       "      <th>Live</th>\n",
       "      <th>Week 1</th>\n",
       "      <th>Week 2</th>\n",
       "      <th>Week 3</th>\n",
       "      <th>Week 4</th>\n",
       "      <th>Week 5</th>\n",
       "      <th>Week 6</th>\n",
       "      <th>Week 7</th>\n",
       "      <th>Week 8</th>\n",
       "      <th>Week 9</th>\n",
       "    </tr>\n",
       "  </thead>\n",
       "  <tbody>\n",
       "    <tr>\n",
       "      <th>0</th>\n",
       "      <td>NSE:GRINDWELL</td>\n",
       "      <td>ABRASIVES</td>\n",
       "      <td>ABRASIVES</td>\n",
       "      <td>2588.55</td>\n",
       "      <td>2158.55</td>\n",
       "      <td>2105.6</td>\n",
       "      <td>2084.80</td>\n",
       "      <td>2213.55</td>\n",
       "      <td>2511.35</td>\n",
       "      <td>2413.75</td>\n",
       "      <td>...</td>\n",
       "      <td>-19.39</td>\n",
       "      <td>-24.68</td>\n",
       "      <td>-22.54</td>\n",
       "      <td>-14.41</td>\n",
       "      <td>0.30</td>\n",
       "      <td>-5.05</td>\n",
       "      <td>-4.61</td>\n",
       "      <td>-7.32</td>\n",
       "      <td>-7.10</td>\n",
       "      <td>-9.84</td>\n",
       "    </tr>\n",
       "    <tr>\n",
       "      <th>1</th>\n",
       "      <td>NSE:CARBORUNIV</td>\n",
       "      <td>ABRASIVES</td>\n",
       "      <td>ABRASIVES</td>\n",
       "      <td>1718.80</td>\n",
       "      <td>1384.30</td>\n",
       "      <td>1437.9</td>\n",
       "      <td>1461.65</td>\n",
       "      <td>1378.95</td>\n",
       "      <td>1499.60</td>\n",
       "      <td>1469.85</td>\n",
       "      <td>...</td>\n",
       "      <td>-22.24</td>\n",
       "      <td>-22.37</td>\n",
       "      <td>-18.04</td>\n",
       "      <td>-19.69</td>\n",
       "      <td>-9.47</td>\n",
       "      <td>-12.78</td>\n",
       "      <td>-12.99</td>\n",
       "      <td>-13.49</td>\n",
       "      <td>-10.65</td>\n",
       "      <td>-10.67</td>\n",
       "    </tr>\n",
       "  </tbody>\n",
       "</table>\n",
       "<p>2 rows × 25 columns</p>\n",
       "</div>"
      ],
      "text/plain": [
       "           SYMBOL     Sector   Industry  % Change  Close Price  Close 1  \\\n",
       "0   NSE:GRINDWELL  ABRASIVES  ABRASIVES   2588.55      2158.55   2105.6   \n",
       "1  NSE:CARBORUNIV  ABRASIVES  ABRASIVES   1718.80      1384.30   1437.9   \n",
       "\n",
       "   Close 2  Close 3  Close 4  Close 5  ...   Live  Week 1  Week 2  Week 3  \\\n",
       "0  2084.80  2213.55  2511.35  2413.75  ... -19.39  -24.68  -22.54  -14.41   \n",
       "1  1461.65  1378.95  1499.60  1469.85  ... -22.24  -22.37  -18.04  -19.69   \n",
       "\n",
       "   Week 4  Week 5  Week 6  Week 7  Week 8  Week 9  \n",
       "0    0.30   -5.05   -4.61   -7.32   -7.10   -9.84  \n",
       "1   -9.47  -12.78  -12.99  -13.49  -10.65  -10.67  \n",
       "\n",
       "[2 rows x 25 columns]"
      ]
     },
     "execution_count": 17,
     "metadata": {},
     "output_type": "execute_result"
    }
   ],
   "source": [
    "rank_df.head(2)"
   ]
  },
  {
   "cell_type": "code",
   "execution_count": 35,
   "id": "4f243665-3535-4f12-88d7-c735327ca592",
   "metadata": {},
   "outputs": [],
   "source": [
    "df = rank_df[['SYMBOL', 'Sector', 'Industry','Live', 'Week 1', 'Week 2','Week 3', 'Week 4', 'Week 5', 'Week 6', 'Week 7', 'Week 8', 'Week 9']].copy()"
   ]
  },
  {
   "cell_type": "code",
   "execution_count": 36,
   "id": "265de539-59d5-45c1-bbe6-3c77cf6ff11e",
   "metadata": {},
   "outputs": [],
   "source": [
    "df.dropna(axis=0,inplace=True)"
   ]
  },
  {
   "cell_type": "code",
   "execution_count": 37,
   "id": "a3f2bd36-554b-4b05-8fd0-51aefdf929e8",
   "metadata": {},
   "outputs": [],
   "source": [
    "group = df.groupby('Sector')[['Live','Week 1', 'Week 2','Week 3', 'Week 4', 'Week 5', 'Week 6', 'Week 7', 'Week 8', 'Week 9']].mean()\n",
    "top_live = group.sort_values(by='Live',ascending=False)\n",
    "top_live = top_live.reset_index() \n",
    "top_live.index = top_live.index + 1\n",
    "top_live = top_live.head(15)"
   ]
  },
  {
   "cell_type": "code",
   "execution_count": 38,
   "id": "d1754e42-2100-492b-866f-d29e4ad26505",
   "metadata": {},
   "outputs": [],
   "source": [
    "import matplotlib.pyplot as plt\n",
    "#import seaborn as sns\n",
    "import plotly.express as px"
   ]
  },
  {
   "cell_type": "code",
   "execution_count": 39,
   "id": "9bc91731-2304-4421-aaa7-a14db980fb25",
   "metadata": {},
   "outputs": [
    {
     "data": {
      "application/vnd.plotly.v1+json": {
       "config": {
        "plotlyServerURL": "https://plot.ly"
       },
       "data": [
        {
         "alignmentgroup": "True",
         "hovertemplate": "Sector=%{x}<br>Live=%{y}<br>index=%{marker.color}<extra></extra>",
         "legendgroup": "",
         "marker": {
          "color": [
           1,
           2,
           3,
           4,
           5,
           6,
           7,
           8,
           9,
           10,
           11,
           12,
           13,
           14,
           15
          ],
          "coloraxis": "coloraxis",
          "pattern": {
           "shape": ""
          }
         },
         "name": "",
         "offsetgroup": "",
         "orientation": "v",
         "showlegend": false,
         "textposition": "auto",
         "type": "bar",
         "x": [
          "IT - EducationInformation TechnologyMid Cap",
          "Electric EquipmentElectric EquipmentCAPITAL GOODSMid Cap",
          "Diamond & Jewellery",
          "Fintech-Information Technology",
          "Medical Equipment/Supplies/AccessoriesHealthcare",
          "Glass-CONSTRUCTION MATERIAL",
          "Ratings",
          "Hotel, Resort & Restaurants-HospitalityLarge Cap",
          "Finance - Others",
          "Finance - Stock Broking",
          "Textile - Weaving",
          "Air Conditioners-CONSUMER DURABLES",
          "Packaging-FMCG",
          "Hospital & Healthcare Services-Healthcare",
          "Rubber Products/AGRICULTURE"
         ],
         "xaxis": "x",
         "y": [
          75.7,
          46.94500000000001,
          45.487142857142864,
          28.992,
          28.935,
          27.08,
          25.793333333333333,
          24.81,
          23.029999999999998,
          22.98875,
          20.86875,
          20.656,
          20.59,
          19.950869565217392,
          19.759999999999998
         ],
         "yaxis": "y"
        }
       ],
       "layout": {
        "barmode": "relative",
        "coloraxis": {
         "colorbar": {
          "title": {
           "text": "index"
          }
         },
         "colorscale": [
          [
           0,
           "#0d0887"
          ],
          [
           0.1111111111111111,
           "#46039f"
          ],
          [
           0.2222222222222222,
           "#7201a8"
          ],
          [
           0.3333333333333333,
           "#9c179e"
          ],
          [
           0.4444444444444444,
           "#bd3786"
          ],
          [
           0.5555555555555556,
           "#d8576b"
          ],
          [
           0.6666666666666666,
           "#ed7953"
          ],
          [
           0.7777777777777778,
           "#fb9f3a"
          ],
          [
           0.8888888888888888,
           "#fdca26"
          ],
          [
           1,
           "#f0f921"
          ]
         ]
        },
        "height": 800,
        "legend": {
         "tracegroupgap": 0
        },
        "template": {
         "data": {
          "bar": [
           {
            "error_x": {
             "color": "#2a3f5f"
            },
            "error_y": {
             "color": "#2a3f5f"
            },
            "marker": {
             "line": {
              "color": "#E5ECF6",
              "width": 0.5
             },
             "pattern": {
              "fillmode": "overlay",
              "size": 10,
              "solidity": 0.2
             }
            },
            "type": "bar"
           }
          ],
          "barpolar": [
           {
            "marker": {
             "line": {
              "color": "#E5ECF6",
              "width": 0.5
             },
             "pattern": {
              "fillmode": "overlay",
              "size": 10,
              "solidity": 0.2
             }
            },
            "type": "barpolar"
           }
          ],
          "carpet": [
           {
            "aaxis": {
             "endlinecolor": "#2a3f5f",
             "gridcolor": "white",
             "linecolor": "white",
             "minorgridcolor": "white",
             "startlinecolor": "#2a3f5f"
            },
            "baxis": {
             "endlinecolor": "#2a3f5f",
             "gridcolor": "white",
             "linecolor": "white",
             "minorgridcolor": "white",
             "startlinecolor": "#2a3f5f"
            },
            "type": "carpet"
           }
          ],
          "choropleth": [
           {
            "colorbar": {
             "outlinewidth": 0,
             "ticks": ""
            },
            "type": "choropleth"
           }
          ],
          "contour": [
           {
            "colorbar": {
             "outlinewidth": 0,
             "ticks": ""
            },
            "colorscale": [
             [
              0,
              "#0d0887"
             ],
             [
              0.1111111111111111,
              "#46039f"
             ],
             [
              0.2222222222222222,
              "#7201a8"
             ],
             [
              0.3333333333333333,
              "#9c179e"
             ],
             [
              0.4444444444444444,
              "#bd3786"
             ],
             [
              0.5555555555555556,
              "#d8576b"
             ],
             [
              0.6666666666666666,
              "#ed7953"
             ],
             [
              0.7777777777777778,
              "#fb9f3a"
             ],
             [
              0.8888888888888888,
              "#fdca26"
             ],
             [
              1,
              "#f0f921"
             ]
            ],
            "type": "contour"
           }
          ],
          "contourcarpet": [
           {
            "colorbar": {
             "outlinewidth": 0,
             "ticks": ""
            },
            "type": "contourcarpet"
           }
          ],
          "heatmap": [
           {
            "colorbar": {
             "outlinewidth": 0,
             "ticks": ""
            },
            "colorscale": [
             [
              0,
              "#0d0887"
             ],
             [
              0.1111111111111111,
              "#46039f"
             ],
             [
              0.2222222222222222,
              "#7201a8"
             ],
             [
              0.3333333333333333,
              "#9c179e"
             ],
             [
              0.4444444444444444,
              "#bd3786"
             ],
             [
              0.5555555555555556,
              "#d8576b"
             ],
             [
              0.6666666666666666,
              "#ed7953"
             ],
             [
              0.7777777777777778,
              "#fb9f3a"
             ],
             [
              0.8888888888888888,
              "#fdca26"
             ],
             [
              1,
              "#f0f921"
             ]
            ],
            "type": "heatmap"
           }
          ],
          "heatmapgl": [
           {
            "colorbar": {
             "outlinewidth": 0,
             "ticks": ""
            },
            "colorscale": [
             [
              0,
              "#0d0887"
             ],
             [
              0.1111111111111111,
              "#46039f"
             ],
             [
              0.2222222222222222,
              "#7201a8"
             ],
             [
              0.3333333333333333,
              "#9c179e"
             ],
             [
              0.4444444444444444,
              "#bd3786"
             ],
             [
              0.5555555555555556,
              "#d8576b"
             ],
             [
              0.6666666666666666,
              "#ed7953"
             ],
             [
              0.7777777777777778,
              "#fb9f3a"
             ],
             [
              0.8888888888888888,
              "#fdca26"
             ],
             [
              1,
              "#f0f921"
             ]
            ],
            "type": "heatmapgl"
           }
          ],
          "histogram": [
           {
            "marker": {
             "pattern": {
              "fillmode": "overlay",
              "size": 10,
              "solidity": 0.2
             }
            },
            "type": "histogram"
           }
          ],
          "histogram2d": [
           {
            "colorbar": {
             "outlinewidth": 0,
             "ticks": ""
            },
            "colorscale": [
             [
              0,
              "#0d0887"
             ],
             [
              0.1111111111111111,
              "#46039f"
             ],
             [
              0.2222222222222222,
              "#7201a8"
             ],
             [
              0.3333333333333333,
              "#9c179e"
             ],
             [
              0.4444444444444444,
              "#bd3786"
             ],
             [
              0.5555555555555556,
              "#d8576b"
             ],
             [
              0.6666666666666666,
              "#ed7953"
             ],
             [
              0.7777777777777778,
              "#fb9f3a"
             ],
             [
              0.8888888888888888,
              "#fdca26"
             ],
             [
              1,
              "#f0f921"
             ]
            ],
            "type": "histogram2d"
           }
          ],
          "histogram2dcontour": [
           {
            "colorbar": {
             "outlinewidth": 0,
             "ticks": ""
            },
            "colorscale": [
             [
              0,
              "#0d0887"
             ],
             [
              0.1111111111111111,
              "#46039f"
             ],
             [
              0.2222222222222222,
              "#7201a8"
             ],
             [
              0.3333333333333333,
              "#9c179e"
             ],
             [
              0.4444444444444444,
              "#bd3786"
             ],
             [
              0.5555555555555556,
              "#d8576b"
             ],
             [
              0.6666666666666666,
              "#ed7953"
             ],
             [
              0.7777777777777778,
              "#fb9f3a"
             ],
             [
              0.8888888888888888,
              "#fdca26"
             ],
             [
              1,
              "#f0f921"
             ]
            ],
            "type": "histogram2dcontour"
           }
          ],
          "mesh3d": [
           {
            "colorbar": {
             "outlinewidth": 0,
             "ticks": ""
            },
            "type": "mesh3d"
           }
          ],
          "parcoords": [
           {
            "line": {
             "colorbar": {
              "outlinewidth": 0,
              "ticks": ""
             }
            },
            "type": "parcoords"
           }
          ],
          "pie": [
           {
            "automargin": true,
            "type": "pie"
           }
          ],
          "scatter": [
           {
            "fillpattern": {
             "fillmode": "overlay",
             "size": 10,
             "solidity": 0.2
            },
            "type": "scatter"
           }
          ],
          "scatter3d": [
           {
            "line": {
             "colorbar": {
              "outlinewidth": 0,
              "ticks": ""
             }
            },
            "marker": {
             "colorbar": {
              "outlinewidth": 0,
              "ticks": ""
             }
            },
            "type": "scatter3d"
           }
          ],
          "scattercarpet": [
           {
            "marker": {
             "colorbar": {
              "outlinewidth": 0,
              "ticks": ""
             }
            },
            "type": "scattercarpet"
           }
          ],
          "scattergeo": [
           {
            "marker": {
             "colorbar": {
              "outlinewidth": 0,
              "ticks": ""
             }
            },
            "type": "scattergeo"
           }
          ],
          "scattergl": [
           {
            "marker": {
             "colorbar": {
              "outlinewidth": 0,
              "ticks": ""
             }
            },
            "type": "scattergl"
           }
          ],
          "scattermapbox": [
           {
            "marker": {
             "colorbar": {
              "outlinewidth": 0,
              "ticks": ""
             }
            },
            "type": "scattermapbox"
           }
          ],
          "scatterpolar": [
           {
            "marker": {
             "colorbar": {
              "outlinewidth": 0,
              "ticks": ""
             }
            },
            "type": "scatterpolar"
           }
          ],
          "scatterpolargl": [
           {
            "marker": {
             "colorbar": {
              "outlinewidth": 0,
              "ticks": ""
             }
            },
            "type": "scatterpolargl"
           }
          ],
          "scatterternary": [
           {
            "marker": {
             "colorbar": {
              "outlinewidth": 0,
              "ticks": ""
             }
            },
            "type": "scatterternary"
           }
          ],
          "surface": [
           {
            "colorbar": {
             "outlinewidth": 0,
             "ticks": ""
            },
            "colorscale": [
             [
              0,
              "#0d0887"
             ],
             [
              0.1111111111111111,
              "#46039f"
             ],
             [
              0.2222222222222222,
              "#7201a8"
             ],
             [
              0.3333333333333333,
              "#9c179e"
             ],
             [
              0.4444444444444444,
              "#bd3786"
             ],
             [
              0.5555555555555556,
              "#d8576b"
             ],
             [
              0.6666666666666666,
              "#ed7953"
             ],
             [
              0.7777777777777778,
              "#fb9f3a"
             ],
             [
              0.8888888888888888,
              "#fdca26"
             ],
             [
              1,
              "#f0f921"
             ]
            ],
            "type": "surface"
           }
          ],
          "table": [
           {
            "cells": {
             "fill": {
              "color": "#EBF0F8"
             },
             "line": {
              "color": "white"
             }
            },
            "header": {
             "fill": {
              "color": "#C8D4E3"
             },
             "line": {
              "color": "white"
             }
            },
            "type": "table"
           }
          ]
         },
         "layout": {
          "annotationdefaults": {
           "arrowcolor": "#2a3f5f",
           "arrowhead": 0,
           "arrowwidth": 1
          },
          "autotypenumbers": "strict",
          "coloraxis": {
           "colorbar": {
            "outlinewidth": 0,
            "ticks": ""
           }
          },
          "colorscale": {
           "diverging": [
            [
             0,
             "#8e0152"
            ],
            [
             0.1,
             "#c51b7d"
            ],
            [
             0.2,
             "#de77ae"
            ],
            [
             0.3,
             "#f1b6da"
            ],
            [
             0.4,
             "#fde0ef"
            ],
            [
             0.5,
             "#f7f7f7"
            ],
            [
             0.6,
             "#e6f5d0"
            ],
            [
             0.7,
             "#b8e186"
            ],
            [
             0.8,
             "#7fbc41"
            ],
            [
             0.9,
             "#4d9221"
            ],
            [
             1,
             "#276419"
            ]
           ],
           "sequential": [
            [
             0,
             "#0d0887"
            ],
            [
             0.1111111111111111,
             "#46039f"
            ],
            [
             0.2222222222222222,
             "#7201a8"
            ],
            [
             0.3333333333333333,
             "#9c179e"
            ],
            [
             0.4444444444444444,
             "#bd3786"
            ],
            [
             0.5555555555555556,
             "#d8576b"
            ],
            [
             0.6666666666666666,
             "#ed7953"
            ],
            [
             0.7777777777777778,
             "#fb9f3a"
            ],
            [
             0.8888888888888888,
             "#fdca26"
            ],
            [
             1,
             "#f0f921"
            ]
           ],
           "sequentialminus": [
            [
             0,
             "#0d0887"
            ],
            [
             0.1111111111111111,
             "#46039f"
            ],
            [
             0.2222222222222222,
             "#7201a8"
            ],
            [
             0.3333333333333333,
             "#9c179e"
            ],
            [
             0.4444444444444444,
             "#bd3786"
            ],
            [
             0.5555555555555556,
             "#d8576b"
            ],
            [
             0.6666666666666666,
             "#ed7953"
            ],
            [
             0.7777777777777778,
             "#fb9f3a"
            ],
            [
             0.8888888888888888,
             "#fdca26"
            ],
            [
             1,
             "#f0f921"
            ]
           ]
          },
          "colorway": [
           "#636efa",
           "#EF553B",
           "#00cc96",
           "#ab63fa",
           "#FFA15A",
           "#19d3f3",
           "#FF6692",
           "#B6E880",
           "#FF97FF",
           "#FECB52"
          ],
          "font": {
           "color": "#2a3f5f"
          },
          "geo": {
           "bgcolor": "white",
           "lakecolor": "white",
           "landcolor": "#E5ECF6",
           "showlakes": true,
           "showland": true,
           "subunitcolor": "white"
          },
          "hoverlabel": {
           "align": "left"
          },
          "hovermode": "closest",
          "mapbox": {
           "style": "light"
          },
          "paper_bgcolor": "white",
          "plot_bgcolor": "#E5ECF6",
          "polar": {
           "angularaxis": {
            "gridcolor": "white",
            "linecolor": "white",
            "ticks": ""
           },
           "bgcolor": "#E5ECF6",
           "radialaxis": {
            "gridcolor": "white",
            "linecolor": "white",
            "ticks": ""
           }
          },
          "scene": {
           "xaxis": {
            "backgroundcolor": "#E5ECF6",
            "gridcolor": "white",
            "gridwidth": 2,
            "linecolor": "white",
            "showbackground": true,
            "ticks": "",
            "zerolinecolor": "white"
           },
           "yaxis": {
            "backgroundcolor": "#E5ECF6",
            "gridcolor": "white",
            "gridwidth": 2,
            "linecolor": "white",
            "showbackground": true,
            "ticks": "",
            "zerolinecolor": "white"
           },
           "zaxis": {
            "backgroundcolor": "#E5ECF6",
            "gridcolor": "white",
            "gridwidth": 2,
            "linecolor": "white",
            "showbackground": true,
            "ticks": "",
            "zerolinecolor": "white"
           }
          },
          "shapedefaults": {
           "line": {
            "color": "#2a3f5f"
           }
          },
          "ternary": {
           "aaxis": {
            "gridcolor": "white",
            "linecolor": "white",
            "ticks": ""
           },
           "baxis": {
            "gridcolor": "white",
            "linecolor": "white",
            "ticks": ""
           },
           "bgcolor": "#E5ECF6",
           "caxis": {
            "gridcolor": "white",
            "linecolor": "white",
            "ticks": ""
           }
          },
          "title": {
           "x": 0.05
          },
          "xaxis": {
           "automargin": true,
           "gridcolor": "white",
           "linecolor": "white",
           "ticks": "",
           "title": {
            "standoff": 15
           },
           "zerolinecolor": "white",
           "zerolinewidth": 2
          },
          "yaxis": {
           "automargin": true,
           "gridcolor": "white",
           "linecolor": "white",
           "ticks": "",
           "title": {
            "standoff": 15
           },
           "zerolinecolor": "white",
           "zerolinewidth": 2
          }
         }
        },
        "title": {
         "text": "Currently Top Sector"
        },
        "width": 1200,
        "xaxis": {
         "anchor": "y",
         "autorange": true,
         "domain": [
          0,
          1
         ],
         "range": [
          -0.5,
          14.5
         ],
         "tickangle": 90,
         "title": {
          "text": "Sector"
         },
         "type": "category"
        },
        "yaxis": {
         "anchor": "x",
         "autorange": true,
         "domain": [
          0,
          1
         ],
         "range": [
          0,
          79.6842105263158
         ],
         "title": {
          "text": "Values"
         },
         "type": "linear"
        }
       }
      },
      "image/png": "[encoded data removed]",
      "text/html": [
       "<div>                            <div id=\"3cc40125-7c3c-4afc-ae75-e5c062755389\" class=\"plotly-graph-div\" style=\"height:800px; width:1200px;\"></div>            <script type=\"text/javascript\">                require([\"plotly\"], function(Plotly) {                    window.PLOTLYENV=window.PLOTLYENV || {};                                    if (document.getElementById(\"3cc40125-7c3c-4afc-ae75-e5c062755389\")) {                    Plotly.newPlot(                        \"3cc40125-7c3c-4afc-ae75-e5c062755389\",                        [{\"alignmentgroup\":\"True\",\"hovertemplate\":\"Sector=%{x}\\u003cbr\\u003eLive=%{y}\\u003cbr\\u003eindex=%{marker.color}\\u003cextra\\u003e\\u003c\\u002fextra\\u003e\",\"legendgroup\":\"\",\"marker\":{\"color\":[1,2,3,4,5,6,7,8,9,10,11,12,13,14,15],\"coloraxis\":\"coloraxis\",\"pattern\":{\"shape\":\"\"}},\"name\":\"\",\"offsetgroup\":\"\",\"orientation\":\"v\",\"showlegend\":false,\"textposition\":\"auto\",\"x\":[\"IT - EducationInformation TechnologyMid Cap\",\"Electric EquipmentElectric EquipmentCAPITAL GOODSMid Cap\",\"Diamond & Jewellery\",\"Fintech-Information Technology\",\"Medical Equipment\\u002fSupplies\\u002fAccessoriesHealthcare\",\"Glass-CONSTRUCTION MATERIAL\",\"Ratings\",\"Hotel, Resort & Restaurants-HospitalityLarge Cap\",\"Finance - Others\",\"Finance - Stock Broking\",\"Textile - Weaving\",\"Air Conditioners-CONSUMER DURABLES\",\"Packaging-FMCG\",\"Hospital & Healthcare Services-Healthcare\",\"Rubber Products\\u002fAGRICULTURE\"],\"xaxis\":\"x\",\"y\":[75.7,46.94500000000001,45.487142857142864,28.992,28.935,27.08,25.793333333333333,24.81,23.029999999999998,22.98875,20.86875,20.656,20.59,19.950869565217392,19.759999999999998],\"yaxis\":\"y\",\"type\":\"bar\"}],                        {\"template\":{\"data\":{\"histogram2dcontour\":[{\"type\":\"histogram2dcontour\",\"colorbar\":{\"outlinewidth\":0,\"ticks\":\"\"},\"colorscale\":[[0.0,\"#0d0887\"],[0.1111111111111111,\"#46039f\"],[0.2222222222222222,\"#7201a8\"],[0.3333333333333333,\"#9c179e\"],[0.4444444444444444,\"#bd3786\"],[0.5555555555555556,\"#d8576b\"],[0.6666666666666666,\"#ed7953\"],[0.7777777777777778,\"#fb9f3a\"],[0.8888888888888888,\"#fdca26\"],[1.0,\"#f0f921\"]]}],\"choropleth\":[{\"type\":\"choropleth\",\"colorbar\":{\"outlinewidth\":0,\"ticks\":\"\"}}],\"histogram2d\":[{\"type\":\"histogram2d\",\"colorbar\":{\"outlinewidth\":0,\"ticks\":\"\"},\"colorscale\":[[0.0,\"#0d0887\"],[0.1111111111111111,\"#46039f\"],[0.2222222222222222,\"#7201a8\"],[0.3333333333333333,\"#9c179e\"],[0.4444444444444444,\"#bd3786\"],[0.5555555555555556,\"#d8576b\"],[0.6666666666666666,\"#ed7953\"],[0.7777777777777778,\"#fb9f3a\"],[0.8888888888888888,\"#fdca26\"],[1.0,\"#f0f921\"]]}],\"heatmap\":[{\"type\":\"heatmap\",\"colorbar\":{\"outlinewidth\":0,\"ticks\":\"\"},\"colorscale\":[[0.0,\"#0d0887\"],[0.1111111111111111,\"#46039f\"],[0.2222222222222222,\"#7201a8\"],[0.3333333333333333,\"#9c179e\"],[0.4444444444444444,\"#bd3786\"],[0.5555555555555556,\"#d8576b\"],[0.6666666666666666,\"#ed7953\"],[0.7777777777777778,\"#fb9f3a\"],[0.8888888888888888,\"#fdca26\"],[1.0,\"#f0f921\"]]}],\"heatmapgl\":[{\"type\":\"heatmapgl\",\"colorbar\":{\"outlinewidth\":0,\"ticks\":\"\"},\"colorscale\":[[0.0,\"#0d0887\"],[0.1111111111111111,\"#46039f\"],[0.2222222222222222,\"#7201a8\"],[0.3333333333333333,\"#9c179e\"],[0.4444444444444444,\"#bd3786\"],[0.5555555555555556,\"#d8576b\"],[0.6666666666666666,\"#ed7953\"],[0.7777777777777778,\"#fb9f3a\"],[0.8888888888888888,\"#fdca26\"],[1.0,\"#f0f921\"]]}],\"contourcarpet\":[{\"type\":\"contourcarpet\",\"colorbar\":{\"outlinewidth\":0,\"ticks\":\"\"}}],\"contour\":[{\"type\":\"contour\",\"colorbar\":{\"outlinewidth\":0,\"ticks\":\"\"},\"colorscale\":[[0.0,\"#0d0887\"],[0.1111111111111111,\"#46039f\"],[0.2222222222222222,\"#7201a8\"],[0.3333333333333333,\"#9c179e\"],[0.4444444444444444,\"#bd3786\"],[0.5555555555555556,\"#d8576b\"],[0.6666666666666666,\"#ed7953\"],[0.7777777777777778,\"#fb9f3a\"],[0.8888888888888888,\"#fdca26\"],[1.0,\"#f0f921\"]]}],\"surface\":[{\"type\":\"surface\",\"colorbar\":{\"outlinewidth\":0,\"ticks\":\"\"},\"colorscale\":[[0.0,\"#0d0887\"],[0.1111111111111111,\"#46039f\"],[0.2222222222222222,\"#7201a8\"],[0.3333333333333333,\"#9c179e\"],[0.4444444444444444,\"#bd3786\"],[0.5555555555555556,\"#d8576b\"],[0.6666666666666666,\"#ed7953\"],[0.7777777777777778,\"#fb9f3a\"],[0.8888888888888888,\"#fdca26\"],[1.0,\"#f0f921\"]]}],\"mesh3d\":[{\"type\":\"mesh3d\",\"colorbar\":{\"outlinewidth\":0,\"ticks\":\"\"}}],\"scatter\":[{\"fillpattern\":{\"fillmode\":\"overlay\",\"size\":10,\"solidity\":0.2},\"type\":\"scatter\"}],\"parcoords\":[{\"type\":\"parcoords\",\"line\":{\"colorbar\":{\"outlinewidth\":0,\"ticks\":\"\"}}}],\"scatterpolargl\":[{\"type\":\"scatterpolargl\",\"marker\":{\"colorbar\":{\"outlinewidth\":0,\"ticks\":\"\"}}}],\"bar\":[{\"error_x\":{\"color\":\"#2a3f5f\"},\"error_y\":{\"color\":\"#2a3f5f\"},\"marker\":{\"line\":{\"color\":\"#E5ECF6\",\"width\":0.5},\"pattern\":{\"fillmode\":\"overlay\",\"size\":10,\"solidity\":0.2}},\"type\":\"bar\"}],\"scattergeo\":[{\"type\":\"scattergeo\",\"marker\":{\"colorbar\":{\"outlinewidth\":0,\"ticks\":\"\"}}}],\"scatterpolar\":[{\"type\":\"scatterpolar\",\"marker\":{\"colorbar\":{\"outlinewidth\":0,\"ticks\":\"\"}}}],\"histogram\":[{\"marker\":{\"pattern\":{\"fillmode\":\"overlay\",\"size\":10,\"solidity\":0.2}},\"type\":\"histogram\"}],\"scattergl\":[{\"type\":\"scattergl\",\"marker\":{\"colorbar\":{\"outlinewidth\":0,\"ticks\":\"\"}}}],\"scatter3d\":[{\"type\":\"scatter3d\",\"line\":{\"colorbar\":{\"outlinewidth\":0,\"ticks\":\"\"}},\"marker\":{\"colorbar\":{\"outlinewidth\":0,\"ticks\":\"\"}}}],\"scattermapbox\":[{\"type\":\"scattermapbox\",\"marker\":{\"colorbar\":{\"outlinewidth\":0,\"ticks\":\"\"}}}],\"scatterternary\":[{\"type\":\"scatterternary\",\"marker\":{\"colorbar\":{\"outlinewidth\":0,\"ticks\":\"\"}}}],\"scattercarpet\":[{\"type\":\"scattercarpet\",\"marker\":{\"colorbar\":{\"outlinewidth\":0,\"ticks\":\"\"}}}],\"carpet\":[{\"aaxis\":{\"endlinecolor\":\"#2a3f5f\",\"gridcolor\":\"white\",\"linecolor\":\"white\",\"minorgridcolor\":\"white\",\"startlinecolor\":\"#2a3f5f\"},\"baxis\":{\"endlinecolor\":\"#2a3f5f\",\"gridcolor\":\"white\",\"linecolor\":\"white\",\"minorgridcolor\":\"white\",\"startlinecolor\":\"#2a3f5f\"},\"type\":\"carpet\"}],\"table\":[{\"cells\":{\"fill\":{\"color\":\"#EBF0F8\"},\"line\":{\"color\":\"white\"}},\"header\":{\"fill\":{\"color\":\"#C8D4E3\"},\"line\":{\"color\":\"white\"}},\"type\":\"table\"}],\"barpolar\":[{\"marker\":{\"line\":{\"color\":\"#E5ECF6\",\"width\":0.5},\"pattern\":{\"fillmode\":\"overlay\",\"size\":10,\"solidity\":0.2}},\"type\":\"barpolar\"}],\"pie\":[{\"automargin\":true,\"type\":\"pie\"}]},\"layout\":{\"autotypenumbers\":\"strict\",\"colorway\":[\"#636efa\",\"#EF553B\",\"#00cc96\",\"#ab63fa\",\"#FFA15A\",\"#19d3f3\",\"#FF6692\",\"#B6E880\",\"#FF97FF\",\"#FECB52\"],\"font\":{\"color\":\"#2a3f5f\"},\"hovermode\":\"closest\",\"hoverlabel\":{\"align\":\"left\"},\"paper_bgcolor\":\"white\",\"plot_bgcolor\":\"#E5ECF6\",\"polar\":{\"bgcolor\":\"#E5ECF6\",\"angularaxis\":{\"gridcolor\":\"white\",\"linecolor\":\"white\",\"ticks\":\"\"},\"radialaxis\":{\"gridcolor\":\"white\",\"linecolor\":\"white\",\"ticks\":\"\"}},\"ternary\":{\"bgcolor\":\"#E5ECF6\",\"aaxis\":{\"gridcolor\":\"white\",\"linecolor\":\"white\",\"ticks\":\"\"},\"baxis\":{\"gridcolor\":\"white\",\"linecolor\":\"white\",\"ticks\":\"\"},\"caxis\":{\"gridcolor\":\"white\",\"linecolor\":\"white\",\"ticks\":\"\"}},\"coloraxis\":{\"colorbar\":{\"outlinewidth\":0,\"ticks\":\"\"}},\"colorscale\":{\"sequential\":[[0.0,\"#0d0887\"],[0.1111111111111111,\"#46039f\"],[0.2222222222222222,\"#7201a8\"],[0.3333333333333333,\"#9c179e\"],[0.4444444444444444,\"#bd3786\"],[0.5555555555555556,\"#d8576b\"],[0.6666666666666666,\"#ed7953\"],[0.7777777777777778,\"#fb9f3a\"],[0.8888888888888888,\"#fdca26\"],[1.0,\"#f0f921\"]],\"sequentialminus\":[[0.0,\"#0d0887\"],[0.1111111111111111,\"#46039f\"],[0.2222222222222222,\"#7201a8\"],[0.3333333333333333,\"#9c179e\"],[0.4444444444444444,\"#bd3786\"],[0.5555555555555556,\"#d8576b\"],[0.6666666666666666,\"#ed7953\"],[0.7777777777777778,\"#fb9f3a\"],[0.8888888888888888,\"#fdca26\"],[1.0,\"#f0f921\"]],\"diverging\":[[0,\"#8e0152\"],[0.1,\"#c51b7d\"],[0.2,\"#de77ae\"],[0.3,\"#f1b6da\"],[0.4,\"#fde0ef\"],[0.5,\"#f7f7f7\"],[0.6,\"#e6f5d0\"],[0.7,\"#b8e186\"],[0.8,\"#7fbc41\"],[0.9,\"#4d9221\"],[1,\"#276419\"]]},\"xaxis\":{\"gridcolor\":\"white\",\"linecolor\":\"white\",\"ticks\":\"\",\"title\":{\"standoff\":15},\"zerolinecolor\":\"white\",\"automargin\":true,\"zerolinewidth\":2},\"yaxis\":{\"gridcolor\":\"white\",\"linecolor\":\"white\",\"ticks\":\"\",\"title\":{\"standoff\":15},\"zerolinecolor\":\"white\",\"automargin\":true,\"zerolinewidth\":2},\"scene\":{\"xaxis\":{\"backgroundcolor\":\"#E5ECF6\",\"gridcolor\":\"white\",\"linecolor\":\"white\",\"showbackground\":true,\"ticks\":\"\",\"zerolinecolor\":\"white\",\"gridwidth\":2},\"yaxis\":{\"backgroundcolor\":\"#E5ECF6\",\"gridcolor\":\"white\",\"linecolor\":\"white\",\"showbackground\":true,\"ticks\":\"\",\"zerolinecolor\":\"white\",\"gridwidth\":2},\"zaxis\":{\"backgroundcolor\":\"#E5ECF6\",\"gridcolor\":\"white\",\"linecolor\":\"white\",\"showbackground\":true,\"ticks\":\"\",\"zerolinecolor\":\"white\",\"gridwidth\":2}},\"shapedefaults\":{\"line\":{\"color\":\"#2a3f5f\"}},\"annotationdefaults\":{\"arrowcolor\":\"#2a3f5f\",\"arrowhead\":0,\"arrowwidth\":1},\"geo\":{\"bgcolor\":\"white\",\"landcolor\":\"#E5ECF6\",\"subunitcolor\":\"white\",\"showland\":true,\"showlakes\":true,\"lakecolor\":\"white\"},\"title\":{\"x\":0.05},\"mapbox\":{\"style\":\"light\"}}},\"xaxis\":{\"anchor\":\"y\",\"domain\":[0.0,1.0],\"title\":{\"text\":\"Sector\"},\"tickangle\":90},\"yaxis\":{\"anchor\":\"x\",\"domain\":[0.0,1.0],\"title\":{\"text\":\"Values\"}},\"coloraxis\":{\"colorbar\":{\"title\":{\"text\":\"index\"}},\"colorscale\":[[0.0,\"#0d0887\"],[0.1111111111111111,\"#46039f\"],[0.2222222222222222,\"#7201a8\"],[0.3333333333333333,\"#9c179e\"],[0.4444444444444444,\"#bd3786\"],[0.5555555555555556,\"#d8576b\"],[0.6666666666666666,\"#ed7953\"],[0.7777777777777778,\"#fb9f3a\"],[0.8888888888888888,\"#fdca26\"],[1.0,\"#f0f921\"]]},\"legend\":{\"tracegroupgap\":0},\"title\":{\"text\":\"Currently Top Sector\"},\"barmode\":\"relative\",\"height\":800,\"width\":1200},                        {\"responsive\": true}                    ).then(function(){\n",
       "                            \n",
       "var gd = document.getElementById('3cc40125-7c3c-4afc-ae75-e5c062755389');\n",
       "var x = new MutationObserver(function (mutations, observer) {{\n",
       "        var display = window.getComputedStyle(gd).display;\n",
       "        if (!display || display === 'none') {{\n",
       "            console.log([gd, 'removed!']);\n",
       "            Plotly.purge(gd);\n",
       "            observer.disconnect();\n",
       "        }}\n",
       "}});\n",
       "\n",
       "// Listen for the removal of the full notebook cells\n",
       "var notebookContainer = gd.closest('#notebook-container');\n",
       "if (notebookContainer) {{\n",
       "    x.observe(notebookContainer, {childList: true});\n",
       "}}\n",
       "\n",
       "// Listen for the clearing of the current output cell\n",
       "var outputEl = gd.closest('.output');\n",
       "if (outputEl) {{\n",
       "    x.observe(outputEl, {childList: true});\n",
       "}}\n",
       "\n",
       "                        })                };                });            </script>        </div>"
      ]
     },
     "metadata": {},
     "output_type": "display_data"
    }
   ],
   "source": [
    "fig = px.bar(data_frame=top_live,\n",
    "      x=top_live['Sector'],\n",
    "      y=top_live['Live'],\n",
    "      color=top_live.index,\n",
    "      title='Currently Top Sector',\n",
    "      width=1200,\n",
    "      height=800\n",
    "            )\n",
    "fig.update_layout(\n",
    "    xaxis_title='Sector',\n",
    "    yaxis_title='Values',\n",
    "    xaxis_tickangle=90\n",
    ")\n"
   ]
  },
  {
   "cell_type": "code",
   "execution_count": 40,
   "id": "229f48b5-86c6-46d8-949a-4c21ff81c71f",
   "metadata": {},
   "outputs": [
    {
     "data": {
      "image/png": "[encoded data removed]",
      "text/plain": [
       "<Figure size 1200x600 with 1 Axes>"
      ]
     },
     "metadata": {},
     "output_type": "display_data"
    }
   ],
   "source": [
    "weekly_cols = ['Week 1', 'Week 2','Week 3', 'Week 4', 'Week 5', 'Week 6', 'Week 7', 'Week 8', 'Week 9']\n",
    "import matplotlib.pyplot as plt\n",
    "top_live[weekly_cols].head(10).T.plot(kind='bar', stacked=True, figsize=(12, 6))\n",
    "plt.title('Weekly Values by Sector')\n",
    "plt.xlabel('Week')\n",
    "plt.show()"
   ]
  },
  {
   "cell_type": "code",
   "execution_count": 41,
   "id": "f02d6396-4d97-4855-ad51-9e8597926e5c",
   "metadata": {},
   "outputs": [
    {
     "data": {
      "application/vnd.plotly.v1+json": {
       "config": {
        "plotlyServerURL": "https://plot.ly"
       },
       "data": [
        {
         "alignmentgroup": "True",
         "hovertemplate": "Sector=0<br>Week=%{x}<br>Value=%{y}<extra></extra>",
         "legendgroup": "0",
         "marker": {
          "color": "#636efa",
          "pattern": {
           "shape": ""
          }
         },
         "name": "0",
         "offsetgroup": "0",
         "orientation": "v",
         "showlegend": true,
         "textposition": "auto",
         "type": "bar",
         "x": [
          "Week 1",
          "Week 2",
          "Week 3",
          "Week 4",
          "Week 5",
          "Week 6",
          "Week 7",
          "Week 8",
          "Week 9"
         ],
         "xaxis": "x",
         "y": [
          -24.68,
          -22.54,
          -14.41,
          0.3,
          -5.05,
          -4.61,
          -7.32,
          -7.1,
          -9.84
         ],
         "yaxis": "y"
        },
        {
         "alignmentgroup": "True",
         "hovertemplate": "Sector=1<br>Week=%{x}<br>Value=%{y}<extra></extra>",
         "legendgroup": "1",
         "marker": {
          "color": "#EF553B",
          "pattern": {
           "shape": ""
          }
         },
         "name": "1",
         "offsetgroup": "1",
         "orientation": "v",
         "showlegend": true,
         "textposition": "auto",
         "type": "bar",
         "x": [
          "Week 1",
          "Week 2",
          "Week 3",
          "Week 4",
          "Week 5",
          "Week 6",
          "Week 7",
          "Week 8",
          "Week 9"
         ],
         "xaxis": "x",
         "y": [
          -22.37,
          -18.04,
          -19.69,
          -9.47,
          -12.78,
          -12.99,
          -13.49,
          -10.65,
          -10.67
         ],
         "yaxis": "y"
        },
        {
         "alignmentgroup": "True",
         "hovertemplate": "Sector=2<br>Week=%{x}<br>Value=%{y}<extra></extra>",
         "legendgroup": "2",
         "marker": {
          "color": "#00cc96",
          "pattern": {
           "shape": ""
          }
         },
         "name": "2",
         "offsetgroup": "2",
         "orientation": "v",
         "showlegend": true,
         "textposition": "auto",
         "type": "bar",
         "x": [
          "Week 1",
          "Week 2",
          "Week 3",
          "Week 4",
          "Week 5",
          "Week 6",
          "Week 7",
          "Week 8",
          "Week 9"
         ],
         "xaxis": "x",
         "y": [
          -6.64,
          -8.39,
          -4.22,
          0.89,
          -6.86,
          -4.42,
          -7.56,
          -6.24,
          -8.6
         ],
         "yaxis": "y"
        },
        {
         "alignmentgroup": "True",
         "hovertemplate": "Sector=3<br>Week=%{x}<br>Value=%{y}<extra></extra>",
         "legendgroup": "3",
         "marker": {
          "color": "#ab63fa",
          "pattern": {
           "shape": ""
          }
         },
         "name": "3",
         "offsetgroup": "3",
         "orientation": "v",
         "showlegend": true,
         "textposition": "auto",
         "type": "bar",
         "x": [
          "Week 1",
          "Week 2",
          "Week 3",
          "Week 4",
          "Week 5",
          "Week 6",
          "Week 7",
          "Week 8",
          "Week 9"
         ],
         "xaxis": "x",
         "y": [
          -1.19,
          9.41,
          21.57,
          20.88,
          28.26,
          19.52,
          6.3,
          2.86,
          -9.95
         ],
         "yaxis": "y"
        },
        {
         "alignmentgroup": "True",
         "hovertemplate": "Sector=4<br>Week=%{x}<br>Value=%{y}<extra></extra>",
         "legendgroup": "4",
         "marker": {
          "color": "#FFA15A",
          "pattern": {
           "shape": ""
          }
         },
         "name": "4",
         "offsetgroup": "4",
         "orientation": "v",
         "showlegend": true,
         "textposition": "auto",
         "type": "bar",
         "x": [
          "Week 1",
          "Week 2",
          "Week 3",
          "Week 4",
          "Week 5",
          "Week 6",
          "Week 7",
          "Week 8",
          "Week 9"
         ],
         "xaxis": "x",
         "y": [
          -23.42,
          -26.82,
          -16.77,
          -9.9,
          -4.28,
          -5.21,
          -5.62,
          -7.2,
          -8.81
         ],
         "yaxis": "y"
        },
        {
         "alignmentgroup": "True",
         "hovertemplate": "Sector=5<br>Week=%{x}<br>Value=%{y}<extra></extra>",
         "legendgroup": "5",
         "marker": {
          "color": "#19d3f3",
          "pattern": {
           "shape": ""
          }
         },
         "name": "5",
         "offsetgroup": "5",
         "orientation": "v",
         "showlegend": true,
         "textposition": "auto",
         "type": "bar",
         "x": [
          "Week 1",
          "Week 2",
          "Week 3",
          "Week 4",
          "Week 5",
          "Week 6",
          "Week 7",
          "Week 8",
          "Week 9"
         ],
         "xaxis": "x",
         "y": [
          -22.55,
          -22.78,
          -14.84,
          -10.61,
          -6.42,
          4.96,
          -4.65,
          -2.76,
          -7.35
         ],
         "yaxis": "y"
        },
        {
         "alignmentgroup": "True",
         "hovertemplate": "Sector=6<br>Week=%{x}<br>Value=%{y}<extra></extra>",
         "legendgroup": "6",
         "marker": {
          "color": "#FF6692",
          "pattern": {
           "shape": ""
          }
         },
         "name": "6",
         "offsetgroup": "6",
         "orientation": "v",
         "showlegend": true,
         "textposition": "auto",
         "type": "bar",
         "x": [
          "Week 1",
          "Week 2",
          "Week 3",
          "Week 4",
          "Week 5",
          "Week 6",
          "Week 7",
          "Week 8",
          "Week 9"
         ],
         "xaxis": "x",
         "y": [
          -18.05,
          -16.7,
          -8.7,
          -1.06,
          1.87,
          17.07,
          14.51,
          13.93,
          -10.97
         ],
         "yaxis": "y"
        },
        {
         "alignmentgroup": "True",
         "hovertemplate": "Sector=7<br>Week=%{x}<br>Value=%{y}<extra></extra>",
         "legendgroup": "7",
         "marker": {
          "color": "#B6E880",
          "pattern": {
           "shape": ""
          }
         },
         "name": "7",
         "offsetgroup": "7",
         "orientation": "v",
         "showlegend": true,
         "textposition": "auto",
         "type": "bar",
         "x": [
          "Week 1",
          "Week 2",
          "Week 3",
          "Week 4",
          "Week 5",
          "Week 6",
          "Week 7",
          "Week 8",
          "Week 9"
         ],
         "xaxis": "x",
         "y": [
          -24.7,
          -20.32,
          -13.84,
          -3.95,
          -0.7,
          7.54,
          26.8,
          -6.06,
          -6.06
         ],
         "yaxis": "y"
        },
        {
         "alignmentgroup": "True",
         "hovertemplate": "Sector=8<br>Week=%{x}<br>Value=%{y}<extra></extra>",
         "legendgroup": "8",
         "marker": {
          "color": "#FF97FF",
          "pattern": {
           "shape": ""
          }
         },
         "name": "8",
         "offsetgroup": "8",
         "orientation": "v",
         "showlegend": true,
         "textposition": "auto",
         "type": "bar",
         "x": [
          "Week 1",
          "Week 2",
          "Week 3",
          "Week 4",
          "Week 5",
          "Week 6",
          "Week 7",
          "Week 8",
          "Week 9"
         ],
         "xaxis": "x",
         "y": [
          null,
          null,
          null,
          null,
          null,
          null,
          null,
          null,
          null
         ],
         "yaxis": "y"
        },
        {
         "alignmentgroup": "True",
         "hovertemplate": "Sector=9<br>Week=%{x}<br>Value=%{y}<extra></extra>",
         "legendgroup": "9",
         "marker": {
          "color": "#FECB52",
          "pattern": {
           "shape": ""
          }
         },
         "name": "9",
         "offsetgroup": "9",
         "orientation": "v",
         "showlegend": true,
         "textposition": "auto",
         "type": "bar",
         "x": [
          "Week 1",
          "Week 2",
          "Week 3",
          "Week 4",
          "Week 5",
          "Week 6",
          "Week 7",
          "Week 8",
          "Week 9"
         ],
         "xaxis": "x",
         "y": [
          null,
          null,
          null,
          null,
          null,
          null,
          null,
          null,
          null
         ],
         "yaxis": "y"
        }
       ],
       "layout": {
        "autosize": true,
        "barmode": "stack",
        "legend": {
         "title": {
          "text": "Sector"
         },
         "tracegroupgap": 0
        },
        "template": {
         "data": {
          "bar": [
           {
            "error_x": {
             "color": "#2a3f5f"
            },
            "error_y": {
             "color": "#2a3f5f"
            },
            "marker": {
             "line": {
              "color": "#E5ECF6",
              "width": 0.5
             },
             "pattern": {
              "fillmode": "overlay",
              "size": 10,
              "solidity": 0.2
             }
            },
            "type": "bar"
           }
          ],
          "barpolar": [
           {
            "marker": {
             "line": {
              "color": "#E5ECF6",
              "width": 0.5
             },
             "pattern": {
              "fillmode": "overlay",
              "size": 10,
              "solidity": 0.2
             }
            },
            "type": "barpolar"
           }
          ],
          "carpet": [
           {
            "aaxis": {
             "endlinecolor": "#2a3f5f",
             "gridcolor": "white",
             "linecolor": "white",
             "minorgridcolor": "white",
             "startlinecolor": "#2a3f5f"
            },
            "baxis": {
             "endlinecolor": "#2a3f5f",
             "gridcolor": "white",
             "linecolor": "white",
             "minorgridcolor": "white",
             "startlinecolor": "#2a3f5f"
            },
            "type": "carpet"
           }
          ],
          "choropleth": [
           {
            "colorbar": {
             "outlinewidth": 0,
             "ticks": ""
            },
            "type": "choropleth"
           }
          ],
          "contour": [
           {
            "colorbar": {
             "outlinewidth": 0,
             "ticks": ""
            },
            "colorscale": [
             [
              0,
              "#0d0887"
             ],
             [
              0.1111111111111111,
              "#46039f"
             ],
             [
              0.2222222222222222,
              "#7201a8"
             ],
             [
              0.3333333333333333,
              "#9c179e"
             ],
             [
              0.4444444444444444,
              "#bd3786"
             ],
             [
              0.5555555555555556,
              "#d8576b"
             ],
             [
              0.6666666666666666,
              "#ed7953"
             ],
             [
              0.7777777777777778,
              "#fb9f3a"
             ],
             [
              0.8888888888888888,
              "#fdca26"
             ],
             [
              1,
              "#f0f921"
             ]
            ],
            "type": "contour"
           }
          ],
          "contourcarpet": [
           {
            "colorbar": {
             "outlinewidth": 0,
             "ticks": ""
            },
            "type": "contourcarpet"
           }
          ],
          "heatmap": [
           {
            "colorbar": {
             "outlinewidth": 0,
             "ticks": ""
            },
            "colorscale": [
             [
              0,
              "#0d0887"
             ],
             [
              0.1111111111111111,
              "#46039f"
             ],
             [
              0.2222222222222222,
              "#7201a8"
             ],
             [
              0.3333333333333333,
              "#9c179e"
             ],
             [
              0.4444444444444444,
              "#bd3786"
             ],
             [
              0.5555555555555556,
              "#d8576b"
             ],
             [
              0.6666666666666666,
              "#ed7953"
             ],
             [
              0.7777777777777778,
              "#fb9f3a"
             ],
             [
              0.8888888888888888,
              "#fdca26"
             ],
             [
              1,
              "#f0f921"
             ]
            ],
            "type": "heatmap"
           }
          ],
          "heatmapgl": [
           {
            "colorbar": {
             "outlinewidth": 0,
             "ticks": ""
            },
            "colorscale": [
             [
              0,
              "#0d0887"
             ],
             [
              0.1111111111111111,
              "#46039f"
             ],
             [
              0.2222222222222222,
              "#7201a8"
             ],
             [
              0.3333333333333333,
              "#9c179e"
             ],
             [
              0.4444444444444444,
              "#bd3786"
             ],
             [
              0.5555555555555556,
              "#d8576b"
             ],
             [
              0.6666666666666666,
              "#ed7953"
             ],
             [
              0.7777777777777778,
              "#fb9f3a"
             ],
             [
              0.8888888888888888,
              "#fdca26"
             ],
             [
              1,
              "#f0f921"
             ]
            ],
            "type": "heatmapgl"
           }
          ],
          "histogram": [
           {
            "marker": {
             "pattern": {
              "fillmode": "overlay",
              "size": 10,
              "solidity": 0.2
             }
            },
            "type": "histogram"
           }
          ],
          "histogram2d": [
           {
            "colorbar": {
             "outlinewidth": 0,
             "ticks": ""
            },
            "colorscale": [
             [
              0,
              "#0d0887"
             ],
             [
              0.1111111111111111,
              "#46039f"
             ],
             [
              0.2222222222222222,
              "#7201a8"
             ],
             [
              0.3333333333333333,
              "#9c179e"
             ],
             [
              0.4444444444444444,
              "#bd3786"
             ],
             [
              0.5555555555555556,
              "#d8576b"
             ],
             [
              0.6666666666666666,
              "#ed7953"
             ],
             [
              0.7777777777777778,
              "#fb9f3a"
             ],
             [
              0.8888888888888888,
              "#fdca26"
             ],
             [
              1,
              "#f0f921"
             ]
            ],
            "type": "histogram2d"
           }
          ],
          "histogram2dcontour": [
           {
            "colorbar": {
             "outlinewidth": 0,
             "ticks": ""
            },
            "colorscale": [
             [
              0,
              "#0d0887"
             ],
             [
              0.1111111111111111,
              "#46039f"
             ],
             [
              0.2222222222222222,
              "#7201a8"
             ],
             [
              0.3333333333333333,
              "#9c179e"
             ],
             [
              0.4444444444444444,
              "#bd3786"
             ],
             [
              0.5555555555555556,
              "#d8576b"
             ],
             [
              0.6666666666666666,
              "#ed7953"
             ],
             [
              0.7777777777777778,
              "#fb9f3a"
             ],
             [
              0.8888888888888888,
              "#fdca26"
             ],
             [
              1,
              "#f0f921"
             ]
            ],
            "type": "histogram2dcontour"
           }
          ],
          "mesh3d": [
           {
            "colorbar": {
             "outlinewidth": 0,
             "ticks": ""
            },
            "type": "mesh3d"
           }
          ],
          "parcoords": [
           {
            "line": {
             "colorbar": {
              "outlinewidth": 0,
              "ticks": ""
             }
            },
            "type": "parcoords"
           }
          ],
          "pie": [
           {
            "automargin": true,
            "type": "pie"
           }
          ],
          "scatter": [
           {
            "fillpattern": {
             "fillmode": "overlay",
             "size": 10,
             "solidity": 0.2
            },
            "type": "scatter"
           }
          ],
          "scatter3d": [
           {
            "line": {
             "colorbar": {
              "outlinewidth": 0,
              "ticks": ""
             }
            },
            "marker": {
             "colorbar": {
              "outlinewidth": 0,
              "ticks": ""
             }
            },
            "type": "scatter3d"
           }
          ],
          "scattercarpet": [
           {
            "marker": {
             "colorbar": {
              "outlinewidth": 0,
              "ticks": ""
             }
            },
            "type": "scattercarpet"
           }
          ],
          "scattergeo": [
           {
            "marker": {
             "colorbar": {
              "outlinewidth": 0,
              "ticks": ""
             }
            },
            "type": "scattergeo"
           }
          ],
          "scattergl": [
           {
            "marker": {
             "colorbar": {
              "outlinewidth": 0,
              "ticks": ""
             }
            },
            "type": "scattergl"
           }
          ],
          "scattermapbox": [
           {
            "marker": {
             "colorbar": {
              "outlinewidth": 0,
              "ticks": ""
             }
            },
            "type": "scattermapbox"
           }
          ],
          "scatterpolar": [
           {
            "marker": {
             "colorbar": {
              "outlinewidth": 0,
              "ticks": ""
             }
            },
            "type": "scatterpolar"
           }
          ],
          "scatterpolargl": [
           {
            "marker": {
             "colorbar": {
              "outlinewidth": 0,
              "ticks": ""
             }
            },
            "type": "scatterpolargl"
           }
          ],
          "scatterternary": [
           {
            "marker": {
             "colorbar": {
              "outlinewidth": 0,
              "ticks": ""
             }
            },
            "type": "scatterternary"
           }
          ],
          "surface": [
           {
            "colorbar": {
             "outlinewidth": 0,
             "ticks": ""
            },
            "colorscale": [
             [
              0,
              "#0d0887"
             ],
             [
              0.1111111111111111,
              "#46039f"
             ],
             [
              0.2222222222222222,
              "#7201a8"
             ],
             [
              0.3333333333333333,
              "#9c179e"
             ],
             [
              0.4444444444444444,
              "#bd3786"
             ],
             [
              0.5555555555555556,
              "#d8576b"
             ],
             [
              0.6666666666666666,
              "#ed7953"
             ],
             [
              0.7777777777777778,
              "#fb9f3a"
             ],
             [
              0.8888888888888888,
              "#fdca26"
             ],
             [
              1,
              "#f0f921"
             ]
            ],
            "type": "surface"
           }
          ],
          "table": [
           {
            "cells": {
             "fill": {
              "color": "#EBF0F8"
             },
             "line": {
              "color": "white"
             }
            },
            "header": {
             "fill": {
              "color": "#C8D4E3"
             },
             "line": {
              "color": "white"
             }
            },
            "type": "table"
           }
          ]
         },
         "layout": {
          "annotationdefaults": {
           "arrowcolor": "#2a3f5f",
           "arrowhead": 0,
           "arrowwidth": 1
          },
          "autotypenumbers": "strict",
          "coloraxis": {
           "colorbar": {
            "outlinewidth": 0,
            "ticks": ""
           }
          },
          "colorscale": {
           "diverging": [
            [
             0,
             "#8e0152"
            ],
            [
             0.1,
             "#c51b7d"
            ],
            [
             0.2,
             "#de77ae"
            ],
            [
             0.3,
             "#f1b6da"
            ],
            [
             0.4,
             "#fde0ef"
            ],
            [
             0.5,
             "#f7f7f7"
            ],
            [
             0.6,
             "#e6f5d0"
            ],
            [
             0.7,
             "#b8e186"
            ],
            [
             0.8,
             "#7fbc41"
            ],
            [
             0.9,
             "#4d9221"
            ],
            [
             1,
             "#276419"
            ]
           ],
           "sequential": [
            [
             0,
             "#0d0887"
            ],
            [
             0.1111111111111111,
             "#46039f"
            ],
            [
             0.2222222222222222,
             "#7201a8"
            ],
            [
             0.3333333333333333,
             "#9c179e"
            ],
            [
             0.4444444444444444,
             "#bd3786"
            ],
            [
             0.5555555555555556,
             "#d8576b"
            ],
            [
             0.6666666666666666,
             "#ed7953"
            ],
            [
             0.7777777777777778,
             "#fb9f3a"
            ],
            [
             0.8888888888888888,
             "#fdca26"
            ],
            [
             1,
             "#f0f921"
            ]
           ],
           "sequentialminus": [
            [
             0,
             "#0d0887"
            ],
            [
             0.1111111111111111,
             "#46039f"
            ],
            [
             0.2222222222222222,
             "#7201a8"
            ],
            [
             0.3333333333333333,
             "#9c179e"
            ],
            [
             0.4444444444444444,
             "#bd3786"
            ],
            [
             0.5555555555555556,
             "#d8576b"
            ],
            [
             0.6666666666666666,
             "#ed7953"
            ],
            [
             0.7777777777777778,
             "#fb9f3a"
            ],
            [
             0.8888888888888888,
             "#fdca26"
            ],
            [
             1,
             "#f0f921"
            ]
           ]
          },
          "colorway": [
           "#636efa",
           "#EF553B",
           "#00cc96",
           "#ab63fa",
           "#FFA15A",
           "#19d3f3",
           "#FF6692",
           "#B6E880",
           "#FF97FF",
           "#FECB52"
          ],
          "font": {
           "color": "#2a3f5f"
          },
          "geo": {
           "bgcolor": "white",
           "lakecolor": "white",
           "landcolor": "#E5ECF6",
           "showlakes": true,
           "showland": true,
           "subunitcolor": "white"
          },
          "hoverlabel": {
           "align": "left"
          },
          "hovermode": "closest",
          "mapbox": {
           "style": "light"
          },
          "paper_bgcolor": "white",
          "plot_bgcolor": "#E5ECF6",
          "polar": {
           "angularaxis": {
            "gridcolor": "white",
            "linecolor": "white",
            "ticks": ""
           },
           "bgcolor": "#E5ECF6",
           "radialaxis": {
            "gridcolor": "white",
            "linecolor": "white",
            "ticks": ""
           }
          },
          "scene": {
           "xaxis": {
            "backgroundcolor": "#E5ECF6",
            "gridcolor": "white",
            "gridwidth": 2,
            "linecolor": "white",
            "showbackground": true,
            "ticks": "",
            "zerolinecolor": "white"
           },
           "yaxis": {
            "backgroundcolor": "#E5ECF6",
            "gridcolor": "white",
            "gridwidth": 2,
            "linecolor": "white",
            "showbackground": true,
            "ticks": "",
            "zerolinecolor": "white"
           },
           "zaxis": {
            "backgroundcolor": "#E5ECF6",
            "gridcolor": "white",
            "gridwidth": 2,
            "linecolor": "white",
            "showbackground": true,
            "ticks": "",
            "zerolinecolor": "white"
           }
          },
          "shapedefaults": {
           "line": {
            "color": "#2a3f5f"
           }
          },
          "ternary": {
           "aaxis": {
            "gridcolor": "white",
            "linecolor": "white",
            "ticks": ""
           },
           "baxis": {
            "gridcolor": "white",
            "linecolor": "white",
            "ticks": ""
           },
           "bgcolor": "#E5ECF6",
           "caxis": {
            "gridcolor": "white",
            "linecolor": "white",
            "ticks": ""
           }
          },
          "title": {
           "x": 0.05
          },
          "xaxis": {
           "automargin": true,
           "gridcolor": "white",
           "linecolor": "white",
           "ticks": "",
           "title": {
            "standoff": 15
           },
           "zerolinecolor": "white",
           "zerolinewidth": 2
          },
          "yaxis": {
           "automargin": true,
           "gridcolor": "white",
           "linecolor": "white",
           "ticks": "",
           "title": {
            "standoff": 15
           },
           "zerolinecolor": "white",
           "zerolinewidth": 2
          }
         }
        },
        "title": {
         "text": "Weekly Sector Values"
        },
        "xaxis": {
         "anchor": "y",
         "autorange": true,
         "domain": [
          0,
          1
         ],
         "range": [
          -0.5,
          8.5
         ],
         "title": {
          "text": "Week"
         },
         "type": "category"
        },
        "yaxis": {
         "anchor": "x",
         "autorange": true,
         "domain": [
          0,
          1
         ],
         "range": [
          -152.79222222222222,
          31.05222222222222
         ],
         "title": {
          "text": "Value"
         },
         "type": "linear"
        }
       }
      },
      "image/png": "[encoded data removed]",
      "text/html": [
       "<div>                            <div id=\"158a5b14-1871-4a85-8177-24e65252912d\" class=\"plotly-graph-div\" style=\"height:600px; width:100%;\"></div>            <script type=\"text/javascript\">                require([\"plotly\"], function(Plotly) {                    window.PLOTLYENV=window.PLOTLYENV || {};                                    if (document.getElementById(\"158a5b14-1871-4a85-8177-24e65252912d\")) {                    Plotly.newPlot(                        \"158a5b14-1871-4a85-8177-24e65252912d\",                        [{\"alignmentgroup\":\"True\",\"hovertemplate\":\"Sector=0\\u003cbr\\u003eWeek=%{x}\\u003cbr\\u003eValue=%{y}\\u003cextra\\u003e\\u003c\\u002fextra\\u003e\",\"legendgroup\":\"0\",\"marker\":{\"color\":\"#636efa\",\"pattern\":{\"shape\":\"\"}},\"name\":\"0\",\"offsetgroup\":\"0\",\"orientation\":\"v\",\"showlegend\":true,\"textposition\":\"auto\",\"x\":[\"Week 1\",\"Week 2\",\"Week 3\",\"Week 4\",\"Week 5\",\"Week 6\",\"Week 7\",\"Week 8\",\"Week 9\"],\"xaxis\":\"x\",\"y\":[-24.68,-22.54,-14.41,0.3,-5.05,-4.61,-7.32,-7.1,-9.84],\"yaxis\":\"y\",\"type\":\"bar\"},{\"alignmentgroup\":\"True\",\"hovertemplate\":\"Sector=1\\u003cbr\\u003eWeek=%{x}\\u003cbr\\u003eValue=%{y}\\u003cextra\\u003e\\u003c\\u002fextra\\u003e\",\"legendgroup\":\"1\",\"marker\":{\"color\":\"#EF553B\",\"pattern\":{\"shape\":\"\"}},\"name\":\"1\",\"offsetgroup\":\"1\",\"orientation\":\"v\",\"showlegend\":true,\"textposition\":\"auto\",\"x\":[\"Week 1\",\"Week 2\",\"Week 3\",\"Week 4\",\"Week 5\",\"Week 6\",\"Week 7\",\"Week 8\",\"Week 9\"],\"xaxis\":\"x\",\"y\":[-22.37,-18.04,-19.69,-9.47,-12.78,-12.99,-13.49,-10.65,-10.67],\"yaxis\":\"y\",\"type\":\"bar\"},{\"alignmentgroup\":\"True\",\"hovertemplate\":\"Sector=2\\u003cbr\\u003eWeek=%{x}\\u003cbr\\u003eValue=%{y}\\u003cextra\\u003e\\u003c\\u002fextra\\u003e\",\"legendgroup\":\"2\",\"marker\":{\"color\":\"#00cc96\",\"pattern\":{\"shape\":\"\"}},\"name\":\"2\",\"offsetgroup\":\"2\",\"orientation\":\"v\",\"showlegend\":true,\"textposition\":\"auto\",\"x\":[\"Week 1\",\"Week 2\",\"Week 3\",\"Week 4\",\"Week 5\",\"Week 6\",\"Week 7\",\"Week 8\",\"Week 9\"],\"xaxis\":\"x\",\"y\":[-6.64,-8.39,-4.22,0.89,-6.86,-4.42,-7.56,-6.24,-8.6],\"yaxis\":\"y\",\"type\":\"bar\"},{\"alignmentgroup\":\"True\",\"hovertemplate\":\"Sector=3\\u003cbr\\u003eWeek=%{x}\\u003cbr\\u003eValue=%{y}\\u003cextra\\u003e\\u003c\\u002fextra\\u003e\",\"legendgroup\":\"3\",\"marker\":{\"color\":\"#ab63fa\",\"pattern\":{\"shape\":\"\"}},\"name\":\"3\",\"offsetgroup\":\"3\",\"orientation\":\"v\",\"showlegend\":true,\"textposition\":\"auto\",\"x\":[\"Week 1\",\"Week 2\",\"Week 3\",\"Week 4\",\"Week 5\",\"Week 6\",\"Week 7\",\"Week 8\",\"Week 9\"],\"xaxis\":\"x\",\"y\":[-1.19,9.41,21.57,20.88,28.26,19.52,6.3,2.86,-9.95],\"yaxis\":\"y\",\"type\":\"bar\"},{\"alignmentgroup\":\"True\",\"hovertemplate\":\"Sector=4\\u003cbr\\u003eWeek=%{x}\\u003cbr\\u003eValue=%{y}\\u003cextra\\u003e\\u003c\\u002fextra\\u003e\",\"legendgroup\":\"4\",\"marker\":{\"color\":\"#FFA15A\",\"pattern\":{\"shape\":\"\"}},\"name\":\"4\",\"offsetgroup\":\"4\",\"orientation\":\"v\",\"showlegend\":true,\"textposition\":\"auto\",\"x\":[\"Week 1\",\"Week 2\",\"Week 3\",\"Week 4\",\"Week 5\",\"Week 6\",\"Week 7\",\"Week 8\",\"Week 9\"],\"xaxis\":\"x\",\"y\":[-23.42,-26.82,-16.77,-9.9,-4.28,-5.21,-5.62,-7.2,-8.81],\"yaxis\":\"y\",\"type\":\"bar\"},{\"alignmentgroup\":\"True\",\"hovertemplate\":\"Sector=5\\u003cbr\\u003eWeek=%{x}\\u003cbr\\u003eValue=%{y}\\u003cextra\\u003e\\u003c\\u002fextra\\u003e\",\"legendgroup\":\"5\",\"marker\":{\"color\":\"#19d3f3\",\"pattern\":{\"shape\":\"\"}},\"name\":\"5\",\"offsetgroup\":\"5\",\"orientation\":\"v\",\"showlegend\":true,\"textposition\":\"auto\",\"x\":[\"Week 1\",\"Week 2\",\"Week 3\",\"Week 4\",\"Week 5\",\"Week 6\",\"Week 7\",\"Week 8\",\"Week 9\"],\"xaxis\":\"x\",\"y\":[-22.55,-22.78,-14.84,-10.61,-6.42,4.96,-4.65,-2.76,-7.35],\"yaxis\":\"y\",\"type\":\"bar\"},{\"alignmentgroup\":\"True\",\"hovertemplate\":\"Sector=6\\u003cbr\\u003eWeek=%{x}\\u003cbr\\u003eValue=%{y}\\u003cextra\\u003e\\u003c\\u002fextra\\u003e\",\"legendgroup\":\"6\",\"marker\":{\"color\":\"#FF6692\",\"pattern\":{\"shape\":\"\"}},\"name\":\"6\",\"offsetgroup\":\"6\",\"orientation\":\"v\",\"showlegend\":true,\"textposition\":\"auto\",\"x\":[\"Week 1\",\"Week 2\",\"Week 3\",\"Week 4\",\"Week 5\",\"Week 6\",\"Week 7\",\"Week 8\",\"Week 9\"],\"xaxis\":\"x\",\"y\":[-18.05,-16.7,-8.7,-1.06,1.87,17.07,14.51,13.93,-10.97],\"yaxis\":\"y\",\"type\":\"bar\"},{\"alignmentgroup\":\"True\",\"hovertemplate\":\"Sector=7\\u003cbr\\u003eWeek=%{x}\\u003cbr\\u003eValue=%{y}\\u003cextra\\u003e\\u003c\\u002fextra\\u003e\",\"legendgroup\":\"7\",\"marker\":{\"color\":\"#B6E880\",\"pattern\":{\"shape\":\"\"}},\"name\":\"7\",\"offsetgroup\":\"7\",\"orientation\":\"v\",\"showlegend\":true,\"textposition\":\"auto\",\"x\":[\"Week 1\",\"Week 2\",\"Week 3\",\"Week 4\",\"Week 5\",\"Week 6\",\"Week 7\",\"Week 8\",\"Week 9\"],\"xaxis\":\"x\",\"y\":[-24.7,-20.32,-13.84,-3.95,-0.7,7.54,26.8,-6.06,-6.06],\"yaxis\":\"y\",\"type\":\"bar\"},{\"alignmentgroup\":\"True\",\"hovertemplate\":\"Sector=8\\u003cbr\\u003eWeek=%{x}\\u003cbr\\u003eValue=%{y}\\u003cextra\\u003e\\u003c\\u002fextra\\u003e\",\"legendgroup\":\"8\",\"marker\":{\"color\":\"#FF97FF\",\"pattern\":{\"shape\":\"\"}},\"name\":\"8\",\"offsetgroup\":\"8\",\"orientation\":\"v\",\"showlegend\":true,\"textposition\":\"auto\",\"x\":[\"Week 1\",\"Week 2\",\"Week 3\",\"Week 4\",\"Week 5\",\"Week 6\",\"Week 7\",\"Week 8\",\"Week 9\"],\"xaxis\":\"x\",\"y\":[null,null,null,null,null,null,null,null,null],\"yaxis\":\"y\",\"type\":\"bar\"},{\"alignmentgroup\":\"True\",\"hovertemplate\":\"Sector=9\\u003cbr\\u003eWeek=%{x}\\u003cbr\\u003eValue=%{y}\\u003cextra\\u003e\\u003c\\u002fextra\\u003e\",\"legendgroup\":\"9\",\"marker\":{\"color\":\"#FECB52\",\"pattern\":{\"shape\":\"\"}},\"name\":\"9\",\"offsetgroup\":\"9\",\"orientation\":\"v\",\"showlegend\":true,\"textposition\":\"auto\",\"x\":[\"Week 1\",\"Week 2\",\"Week 3\",\"Week 4\",\"Week 5\",\"Week 6\",\"Week 7\",\"Week 8\",\"Week 9\"],\"xaxis\":\"x\",\"y\":[null,null,null,null,null,null,null,null,null],\"yaxis\":\"y\",\"type\":\"bar\"}],                        {\"template\":{\"data\":{\"histogram2dcontour\":[{\"type\":\"histogram2dcontour\",\"colorbar\":{\"outlinewidth\":0,\"ticks\":\"\"},\"colorscale\":[[0.0,\"#0d0887\"],[0.1111111111111111,\"#46039f\"],[0.2222222222222222,\"#7201a8\"],[0.3333333333333333,\"#9c179e\"],[0.4444444444444444,\"#bd3786\"],[0.5555555555555556,\"#d8576b\"],[0.6666666666666666,\"#ed7953\"],[0.7777777777777778,\"#fb9f3a\"],[0.8888888888888888,\"#fdca26\"],[1.0,\"#f0f921\"]]}],\"choropleth\":[{\"type\":\"choropleth\",\"colorbar\":{\"outlinewidth\":0,\"ticks\":\"\"}}],\"histogram2d\":[{\"type\":\"histogram2d\",\"colorbar\":{\"outlinewidth\":0,\"ticks\":\"\"},\"colorscale\":[[0.0,\"#0d0887\"],[0.1111111111111111,\"#46039f\"],[0.2222222222222222,\"#7201a8\"],[0.3333333333333333,\"#9c179e\"],[0.4444444444444444,\"#bd3786\"],[0.5555555555555556,\"#d8576b\"],[0.6666666666666666,\"#ed7953\"],[0.7777777777777778,\"#fb9f3a\"],[0.8888888888888888,\"#fdca26\"],[1.0,\"#f0f921\"]]}],\"heatmap\":[{\"type\":\"heatmap\",\"colorbar\":{\"outlinewidth\":0,\"ticks\":\"\"},\"colorscale\":[[0.0,\"#0d0887\"],[0.1111111111111111,\"#46039f\"],[0.2222222222222222,\"#7201a8\"],[0.3333333333333333,\"#9c179e\"],[0.4444444444444444,\"#bd3786\"],[0.5555555555555556,\"#d8576b\"],[0.6666666666666666,\"#ed7953\"],[0.7777777777777778,\"#fb9f3a\"],[0.8888888888888888,\"#fdca26\"],[1.0,\"#f0f921\"]]}],\"heatmapgl\":[{\"type\":\"heatmapgl\",\"colorbar\":{\"outlinewidth\":0,\"ticks\":\"\"},\"colorscale\":[[0.0,\"#0d0887\"],[0.1111111111111111,\"#46039f\"],[0.2222222222222222,\"#7201a8\"],[0.3333333333333333,\"#9c179e\"],[0.4444444444444444,\"#bd3786\"],[0.5555555555555556,\"#d8576b\"],[0.6666666666666666,\"#ed7953\"],[0.7777777777777778,\"#fb9f3a\"],[0.8888888888888888,\"#fdca26\"],[1.0,\"#f0f921\"]]}],\"contourcarpet\":[{\"type\":\"contourcarpet\",\"colorbar\":{\"outlinewidth\":0,\"ticks\":\"\"}}],\"contour\":[{\"type\":\"contour\",\"colorbar\":{\"outlinewidth\":0,\"ticks\":\"\"},\"colorscale\":[[0.0,\"#0d0887\"],[0.1111111111111111,\"#46039f\"],[0.2222222222222222,\"#7201a8\"],[0.3333333333333333,\"#9c179e\"],[0.4444444444444444,\"#bd3786\"],[0.5555555555555556,\"#d8576b\"],[0.6666666666666666,\"#ed7953\"],[0.7777777777777778,\"#fb9f3a\"],[0.8888888888888888,\"#fdca26\"],[1.0,\"#f0f921\"]]}],\"surface\":[{\"type\":\"surface\",\"colorbar\":{\"outlinewidth\":0,\"ticks\":\"\"},\"colorscale\":[[0.0,\"#0d0887\"],[0.1111111111111111,\"#46039f\"],[0.2222222222222222,\"#7201a8\"],[0.3333333333333333,\"#9c179e\"],[0.4444444444444444,\"#bd3786\"],[0.5555555555555556,\"#d8576b\"],[0.6666666666666666,\"#ed7953\"],[0.7777777777777778,\"#fb9f3a\"],[0.8888888888888888,\"#fdca26\"],[1.0,\"#f0f921\"]]}],\"mesh3d\":[{\"type\":\"mesh3d\",\"colorbar\":{\"outlinewidth\":0,\"ticks\":\"\"}}],\"scatter\":[{\"fillpattern\":{\"fillmode\":\"overlay\",\"size\":10,\"solidity\":0.2},\"type\":\"scatter\"}],\"parcoords\":[{\"type\":\"parcoords\",\"line\":{\"colorbar\":{\"outlinewidth\":0,\"ticks\":\"\"}}}],\"scatterpolargl\":[{\"type\":\"scatterpolargl\",\"marker\":{\"colorbar\":{\"outlinewidth\":0,\"ticks\":\"\"}}}],\"bar\":[{\"error_x\":{\"color\":\"#2a3f5f\"},\"error_y\":{\"color\":\"#2a3f5f\"},\"marker\":{\"line\":{\"color\":\"#E5ECF6\",\"width\":0.5},\"pattern\":{\"fillmode\":\"overlay\",\"size\":10,\"solidity\":0.2}},\"type\":\"bar\"}],\"scattergeo\":[{\"type\":\"scattergeo\",\"marker\":{\"colorbar\":{\"outlinewidth\":0,\"ticks\":\"\"}}}],\"scatterpolar\":[{\"type\":\"scatterpolar\",\"marker\":{\"colorbar\":{\"outlinewidth\":0,\"ticks\":\"\"}}}],\"histogram\":[{\"marker\":{\"pattern\":{\"fillmode\":\"overlay\",\"size\":10,\"solidity\":0.2}},\"type\":\"histogram\"}],\"scattergl\":[{\"type\":\"scattergl\",\"marker\":{\"colorbar\":{\"outlinewidth\":0,\"ticks\":\"\"}}}],\"scatter3d\":[{\"type\":\"scatter3d\",\"line\":{\"colorbar\":{\"outlinewidth\":0,\"ticks\":\"\"}},\"marker\":{\"colorbar\":{\"outlinewidth\":0,\"ticks\":\"\"}}}],\"scattermapbox\":[{\"type\":\"scattermapbox\",\"marker\":{\"colorbar\":{\"outlinewidth\":0,\"ticks\":\"\"}}}],\"scatterternary\":[{\"type\":\"scatterternary\",\"marker\":{\"colorbar\":{\"outlinewidth\":0,\"ticks\":\"\"}}}],\"scattercarpet\":[{\"type\":\"scattercarpet\",\"marker\":{\"colorbar\":{\"outlinewidth\":0,\"ticks\":\"\"}}}],\"carpet\":[{\"aaxis\":{\"endlinecolor\":\"#2a3f5f\",\"gridcolor\":\"white\",\"linecolor\":\"white\",\"minorgridcolor\":\"white\",\"startlinecolor\":\"#2a3f5f\"},\"baxis\":{\"endlinecolor\":\"#2a3f5f\",\"gridcolor\":\"white\",\"linecolor\":\"white\",\"minorgridcolor\":\"white\",\"startlinecolor\":\"#2a3f5f\"},\"type\":\"carpet\"}],\"table\":[{\"cells\":{\"fill\":{\"color\":\"#EBF0F8\"},\"line\":{\"color\":\"white\"}},\"header\":{\"fill\":{\"color\":\"#C8D4E3\"},\"line\":{\"color\":\"white\"}},\"type\":\"table\"}],\"barpolar\":[{\"marker\":{\"line\":{\"color\":\"#E5ECF6\",\"width\":0.5},\"pattern\":{\"fillmode\":\"overlay\",\"size\":10,\"solidity\":0.2}},\"type\":\"barpolar\"}],\"pie\":[{\"automargin\":true,\"type\":\"pie\"}]},\"layout\":{\"autotypenumbers\":\"strict\",\"colorway\":[\"#636efa\",\"#EF553B\",\"#00cc96\",\"#ab63fa\",\"#FFA15A\",\"#19d3f3\",\"#FF6692\",\"#B6E880\",\"#FF97FF\",\"#FECB52\"],\"font\":{\"color\":\"#2a3f5f\"},\"hovermode\":\"closest\",\"hoverlabel\":{\"align\":\"left\"},\"paper_bgcolor\":\"white\",\"plot_bgcolor\":\"#E5ECF6\",\"polar\":{\"bgcolor\":\"#E5ECF6\",\"angularaxis\":{\"gridcolor\":\"white\",\"linecolor\":\"white\",\"ticks\":\"\"},\"radialaxis\":{\"gridcolor\":\"white\",\"linecolor\":\"white\",\"ticks\":\"\"}},\"ternary\":{\"bgcolor\":\"#E5ECF6\",\"aaxis\":{\"gridcolor\":\"white\",\"linecolor\":\"white\",\"ticks\":\"\"},\"baxis\":{\"gridcolor\":\"white\",\"linecolor\":\"white\",\"ticks\":\"\"},\"caxis\":{\"gridcolor\":\"white\",\"linecolor\":\"white\",\"ticks\":\"\"}},\"coloraxis\":{\"colorbar\":{\"outlinewidth\":0,\"ticks\":\"\"}},\"colorscale\":{\"sequential\":[[0.0,\"#0d0887\"],[0.1111111111111111,\"#46039f\"],[0.2222222222222222,\"#7201a8\"],[0.3333333333333333,\"#9c179e\"],[0.4444444444444444,\"#bd3786\"],[0.5555555555555556,\"#d8576b\"],[0.6666666666666666,\"#ed7953\"],[0.7777777777777778,\"#fb9f3a\"],[0.8888888888888888,\"#fdca26\"],[1.0,\"#f0f921\"]],\"sequentialminus\":[[0.0,\"#0d0887\"],[0.1111111111111111,\"#46039f\"],[0.2222222222222222,\"#7201a8\"],[0.3333333333333333,\"#9c179e\"],[0.4444444444444444,\"#bd3786\"],[0.5555555555555556,\"#d8576b\"],[0.6666666666666666,\"#ed7953\"],[0.7777777777777778,\"#fb9f3a\"],[0.8888888888888888,\"#fdca26\"],[1.0,\"#f0f921\"]],\"diverging\":[[0,\"#8e0152\"],[0.1,\"#c51b7d\"],[0.2,\"#de77ae\"],[0.3,\"#f1b6da\"],[0.4,\"#fde0ef\"],[0.5,\"#f7f7f7\"],[0.6,\"#e6f5d0\"],[0.7,\"#b8e186\"],[0.8,\"#7fbc41\"],[0.9,\"#4d9221\"],[1,\"#276419\"]]},\"xaxis\":{\"gridcolor\":\"white\",\"linecolor\":\"white\",\"ticks\":\"\",\"title\":{\"standoff\":15},\"zerolinecolor\":\"white\",\"automargin\":true,\"zerolinewidth\":2},\"yaxis\":{\"gridcolor\":\"white\",\"linecolor\":\"white\",\"ticks\":\"\",\"title\":{\"standoff\":15},\"zerolinecolor\":\"white\",\"automargin\":true,\"zerolinewidth\":2},\"scene\":{\"xaxis\":{\"backgroundcolor\":\"#E5ECF6\",\"gridcolor\":\"white\",\"linecolor\":\"white\",\"showbackground\":true,\"ticks\":\"\",\"zerolinecolor\":\"white\",\"gridwidth\":2},\"yaxis\":{\"backgroundcolor\":\"#E5ECF6\",\"gridcolor\":\"white\",\"linecolor\":\"white\",\"showbackground\":true,\"ticks\":\"\",\"zerolinecolor\":\"white\",\"gridwidth\":2},\"zaxis\":{\"backgroundcolor\":\"#E5ECF6\",\"gridcolor\":\"white\",\"linecolor\":\"white\",\"showbackground\":true,\"ticks\":\"\",\"zerolinecolor\":\"white\",\"gridwidth\":2}},\"shapedefaults\":{\"line\":{\"color\":\"#2a3f5f\"}},\"annotationdefaults\":{\"arrowcolor\":\"#2a3f5f\",\"arrowhead\":0,\"arrowwidth\":1},\"geo\":{\"bgcolor\":\"white\",\"landcolor\":\"#E5ECF6\",\"subunitcolor\":\"white\",\"showland\":true,\"showlakes\":true,\"lakecolor\":\"white\"},\"title\":{\"x\":0.05},\"mapbox\":{\"style\":\"light\"}}},\"xaxis\":{\"anchor\":\"y\",\"domain\":[0.0,1.0],\"title\":{\"text\":\"Week\"}},\"yaxis\":{\"anchor\":\"x\",\"domain\":[0.0,1.0],\"title\":{\"text\":\"Value\"}},\"legend\":{\"title\":{\"text\":\"Sector\"},\"tracegroupgap\":0},\"title\":{\"text\":\"Weekly Sector Values\"},\"barmode\":\"stack\",\"height\":600},                        {\"responsive\": true}                    ).then(function(){\n",
       "                            \n",
       "var gd = document.getElementById('158a5b14-1871-4a85-8177-24e65252912d');\n",
       "var x = new MutationObserver(function (mutations, observer) {{\n",
       "        var display = window.getComputedStyle(gd).display;\n",
       "        if (!display || display === 'none') {{\n",
       "            console.log([gd, 'removed!']);\n",
       "            Plotly.purge(gd);\n",
       "            observer.disconnect();\n",
       "        }}\n",
       "}});\n",
       "\n",
       "// Listen for the removal of the full notebook cells\n",
       "var notebookContainer = gd.closest('#notebook-container');\n",
       "if (notebookContainer) {{\n",
       "    x.observe(notebookContainer, {childList: true});\n",
       "}}\n",
       "\n",
       "// Listen for the clearing of the current output cell\n",
       "var outputEl = gd.closest('.output');\n",
       "if (outputEl) {{\n",
       "    x.observe(outputEl, {childList: true});\n",
       "}}\n",
       "\n",
       "                        })                };                });            </script>        </div>"
      ]
     },
     "metadata": {},
     "output_type": "display_data"
    }
   ],
   "source": [
    "df_melted = top_live[weekly_cols].head(10).T.reset_index()\n",
    "weekly_cols = ['Week 1', 'Week 2', 'Week 3', 'Week 4', 'Week 5', 'Week 6', 'Week 7', 'Week 8', 'Week 9']\n",
    "\n",
    "\n",
    "sector_names = rank_df.index[:10]  \n",
    "df_for_plot = rank_df.loc[sector_names, weekly_cols]\n",
    "\n",
    "\n",
    "df_for_plot_reset = df_for_plot.reset_index()\n",
    "\n",
    "df_for_plot_reset.columns = ['Sector'] + weekly_cols\n",
    "\n",
    "df_for_plot_reset['Sector'] = df_for_plot_reset['Sector'].astype(str)\n",
    "\n",
    "df_melted = df_for_plot_reset.melt(id_vars=['Sector'], value_vars=weekly_cols, \n",
    "                                   var_name='Week', value_name='Value')\n",
    "\n",
    "fig = px.bar(df_melted, \n",
    "             x='Week', \n",
    "             y='Value', \n",
    "             color='Sector', \n",
    "             title='Weekly Sector Values', \n",
    "             labels={'Value': 'Value', 'Week': 'Week'}, \n",
    "             height=600, \n",
    "             barmode='stack')\n",
    "\n",
    "fig.show()"
   ]
  },
  {
   "cell_type": "code",
   "execution_count": 42,
   "id": "ebd3184f-a429-4c21-b22a-3fbe54b05df9",
   "metadata": {},
   "outputs": [
    {
     "data": {
      "application/vnd.plotly.v1+json": {
       "config": {
        "plotlyServerURL": "https://plot.ly"
       },
       "data": [
        {
         "alignmentgroup": "True",
         "hovertemplate": "Sector=0<br>Week=%{x}<br>Value=%{y}<extra></extra>",
         "legendgroup": "0",
         "marker": {
          "color": "#636efa",
          "pattern": {
           "shape": ""
          }
         },
         "name": "0",
         "offsetgroup": "0",
         "orientation": "v",
         "showlegend": true,
         "textposition": "auto",
         "type": "bar",
         "x": [
          "Week 1",
          "Week 2",
          "Week 3",
          "Week 4",
          "Week 5",
          "Week 6",
          "Week 7",
          "Week 8",
          "Week 9"
         ],
         "xaxis": "x",
         "y": [
          -24.68,
          -22.54,
          -14.41,
          0.3,
          -5.05,
          -4.61,
          -7.32,
          -7.1,
          -9.84
         ],
         "yaxis": "y"
        },
        {
         "alignmentgroup": "True",
         "hovertemplate": "Sector=1<br>Week=%{x}<br>Value=%{y}<extra></extra>",
         "legendgroup": "1",
         "marker": {
          "color": "#EF553B",
          "pattern": {
           "shape": ""
          }
         },
         "name": "1",
         "offsetgroup": "1",
         "orientation": "v",
         "showlegend": true,
         "textposition": "auto",
         "type": "bar",
         "x": [
          "Week 1",
          "Week 2",
          "Week 3",
          "Week 4",
          "Week 5",
          "Week 6",
          "Week 7",
          "Week 8",
          "Week 9"
         ],
         "xaxis": "x",
         "y": [
          -22.37,
          -18.04,
          -19.69,
          -9.47,
          -12.78,
          -12.99,
          -13.49,
          -10.65,
          -10.67
         ],
         "yaxis": "y"
        },
        {
         "alignmentgroup": "True",
         "hovertemplate": "Sector=2<br>Week=%{x}<br>Value=%{y}<extra></extra>",
         "legendgroup": "2",
         "marker": {
          "color": "#00cc96",
          "pattern": {
           "shape": ""
          }
         },
         "name": "2",
         "offsetgroup": "2",
         "orientation": "v",
         "showlegend": true,
         "textposition": "auto",
         "type": "bar",
         "x": [
          "Week 1",
          "Week 2",
          "Week 3",
          "Week 4",
          "Week 5",
          "Week 6",
          "Week 7",
          "Week 8",
          "Week 9"
         ],
         "xaxis": "x",
         "y": [
          -6.64,
          -8.39,
          -4.22,
          0.89,
          -6.86,
          -4.42,
          -7.56,
          -6.24,
          -8.6
         ],
         "yaxis": "y"
        },
        {
         "alignmentgroup": "True",
         "hovertemplate": "Sector=3<br>Week=%{x}<br>Value=%{y}<extra></extra>",
         "legendgroup": "3",
         "marker": {
          "color": "#ab63fa",
          "pattern": {
           "shape": ""
          }
         },
         "name": "3",
         "offsetgroup": "3",
         "orientation": "v",
         "showlegend": true,
         "textposition": "auto",
         "type": "bar",
         "x": [
          "Week 1",
          "Week 2",
          "Week 3",
          "Week 4",
          "Week 5",
          "Week 6",
          "Week 7",
          "Week 8",
          "Week 9"
         ],
         "xaxis": "x",
         "y": [
          -1.19,
          9.41,
          21.57,
          20.88,
          28.26,
          19.52,
          6.3,
          2.86,
          -9.95
         ],
         "yaxis": "y"
        },
        {
         "alignmentgroup": "True",
         "hovertemplate": "Sector=4<br>Week=%{x}<br>Value=%{y}<extra></extra>",
         "legendgroup": "4",
         "marker": {
          "color": "#FFA15A",
          "pattern": {
           "shape": ""
          }
         },
         "name": "4",
         "offsetgroup": "4",
         "orientation": "v",
         "showlegend": true,
         "textposition": "auto",
         "type": "bar",
         "x": [
          "Week 1",
          "Week 2",
          "Week 3",
          "Week 4",
          "Week 5",
          "Week 6",
          "Week 7",
          "Week 8",
          "Week 9"
         ],
         "xaxis": "x",
         "y": [
          -23.42,
          -26.82,
          -16.77,
          -9.9,
          -4.28,
          -5.21,
          -5.62,
          -7.2,
          -8.81
         ],
         "yaxis": "y"
        },
        {
         "alignmentgroup": "True",
         "hovertemplate": "Sector=5<br>Week=%{x}<br>Value=%{y}<extra></extra>",
         "legendgroup": "5",
         "marker": {
          "color": "#19d3f3",
          "pattern": {
           "shape": ""
          }
         },
         "name": "5",
         "offsetgroup": "5",
         "orientation": "v",
         "showlegend": true,
         "textposition": "auto",
         "type": "bar",
         "x": [
          "Week 1",
          "Week 2",
          "Week 3",
          "Week 4",
          "Week 5",
          "Week 6",
          "Week 7",
          "Week 8",
          "Week 9"
         ],
         "xaxis": "x",
         "y": [
          -22.55,
          -22.78,
          -14.84,
          -10.61,
          -6.42,
          4.96,
          -4.65,
          -2.76,
          -7.35
         ],
         "yaxis": "y"
        },
        {
         "alignmentgroup": "True",
         "hovertemplate": "Sector=6<br>Week=%{x}<br>Value=%{y}<extra></extra>",
         "legendgroup": "6",
         "marker": {
          "color": "#FF6692",
          "pattern": {
           "shape": ""
          }
         },
         "name": "6",
         "offsetgroup": "6",
         "orientation": "v",
         "showlegend": true,
         "textposition": "auto",
         "type": "bar",
         "x": [
          "Week 1",
          "Week 2",
          "Week 3",
          "Week 4",
          "Week 5",
          "Week 6",
          "Week 7",
          "Week 8",
          "Week 9"
         ],
         "xaxis": "x",
         "y": [
          -18.05,
          -16.7,
          -8.7,
          -1.06,
          1.87,
          17.07,
          14.51,
          13.93,
          -10.97
         ],
         "yaxis": "y"
        },
        {
         "alignmentgroup": "True",
         "hovertemplate": "Sector=7<br>Week=%{x}<br>Value=%{y}<extra></extra>",
         "legendgroup": "7",
         "marker": {
          "color": "#B6E880",
          "pattern": {
           "shape": ""
          }
         },
         "name": "7",
         "offsetgroup": "7",
         "orientation": "v",
         "showlegend": true,
         "textposition": "auto",
         "type": "bar",
         "x": [
          "Week 1",
          "Week 2",
          "Week 3",
          "Week 4",
          "Week 5",
          "Week 6",
          "Week 7",
          "Week 8",
          "Week 9"
         ],
         "xaxis": "x",
         "y": [
          -24.7,
          -20.32,
          -13.84,
          -3.95,
          -0.7,
          7.54,
          26.8,
          -6.06,
          -6.06
         ],
         "yaxis": "y"
        },
        {
         "alignmentgroup": "True",
         "hovertemplate": "Sector=8<br>Week=%{x}<br>Value=%{y}<extra></extra>",
         "legendgroup": "8",
         "marker": {
          "color": "#FF97FF",
          "pattern": {
           "shape": ""
          }
         },
         "name": "8",
         "offsetgroup": "8",
         "orientation": "v",
         "showlegend": true,
         "textposition": "auto",
         "type": "bar",
         "x": [
          "Week 1",
          "Week 2",
          "Week 3",
          "Week 4",
          "Week 5",
          "Week 6",
          "Week 7",
          "Week 8",
          "Week 9"
         ],
         "xaxis": "x",
         "y": [
          null,
          null,
          null,
          null,
          null,
          null,
          null,
          null,
          null
         ],
         "yaxis": "y"
        },
        {
         "alignmentgroup": "True",
         "hovertemplate": "Sector=9<br>Week=%{x}<br>Value=%{y}<extra></extra>",
         "legendgroup": "9",
         "marker": {
          "color": "#FECB52",
          "pattern": {
           "shape": ""
          }
         },
         "name": "9",
         "offsetgroup": "9",
         "orientation": "v",
         "showlegend": true,
         "textposition": "auto",
         "type": "bar",
         "x": [
          "Week 1",
          "Week 2",
          "Week 3",
          "Week 4",
          "Week 5",
          "Week 6",
          "Week 7",
          "Week 8",
          "Week 9"
         ],
         "xaxis": "x",
         "y": [
          null,
          null,
          null,
          null,
          null,
          null,
          null,
          null,
          null
         ],
         "yaxis": "y"
        }
       ],
       "layout": {
        "autosize": true,
        "barmode": "stack",
        "legend": {
         "title": {
          "text": "Sector"
         },
         "tracegroupgap": 0
        },
        "template": {
         "data": {
          "bar": [
           {
            "error_x": {
             "color": "#2a3f5f"
            },
            "error_y": {
             "color": "#2a3f5f"
            },
            "marker": {
             "line": {
              "color": "#E5ECF6",
              "width": 0.5
             },
             "pattern": {
              "fillmode": "overlay",
              "size": 10,
              "solidity": 0.2
             }
            },
            "type": "bar"
           }
          ],
          "barpolar": [
           {
            "marker": {
             "line": {
              "color": "#E5ECF6",
              "width": 0.5
             },
             "pattern": {
              "fillmode": "overlay",
              "size": 10,
              "solidity": 0.2
             }
            },
            "type": "barpolar"
           }
          ],
          "carpet": [
           {
            "aaxis": {
             "endlinecolor": "#2a3f5f",
             "gridcolor": "white",
             "linecolor": "white",
             "minorgridcolor": "white",
             "startlinecolor": "#2a3f5f"
            },
            "baxis": {
             "endlinecolor": "#2a3f5f",
             "gridcolor": "white",
             "linecolor": "white",
             "minorgridcolor": "white",
             "startlinecolor": "#2a3f5f"
            },
            "type": "carpet"
           }
          ],
          "choropleth": [
           {
            "colorbar": {
             "outlinewidth": 0,
             "ticks": ""
            },
            "type": "choropleth"
           }
          ],
          "contour": [
           {
            "colorbar": {
             "outlinewidth": 0,
             "ticks": ""
            },
            "colorscale": [
             [
              0,
              "#0d0887"
             ],
             [
              0.1111111111111111,
              "#46039f"
             ],
             [
              0.2222222222222222,
              "#7201a8"
             ],
             [
              0.3333333333333333,
              "#9c179e"
             ],
             [
              0.4444444444444444,
              "#bd3786"
             ],
             [
              0.5555555555555556,
              "#d8576b"
             ],
             [
              0.6666666666666666,
              "#ed7953"
             ],
             [
              0.7777777777777778,
              "#fb9f3a"
             ],
             [
              0.8888888888888888,
              "#fdca26"
             ],
             [
              1,
              "#f0f921"
             ]
            ],
            "type": "contour"
           }
          ],
          "contourcarpet": [
           {
            "colorbar": {
             "outlinewidth": 0,
             "ticks": ""
            },
            "type": "contourcarpet"
           }
          ],
          "heatmap": [
           {
            "colorbar": {
             "outlinewidth": 0,
             "ticks": ""
            },
            "colorscale": [
             [
              0,
              "#0d0887"
             ],
             [
              0.1111111111111111,
              "#46039f"
             ],
             [
              0.2222222222222222,
              "#7201a8"
             ],
             [
              0.3333333333333333,
              "#9c179e"
             ],
             [
              0.4444444444444444,
              "#bd3786"
             ],
             [
              0.5555555555555556,
              "#d8576b"
             ],
             [
              0.6666666666666666,
              "#ed7953"
             ],
             [
              0.7777777777777778,
              "#fb9f3a"
             ],
             [
              0.8888888888888888,
              "#fdca26"
             ],
             [
              1,
              "#f0f921"
             ]
            ],
            "type": "heatmap"
           }
          ],
          "heatmapgl": [
           {
            "colorbar": {
             "outlinewidth": 0,
             "ticks": ""
            },
            "colorscale": [
             [
              0,
              "#0d0887"
             ],
             [
              0.1111111111111111,
              "#46039f"
             ],
             [
              0.2222222222222222,
              "#7201a8"
             ],
             [
              0.3333333333333333,
              "#9c179e"
             ],
             [
              0.4444444444444444,
              "#bd3786"
             ],
             [
              0.5555555555555556,
              "#d8576b"
             ],
             [
              0.6666666666666666,
              "#ed7953"
             ],
             [
              0.7777777777777778,
              "#fb9f3a"
             ],
             [
              0.8888888888888888,
              "#fdca26"
             ],
             [
              1,
              "#f0f921"
             ]
            ],
            "type": "heatmapgl"
           }
          ],
          "histogram": [
           {
            "marker": {
             "pattern": {
              "fillmode": "overlay",
              "size": 10,
              "solidity": 0.2
             }
            },
            "type": "histogram"
           }
          ],
          "histogram2d": [
           {
            "colorbar": {
             "outlinewidth": 0,
             "ticks": ""
            },
            "colorscale": [
             [
              0,
              "#0d0887"
             ],
             [
              0.1111111111111111,
              "#46039f"
             ],
             [
              0.2222222222222222,
              "#7201a8"
             ],
             [
              0.3333333333333333,
              "#9c179e"
             ],
             [
              0.4444444444444444,
              "#bd3786"
             ],
             [
              0.5555555555555556,
              "#d8576b"
             ],
             [
              0.6666666666666666,
              "#ed7953"
             ],
             [
              0.7777777777777778,
              "#fb9f3a"
             ],
             [
              0.8888888888888888,
              "#fdca26"
             ],
             [
              1,
              "#f0f921"
             ]
            ],
            "type": "histogram2d"
           }
          ],
          "histogram2dcontour": [
           {
            "colorbar": {
             "outlinewidth": 0,
             "ticks": ""
            },
            "colorscale": [
             [
              0,
              "#0d0887"
             ],
             [
              0.1111111111111111,
              "#46039f"
             ],
             [
              0.2222222222222222,
              "#7201a8"
             ],
             [
              0.3333333333333333,
              "#9c179e"
             ],
             [
              0.4444444444444444,
              "#bd3786"
             ],
             [
              0.5555555555555556,
              "#d8576b"
             ],
             [
              0.6666666666666666,
              "#ed7953"
             ],
             [
              0.7777777777777778,
              "#fb9f3a"
             ],
             [
              0.8888888888888888,
              "#fdca26"
             ],
             [
              1,
              "#f0f921"
             ]
            ],
            "type": "histogram2dcontour"
           }
          ],
          "mesh3d": [
           {
            "colorbar": {
             "outlinewidth": 0,
             "ticks": ""
            },
            "type": "mesh3d"
           }
          ],
          "parcoords": [
           {
            "line": {
             "colorbar": {
              "outlinewidth": 0,
              "ticks": ""
             }
            },
            "type": "parcoords"
           }
          ],
          "pie": [
           {
            "automargin": true,
            "type": "pie"
           }
          ],
          "scatter": [
           {
            "fillpattern": {
             "fillmode": "overlay",
             "size": 10,
             "solidity": 0.2
            },
            "type": "scatter"
           }
          ],
          "scatter3d": [
           {
            "line": {
             "colorbar": {
              "outlinewidth": 0,
              "ticks": ""
             }
            },
            "marker": {
             "colorbar": {
              "outlinewidth": 0,
              "ticks": ""
             }
            },
            "type": "scatter3d"
           }
          ],
          "scattercarpet": [
           {
            "marker": {
             "colorbar": {
              "outlinewidth": 0,
              "ticks": ""
             }
            },
            "type": "scattercarpet"
           }
          ],
          "scattergeo": [
           {
            "marker": {
             "colorbar": {
              "outlinewidth": 0,
              "ticks": ""
             }
            },
            "type": "scattergeo"
           }
          ],
          "scattergl": [
           {
            "marker": {
             "colorbar": {
              "outlinewidth": 0,
              "ticks": ""
             }
            },
            "type": "scattergl"
           }
          ],
          "scattermapbox": [
           {
            "marker": {
             "colorbar": {
              "outlinewidth": 0,
              "ticks": ""
             }
            },
            "type": "scattermapbox"
           }
          ],
          "scatterpolar": [
           {
            "marker": {
             "colorbar": {
              "outlinewidth": 0,
              "ticks": ""
             }
            },
            "type": "scatterpolar"
           }
          ],
          "scatterpolargl": [
           {
            "marker": {
             "colorbar": {
              "outlinewidth": 0,
              "ticks": ""
             }
            },
            "type": "scatterpolargl"
           }
          ],
          "scatterternary": [
           {
            "marker": {
             "colorbar": {
              "outlinewidth": 0,
              "ticks": ""
             }
            },
            "type": "scatterternary"
           }
          ],
          "surface": [
           {
            "colorbar": {
             "outlinewidth": 0,
             "ticks": ""
            },
            "colorscale": [
             [
              0,
              "#0d0887"
             ],
             [
              0.1111111111111111,
              "#46039f"
             ],
             [
              0.2222222222222222,
              "#7201a8"
             ],
             [
              0.3333333333333333,
              "#9c179e"
             ],
             [
              0.4444444444444444,
              "#bd3786"
             ],
             [
              0.5555555555555556,
              "#d8576b"
             ],
             [
              0.6666666666666666,
              "#ed7953"
             ],
             [
              0.7777777777777778,
              "#fb9f3a"
             ],
             [
              0.8888888888888888,
              "#fdca26"
             ],
             [
              1,
              "#f0f921"
             ]
            ],
            "type": "surface"
           }
          ],
          "table": [
           {
            "cells": {
             "fill": {
              "color": "#EBF0F8"
             },
             "line": {
              "color": "white"
             }
            },
            "header": {
             "fill": {
              "color": "#C8D4E3"
             },
             "line": {
              "color": "white"
             }
            },
            "type": "table"
           }
          ]
         },
         "layout": {
          "annotationdefaults": {
           "arrowcolor": "#2a3f5f",
           "arrowhead": 0,
           "arrowwidth": 1
          },
          "autotypenumbers": "strict",
          "coloraxis": {
           "colorbar": {
            "outlinewidth": 0,
            "ticks": ""
           }
          },
          "colorscale": {
           "diverging": [
            [
             0,
             "#8e0152"
            ],
            [
             0.1,
             "#c51b7d"
            ],
            [
             0.2,
             "#de77ae"
            ],
            [
             0.3,
             "#f1b6da"
            ],
            [
             0.4,
             "#fde0ef"
            ],
            [
             0.5,
             "#f7f7f7"
            ],
            [
             0.6,
             "#e6f5d0"
            ],
            [
             0.7,
             "#b8e186"
            ],
            [
             0.8,
             "#7fbc41"
            ],
            [
             0.9,
             "#4d9221"
            ],
            [
             1,
             "#276419"
            ]
           ],
           "sequential": [
            [
             0,
             "#0d0887"
            ],
            [
             0.1111111111111111,
             "#46039f"
            ],
            [
             0.2222222222222222,
             "#7201a8"
            ],
            [
             0.3333333333333333,
             "#9c179e"
            ],
            [
             0.4444444444444444,
             "#bd3786"
            ],
            [
             0.5555555555555556,
             "#d8576b"
            ],
            [
             0.6666666666666666,
             "#ed7953"
            ],
            [
             0.7777777777777778,
             "#fb9f3a"
            ],
            [
             0.8888888888888888,
             "#fdca26"
            ],
            [
             1,
             "#f0f921"
            ]
           ],
           "sequentialminus": [
            [
             0,
             "#0d0887"
            ],
            [
             0.1111111111111111,
             "#46039f"
            ],
            [
             0.2222222222222222,
             "#7201a8"
            ],
            [
             0.3333333333333333,
             "#9c179e"
            ],
            [
             0.4444444444444444,
             "#bd3786"
            ],
            [
             0.5555555555555556,
             "#d8576b"
            ],
            [
             0.6666666666666666,
             "#ed7953"
            ],
            [
             0.7777777777777778,
             "#fb9f3a"
            ],
            [
             0.8888888888888888,
             "#fdca26"
            ],
            [
             1,
             "#f0f921"
            ]
           ]
          },
          "colorway": [
           "#636efa",
           "#EF553B",
           "#00cc96",
           "#ab63fa",
           "#FFA15A",
           "#19d3f3",
           "#FF6692",
           "#B6E880",
           "#FF97FF",
           "#FECB52"
          ],
          "font": {
           "color": "#2a3f5f"
          },
          "geo": {
           "bgcolor": "white",
           "lakecolor": "white",
           "landcolor": "#E5ECF6",
           "showlakes": true,
           "showland": true,
           "subunitcolor": "white"
          },
          "hoverlabel": {
           "align": "left"
          },
          "hovermode": "closest",
          "mapbox": {
           "style": "light"
          },
          "paper_bgcolor": "white",
          "plot_bgcolor": "#E5ECF6",
          "polar": {
           "angularaxis": {
            "gridcolor": "white",
            "linecolor": "white",
            "ticks": ""
           },
           "bgcolor": "#E5ECF6",
           "radialaxis": {
            "gridcolor": "white",
            "linecolor": "white",
            "ticks": ""
           }
          },
          "scene": {
           "xaxis": {
            "backgroundcolor": "#E5ECF6",
            "gridcolor": "white",
            "gridwidth": 2,
            "linecolor": "white",
            "showbackground": true,
            "ticks": "",
            "zerolinecolor": "white"
           },
           "yaxis": {
            "backgroundcolor": "#E5ECF6",
            "gridcolor": "white",
            "gridwidth": 2,
            "linecolor": "white",
            "showbackground": true,
            "ticks": "",
            "zerolinecolor": "white"
           },
           "zaxis": {
            "backgroundcolor": "#E5ECF6",
            "gridcolor": "white",
            "gridwidth": 2,
            "linecolor": "white",
            "showbackground": true,
            "ticks": "",
            "zerolinecolor": "white"
           }
          },
          "shapedefaults": {
           "line": {
            "color": "#2a3f5f"
           }
          },
          "ternary": {
           "aaxis": {
            "gridcolor": "white",
            "linecolor": "white",
            "ticks": ""
           },
           "baxis": {
            "gridcolor": "white",
            "linecolor": "white",
            "ticks": ""
           },
           "bgcolor": "#E5ECF6",
           "caxis": {
            "gridcolor": "white",
            "linecolor": "white",
            "ticks": ""
           }
          },
          "title": {
           "x": 0.05
          },
          "xaxis": {
           "automargin": true,
           "gridcolor": "white",
           "linecolor": "white",
           "ticks": "",
           "title": {
            "standoff": 15
           },
           "zerolinecolor": "white",
           "zerolinewidth": 2
          },
          "yaxis": {
           "automargin": true,
           "gridcolor": "white",
           "linecolor": "white",
           "ticks": "",
           "title": {
            "standoff": 15
           },
           "zerolinecolor": "white",
           "zerolinewidth": 2
          }
         }
        },
        "title": {
         "text": "Weekly Sector Values"
        },
        "xaxis": {
         "anchor": "y",
         "autorange": true,
         "domain": [
          0,
          1
         ],
         "range": [
          -0.5,
          8.5
         ],
         "title": {
          "text": "Week"
         },
         "type": "category"
        },
        "yaxis": {
         "anchor": "x",
         "autorange": true,
         "domain": [
          0,
          1
         ],
         "range": [
          -152.79222222222222,
          31.05222222222222
         ],
         "title": {
          "text": "Value"
         },
         "type": "linear"
        }
       }
      },
      "image/png": "[encoded data removed]",
      "text/html": [
       "<div>                            <div id=\"06978ae8-0eb5-4998-893f-47a287883845\" class=\"plotly-graph-div\" style=\"height:600px; width:100%;\"></div>            <script type=\"text/javascript\">                require([\"plotly\"], function(Plotly) {                    window.PLOTLYENV=window.PLOTLYENV || {};                                    if (document.getElementById(\"06978ae8-0eb5-4998-893f-47a287883845\")) {                    Plotly.newPlot(                        \"06978ae8-0eb5-4998-893f-47a287883845\",                        [{\"alignmentgroup\":\"True\",\"hovertemplate\":\"Sector=0\\u003cbr\\u003eWeek=%{x}\\u003cbr\\u003eValue=%{y}\\u003cextra\\u003e\\u003c\\u002fextra\\u003e\",\"legendgroup\":\"0\",\"marker\":{\"color\":\"#636efa\",\"pattern\":{\"shape\":\"\"}},\"name\":\"0\",\"offsetgroup\":\"0\",\"orientation\":\"v\",\"showlegend\":true,\"textposition\":\"auto\",\"x\":[\"Week 1\",\"Week 2\",\"Week 3\",\"Week 4\",\"Week 5\",\"Week 6\",\"Week 7\",\"Week 8\",\"Week 9\"],\"xaxis\":\"x\",\"y\":[-24.68,-22.54,-14.41,0.3,-5.05,-4.61,-7.32,-7.1,-9.84],\"yaxis\":\"y\",\"type\":\"bar\"},{\"alignmentgroup\":\"True\",\"hovertemplate\":\"Sector=1\\u003cbr\\u003eWeek=%{x}\\u003cbr\\u003eValue=%{y}\\u003cextra\\u003e\\u003c\\u002fextra\\u003e\",\"legendgroup\":\"1\",\"marker\":{\"color\":\"#EF553B\",\"pattern\":{\"shape\":\"\"}},\"name\":\"1\",\"offsetgroup\":\"1\",\"orientation\":\"v\",\"showlegend\":true,\"textposition\":\"auto\",\"x\":[\"Week 1\",\"Week 2\",\"Week 3\",\"Week 4\",\"Week 5\",\"Week 6\",\"Week 7\",\"Week 8\",\"Week 9\"],\"xaxis\":\"x\",\"y\":[-22.37,-18.04,-19.69,-9.47,-12.78,-12.99,-13.49,-10.65,-10.67],\"yaxis\":\"y\",\"type\":\"bar\"},{\"alignmentgroup\":\"True\",\"hovertemplate\":\"Sector=2\\u003cbr\\u003eWeek=%{x}\\u003cbr\\u003eValue=%{y}\\u003cextra\\u003e\\u003c\\u002fextra\\u003e\",\"legendgroup\":\"2\",\"marker\":{\"color\":\"#00cc96\",\"pattern\":{\"shape\":\"\"}},\"name\":\"2\",\"offsetgroup\":\"2\",\"orientation\":\"v\",\"showlegend\":true,\"textposition\":\"auto\",\"x\":[\"Week 1\",\"Week 2\",\"Week 3\",\"Week 4\",\"Week 5\",\"Week 6\",\"Week 7\",\"Week 8\",\"Week 9\"],\"xaxis\":\"x\",\"y\":[-6.64,-8.39,-4.22,0.89,-6.86,-4.42,-7.56,-6.24,-8.6],\"yaxis\":\"y\",\"type\":\"bar\"},{\"alignmentgroup\":\"True\",\"hovertemplate\":\"Sector=3\\u003cbr\\u003eWeek=%{x}\\u003cbr\\u003eValue=%{y}\\u003cextra\\u003e\\u003c\\u002fextra\\u003e\",\"legendgroup\":\"3\",\"marker\":{\"color\":\"#ab63fa\",\"pattern\":{\"shape\":\"\"}},\"name\":\"3\",\"offsetgroup\":\"3\",\"orientation\":\"v\",\"showlegend\":true,\"textposition\":\"auto\",\"x\":[\"Week 1\",\"Week 2\",\"Week 3\",\"Week 4\",\"Week 5\",\"Week 6\",\"Week 7\",\"Week 8\",\"Week 9\"],\"xaxis\":\"x\",\"y\":[-1.19,9.41,21.57,20.88,28.26,19.52,6.3,2.86,-9.95],\"yaxis\":\"y\",\"type\":\"bar\"},{\"alignmentgroup\":\"True\",\"hovertemplate\":\"Sector=4\\u003cbr\\u003eWeek=%{x}\\u003cbr\\u003eValue=%{y}\\u003cextra\\u003e\\u003c\\u002fextra\\u003e\",\"legendgroup\":\"4\",\"marker\":{\"color\":\"#FFA15A\",\"pattern\":{\"shape\":\"\"}},\"name\":\"4\",\"offsetgroup\":\"4\",\"orientation\":\"v\",\"showlegend\":true,\"textposition\":\"auto\",\"x\":[\"Week 1\",\"Week 2\",\"Week 3\",\"Week 4\",\"Week 5\",\"Week 6\",\"Week 7\",\"Week 8\",\"Week 9\"],\"xaxis\":\"x\",\"y\":[-23.42,-26.82,-16.77,-9.9,-4.28,-5.21,-5.62,-7.2,-8.81],\"yaxis\":\"y\",\"type\":\"bar\"},{\"alignmentgroup\":\"True\",\"hovertemplate\":\"Sector=5\\u003cbr\\u003eWeek=%{x}\\u003cbr\\u003eValue=%{y}\\u003cextra\\u003e\\u003c\\u002fextra\\u003e\",\"legendgroup\":\"5\",\"marker\":{\"color\":\"#19d3f3\",\"pattern\":{\"shape\":\"\"}},\"name\":\"5\",\"offsetgroup\":\"5\",\"orientation\":\"v\",\"showlegend\":true,\"textposition\":\"auto\",\"x\":[\"Week 1\",\"Week 2\",\"Week 3\",\"Week 4\",\"Week 5\",\"Week 6\",\"Week 7\",\"Week 8\",\"Week 9\"],\"xaxis\":\"x\",\"y\":[-22.55,-22.78,-14.84,-10.61,-6.42,4.96,-4.65,-2.76,-7.35],\"yaxis\":\"y\",\"type\":\"bar\"},{\"alignmentgroup\":\"True\",\"hovertemplate\":\"Sector=6\\u003cbr\\u003eWeek=%{x}\\u003cbr\\u003eValue=%{y}\\u003cextra\\u003e\\u003c\\u002fextra\\u003e\",\"legendgroup\":\"6\",\"marker\":{\"color\":\"#FF6692\",\"pattern\":{\"shape\":\"\"}},\"name\":\"6\",\"offsetgroup\":\"6\",\"orientation\":\"v\",\"showlegend\":true,\"textposition\":\"auto\",\"x\":[\"Week 1\",\"Week 2\",\"Week 3\",\"Week 4\",\"Week 5\",\"Week 6\",\"Week 7\",\"Week 8\",\"Week 9\"],\"xaxis\":\"x\",\"y\":[-18.05,-16.7,-8.7,-1.06,1.87,17.07,14.51,13.93,-10.97],\"yaxis\":\"y\",\"type\":\"bar\"},{\"alignmentgroup\":\"True\",\"hovertemplate\":\"Sector=7\\u003cbr\\u003eWeek=%{x}\\u003cbr\\u003eValue=%{y}\\u003cextra\\u003e\\u003c\\u002fextra\\u003e\",\"legendgroup\":\"7\",\"marker\":{\"color\":\"#B6E880\",\"pattern\":{\"shape\":\"\"}},\"name\":\"7\",\"offsetgroup\":\"7\",\"orientation\":\"v\",\"showlegend\":true,\"textposition\":\"auto\",\"x\":[\"Week 1\",\"Week 2\",\"Week 3\",\"Week 4\",\"Week 5\",\"Week 6\",\"Week 7\",\"Week 8\",\"Week 9\"],\"xaxis\":\"x\",\"y\":[-24.7,-20.32,-13.84,-3.95,-0.7,7.54,26.8,-6.06,-6.06],\"yaxis\":\"y\",\"type\":\"bar\"},{\"alignmentgroup\":\"True\",\"hovertemplate\":\"Sector=8\\u003cbr\\u003eWeek=%{x}\\u003cbr\\u003eValue=%{y}\\u003cextra\\u003e\\u003c\\u002fextra\\u003e\",\"legendgroup\":\"8\",\"marker\":{\"color\":\"#FF97FF\",\"pattern\":{\"shape\":\"\"}},\"name\":\"8\",\"offsetgroup\":\"8\",\"orientation\":\"v\",\"showlegend\":true,\"textposition\":\"auto\",\"x\":[\"Week 1\",\"Week 2\",\"Week 3\",\"Week 4\",\"Week 5\",\"Week 6\",\"Week 7\",\"Week 8\",\"Week 9\"],\"xaxis\":\"x\",\"y\":[null,null,null,null,null,null,null,null,null],\"yaxis\":\"y\",\"type\":\"bar\"},{\"alignmentgroup\":\"True\",\"hovertemplate\":\"Sector=9\\u003cbr\\u003eWeek=%{x}\\u003cbr\\u003eValue=%{y}\\u003cextra\\u003e\\u003c\\u002fextra\\u003e\",\"legendgroup\":\"9\",\"marker\":{\"color\":\"#FECB52\",\"pattern\":{\"shape\":\"\"}},\"name\":\"9\",\"offsetgroup\":\"9\",\"orientation\":\"v\",\"showlegend\":true,\"textposition\":\"auto\",\"x\":[\"Week 1\",\"Week 2\",\"Week 3\",\"Week 4\",\"Week 5\",\"Week 6\",\"Week 7\",\"Week 8\",\"Week 9\"],\"xaxis\":\"x\",\"y\":[null,null,null,null,null,null,null,null,null],\"yaxis\":\"y\",\"type\":\"bar\"}],                        {\"template\":{\"data\":{\"histogram2dcontour\":[{\"type\":\"histogram2dcontour\",\"colorbar\":{\"outlinewidth\":0,\"ticks\":\"\"},\"colorscale\":[[0.0,\"#0d0887\"],[0.1111111111111111,\"#46039f\"],[0.2222222222222222,\"#7201a8\"],[0.3333333333333333,\"#9c179e\"],[0.4444444444444444,\"#bd3786\"],[0.5555555555555556,\"#d8576b\"],[0.6666666666666666,\"#ed7953\"],[0.7777777777777778,\"#fb9f3a\"],[0.8888888888888888,\"#fdca26\"],[1.0,\"#f0f921\"]]}],\"choropleth\":[{\"type\":\"choropleth\",\"colorbar\":{\"outlinewidth\":0,\"ticks\":\"\"}}],\"histogram2d\":[{\"type\":\"histogram2d\",\"colorbar\":{\"outlinewidth\":0,\"ticks\":\"\"},\"colorscale\":[[0.0,\"#0d0887\"],[0.1111111111111111,\"#46039f\"],[0.2222222222222222,\"#7201a8\"],[0.3333333333333333,\"#9c179e\"],[0.4444444444444444,\"#bd3786\"],[0.5555555555555556,\"#d8576b\"],[0.6666666666666666,\"#ed7953\"],[0.7777777777777778,\"#fb9f3a\"],[0.8888888888888888,\"#fdca26\"],[1.0,\"#f0f921\"]]}],\"heatmap\":[{\"type\":\"heatmap\",\"colorbar\":{\"outlinewidth\":0,\"ticks\":\"\"},\"colorscale\":[[0.0,\"#0d0887\"],[0.1111111111111111,\"#46039f\"],[0.2222222222222222,\"#7201a8\"],[0.3333333333333333,\"#9c179e\"],[0.4444444444444444,\"#bd3786\"],[0.5555555555555556,\"#d8576b\"],[0.6666666666666666,\"#ed7953\"],[0.7777777777777778,\"#fb9f3a\"],[0.8888888888888888,\"#fdca26\"],[1.0,\"#f0f921\"]]}],\"heatmapgl\":[{\"type\":\"heatmapgl\",\"colorbar\":{\"outlinewidth\":0,\"ticks\":\"\"},\"colorscale\":[[0.0,\"#0d0887\"],[0.1111111111111111,\"#46039f\"],[0.2222222222222222,\"#7201a8\"],[0.3333333333333333,\"#9c179e\"],[0.4444444444444444,\"#bd3786\"],[0.5555555555555556,\"#d8576b\"],[0.6666666666666666,\"#ed7953\"],[0.7777777777777778,\"#fb9f3a\"],[0.8888888888888888,\"#fdca26\"],[1.0,\"#f0f921\"]]}],\"contourcarpet\":[{\"type\":\"contourcarpet\",\"colorbar\":{\"outlinewidth\":0,\"ticks\":\"\"}}],\"contour\":[{\"type\":\"contour\",\"colorbar\":{\"outlinewidth\":0,\"ticks\":\"\"},\"colorscale\":[[0.0,\"#0d0887\"],[0.1111111111111111,\"#46039f\"],[0.2222222222222222,\"#7201a8\"],[0.3333333333333333,\"#9c179e\"],[0.4444444444444444,\"#bd3786\"],[0.5555555555555556,\"#d8576b\"],[0.6666666666666666,\"#ed7953\"],[0.7777777777777778,\"#fb9f3a\"],[0.8888888888888888,\"#fdca26\"],[1.0,\"#f0f921\"]]}],\"surface\":[{\"type\":\"surface\",\"colorbar\":{\"outlinewidth\":0,\"ticks\":\"\"},\"colorscale\":[[0.0,\"#0d0887\"],[0.1111111111111111,\"#46039f\"],[0.2222222222222222,\"#7201a8\"],[0.3333333333333333,\"#9c179e\"],[0.4444444444444444,\"#bd3786\"],[0.5555555555555556,\"#d8576b\"],[0.6666666666666666,\"#ed7953\"],[0.7777777777777778,\"#fb9f3a\"],[0.8888888888888888,\"#fdca26\"],[1.0,\"#f0f921\"]]}],\"mesh3d\":[{\"type\":\"mesh3d\",\"colorbar\":{\"outlinewidth\":0,\"ticks\":\"\"}}],\"scatter\":[{\"fillpattern\":{\"fillmode\":\"overlay\",\"size\":10,\"solidity\":0.2},\"type\":\"scatter\"}],\"parcoords\":[{\"type\":\"parcoords\",\"line\":{\"colorbar\":{\"outlinewidth\":0,\"ticks\":\"\"}}}],\"scatterpolargl\":[{\"type\":\"scatterpolargl\",\"marker\":{\"colorbar\":{\"outlinewidth\":0,\"ticks\":\"\"}}}],\"bar\":[{\"error_x\":{\"color\":\"#2a3f5f\"},\"error_y\":{\"color\":\"#2a3f5f\"},\"marker\":{\"line\":{\"color\":\"#E5ECF6\",\"width\":0.5},\"pattern\":{\"fillmode\":\"overlay\",\"size\":10,\"solidity\":0.2}},\"type\":\"bar\"}],\"scattergeo\":[{\"type\":\"scattergeo\",\"marker\":{\"colorbar\":{\"outlinewidth\":0,\"ticks\":\"\"}}}],\"scatterpolar\":[{\"type\":\"scatterpolar\",\"marker\":{\"colorbar\":{\"outlinewidth\":0,\"ticks\":\"\"}}}],\"histogram\":[{\"marker\":{\"pattern\":{\"fillmode\":\"overlay\",\"size\":10,\"solidity\":0.2}},\"type\":\"histogram\"}],\"scattergl\":[{\"type\":\"scattergl\",\"marker\":{\"colorbar\":{\"outlinewidth\":0,\"ticks\":\"\"}}}],\"scatter3d\":[{\"type\":\"scatter3d\",\"line\":{\"colorbar\":{\"outlinewidth\":0,\"ticks\":\"\"}},\"marker\":{\"colorbar\":{\"outlinewidth\":0,\"ticks\":\"\"}}}],\"scattermapbox\":[{\"type\":\"scattermapbox\",\"marker\":{\"colorbar\":{\"outlinewidth\":0,\"ticks\":\"\"}}}],\"scatterternary\":[{\"type\":\"scatterternary\",\"marker\":{\"colorbar\":{\"outlinewidth\":0,\"ticks\":\"\"}}}],\"scattercarpet\":[{\"type\":\"scattercarpet\",\"marker\":{\"colorbar\":{\"outlinewidth\":0,\"ticks\":\"\"}}}],\"carpet\":[{\"aaxis\":{\"endlinecolor\":\"#2a3f5f\",\"gridcolor\":\"white\",\"linecolor\":\"white\",\"minorgridcolor\":\"white\",\"startlinecolor\":\"#2a3f5f\"},\"baxis\":{\"endlinecolor\":\"#2a3f5f\",\"gridcolor\":\"white\",\"linecolor\":\"white\",\"minorgridcolor\":\"white\",\"startlinecolor\":\"#2a3f5f\"},\"type\":\"carpet\"}],\"table\":[{\"cells\":{\"fill\":{\"color\":\"#EBF0F8\"},\"line\":{\"color\":\"white\"}},\"header\":{\"fill\":{\"color\":\"#C8D4E3\"},\"line\":{\"color\":\"white\"}},\"type\":\"table\"}],\"barpolar\":[{\"marker\":{\"line\":{\"color\":\"#E5ECF6\",\"width\":0.5},\"pattern\":{\"fillmode\":\"overlay\",\"size\":10,\"solidity\":0.2}},\"type\":\"barpolar\"}],\"pie\":[{\"automargin\":true,\"type\":\"pie\"}]},\"layout\":{\"autotypenumbers\":\"strict\",\"colorway\":[\"#636efa\",\"#EF553B\",\"#00cc96\",\"#ab63fa\",\"#FFA15A\",\"#19d3f3\",\"#FF6692\",\"#B6E880\",\"#FF97FF\",\"#FECB52\"],\"font\":{\"color\":\"#2a3f5f\"},\"hovermode\":\"closest\",\"hoverlabel\":{\"align\":\"left\"},\"paper_bgcolor\":\"white\",\"plot_bgcolor\":\"#E5ECF6\",\"polar\":{\"bgcolor\":\"#E5ECF6\",\"angularaxis\":{\"gridcolor\":\"white\",\"linecolor\":\"white\",\"ticks\":\"\"},\"radialaxis\":{\"gridcolor\":\"white\",\"linecolor\":\"white\",\"ticks\":\"\"}},\"ternary\":{\"bgcolor\":\"#E5ECF6\",\"aaxis\":{\"gridcolor\":\"white\",\"linecolor\":\"white\",\"ticks\":\"\"},\"baxis\":{\"gridcolor\":\"white\",\"linecolor\":\"white\",\"ticks\":\"\"},\"caxis\":{\"gridcolor\":\"white\",\"linecolor\":\"white\",\"ticks\":\"\"}},\"coloraxis\":{\"colorbar\":{\"outlinewidth\":0,\"ticks\":\"\"}},\"colorscale\":{\"sequential\":[[0.0,\"#0d0887\"],[0.1111111111111111,\"#46039f\"],[0.2222222222222222,\"#7201a8\"],[0.3333333333333333,\"#9c179e\"],[0.4444444444444444,\"#bd3786\"],[0.5555555555555556,\"#d8576b\"],[0.6666666666666666,\"#ed7953\"],[0.7777777777777778,\"#fb9f3a\"],[0.8888888888888888,\"#fdca26\"],[1.0,\"#f0f921\"]],\"sequentialminus\":[[0.0,\"#0d0887\"],[0.1111111111111111,\"#46039f\"],[0.2222222222222222,\"#7201a8\"],[0.3333333333333333,\"#9c179e\"],[0.4444444444444444,\"#bd3786\"],[0.5555555555555556,\"#d8576b\"],[0.6666666666666666,\"#ed7953\"],[0.7777777777777778,\"#fb9f3a\"],[0.8888888888888888,\"#fdca26\"],[1.0,\"#f0f921\"]],\"diverging\":[[0,\"#8e0152\"],[0.1,\"#c51b7d\"],[0.2,\"#de77ae\"],[0.3,\"#f1b6da\"],[0.4,\"#fde0ef\"],[0.5,\"#f7f7f7\"],[0.6,\"#e6f5d0\"],[0.7,\"#b8e186\"],[0.8,\"#7fbc41\"],[0.9,\"#4d9221\"],[1,\"#276419\"]]},\"xaxis\":{\"gridcolor\":\"white\",\"linecolor\":\"white\",\"ticks\":\"\",\"title\":{\"standoff\":15},\"zerolinecolor\":\"white\",\"automargin\":true,\"zerolinewidth\":2},\"yaxis\":{\"gridcolor\":\"white\",\"linecolor\":\"white\",\"ticks\":\"\",\"title\":{\"standoff\":15},\"zerolinecolor\":\"white\",\"automargin\":true,\"zerolinewidth\":2},\"scene\":{\"xaxis\":{\"backgroundcolor\":\"#E5ECF6\",\"gridcolor\":\"white\",\"linecolor\":\"white\",\"showbackground\":true,\"ticks\":\"\",\"zerolinecolor\":\"white\",\"gridwidth\":2},\"yaxis\":{\"backgroundcolor\":\"#E5ECF6\",\"gridcolor\":\"white\",\"linecolor\":\"white\",\"showbackground\":true,\"ticks\":\"\",\"zerolinecolor\":\"white\",\"gridwidth\":2},\"zaxis\":{\"backgroundcolor\":\"#E5ECF6\",\"gridcolor\":\"white\",\"linecolor\":\"white\",\"showbackground\":true,\"ticks\":\"\",\"zerolinecolor\":\"white\",\"gridwidth\":2}},\"shapedefaults\":{\"line\":{\"color\":\"#2a3f5f\"}},\"annotationdefaults\":{\"arrowcolor\":\"#2a3f5f\",\"arrowhead\":0,\"arrowwidth\":1},\"geo\":{\"bgcolor\":\"white\",\"landcolor\":\"#E5ECF6\",\"subunitcolor\":\"white\",\"showland\":true,\"showlakes\":true,\"lakecolor\":\"white\"},\"title\":{\"x\":0.05},\"mapbox\":{\"style\":\"light\"}}},\"xaxis\":{\"anchor\":\"y\",\"domain\":[0.0,1.0],\"title\":{\"text\":\"Week\"}},\"yaxis\":{\"anchor\":\"x\",\"domain\":[0.0,1.0],\"title\":{\"text\":\"Value\"}},\"legend\":{\"title\":{\"text\":\"Sector\"},\"tracegroupgap\":0},\"title\":{\"text\":\"Weekly Sector Values\"},\"barmode\":\"stack\",\"height\":600},                        {\"responsive\": true}                    ).then(function(){\n",
       "                            \n",
       "var gd = document.getElementById('06978ae8-0eb5-4998-893f-47a287883845');\n",
       "var x = new MutationObserver(function (mutations, observer) {{\n",
       "        var display = window.getComputedStyle(gd).display;\n",
       "        if (!display || display === 'none') {{\n",
       "            console.log([gd, 'removed!']);\n",
       "            Plotly.purge(gd);\n",
       "            observer.disconnect();\n",
       "        }}\n",
       "}});\n",
       "\n",
       "// Listen for the removal of the full notebook cells\n",
       "var notebookContainer = gd.closest('#notebook-container');\n",
       "if (notebookContainer) {{\n",
       "    x.observe(notebookContainer, {childList: true});\n",
       "}}\n",
       "\n",
       "// Listen for the clearing of the current output cell\n",
       "var outputEl = gd.closest('.output');\n",
       "if (outputEl) {{\n",
       "    x.observe(outputEl, {childList: true});\n",
       "}}\n",
       "\n",
       "                        })                };                });            </script>        </div>"
      ]
     },
     "metadata": {},
     "output_type": "display_data"
    }
   ],
   "source": [
    "fig = px.bar(df_melted, \n",
    "             x='Week', \n",
    "             y='Value', \n",
    "             color='Sector', \n",
    "             title='Weekly Sector Values', \n",
    "             labels={'Value': 'Value', 'Week': 'Week'}, \n",
    "             height=600, \n",
    "             barmode='stack')\n",
    "\n",
    "# Show the plot\n",
    "fig.show()"
   ]
  },
  {
   "cell_type": "code",
   "execution_count": 43,
   "id": "07a71e2f-9ab0-49f2-947b-bad8f5aa929e",
   "metadata": {},
   "outputs": [],
   "source": [
    "rank_columns = ['Week 1', 'Week 2', 'Week 3', 'Week 4', 'Week 5', 'Week 6', 'Week 7', 'Week 8', 'Week 9']\n",
    "\n",
    "for col in rank_columns:\n",
    "    top_live[col] = top_live[col].rank(method='dense',ascending=False).astype(int)\n"
   ]
  },
  {
   "cell_type": "code",
   "execution_count": 44,
   "id": "4cacb92a-0489-4e2f-9204-1e51bd053c22",
   "metadata": {},
   "outputs": [],
   "source": [
    "top_live['Live'] = top_live['Live'].rank(method='dense',ascending=False).astype(int)"
   ]
  },
  {
   "cell_type": "code",
   "execution_count": 45,
   "id": "ed8979b0-d5aa-478e-b2e2-b60b93109ed2",
   "metadata": {},
   "outputs": [
    {
     "data": {
      "text/html": [
       "<div>\n",
       "<style scoped>\n",
       "    .dataframe tbody tr th:only-of-type {\n",
       "        vertical-align: middle;\n",
       "    }\n",
       "\n",
       "    .dataframe tbody tr th {\n",
       "        vertical-align: top;\n",
       "    }\n",
       "\n",
       "    .dataframe thead th {\n",
       "        text-align: right;\n",
       "    }\n",
       "</style>\n",
       "<table border=\"1\" class=\"dataframe\">\n",
       "  <thead>\n",
       "    <tr style=\"text-align: right;\">\n",
       "      <th></th>\n",
       "      <th>Sector</th>\n",
       "      <th>Live</th>\n",
       "      <th>Week 1</th>\n",
       "      <th>Week 2</th>\n",
       "      <th>Week 3</th>\n",
       "      <th>Week 4</th>\n",
       "      <th>Week 5</th>\n",
       "      <th>Week 6</th>\n",
       "      <th>Week 7</th>\n",
       "      <th>Week 8</th>\n",
       "      <th>Week 9</th>\n",
       "    </tr>\n",
       "  </thead>\n",
       "  <tbody>\n",
       "    <tr>\n",
       "      <th>1</th>\n",
       "      <td>IT - EducationInformation TechnologyMid Cap</td>\n",
       "      <td>1</td>\n",
       "      <td>1</td>\n",
       "      <td>1</td>\n",
       "      <td>6</td>\n",
       "      <td>3</td>\n",
       "      <td>2</td>\n",
       "      <td>1</td>\n",
       "      <td>1</td>\n",
       "      <td>15</td>\n",
       "      <td>13</td>\n",
       "    </tr>\n",
       "    <tr>\n",
       "      <th>2</th>\n",
       "      <td>Electric EquipmentElectric EquipmentCAPITAL GO...</td>\n",
       "      <td>2</td>\n",
       "      <td>2</td>\n",
       "      <td>3</td>\n",
       "      <td>2</td>\n",
       "      <td>2</td>\n",
       "      <td>3</td>\n",
       "      <td>3</td>\n",
       "      <td>2</td>\n",
       "      <td>4</td>\n",
       "      <td>6</td>\n",
       "    </tr>\n",
       "    <tr>\n",
       "      <th>3</th>\n",
       "      <td>Diamond &amp; Jewellery</td>\n",
       "      <td>3</td>\n",
       "      <td>3</td>\n",
       "      <td>2</td>\n",
       "      <td>1</td>\n",
       "      <td>1</td>\n",
       "      <td>1</td>\n",
       "      <td>2</td>\n",
       "      <td>3</td>\n",
       "      <td>1</td>\n",
       "      <td>9</td>\n",
       "    </tr>\n",
       "    <tr>\n",
       "      <th>4</th>\n",
       "      <td>Fintech-Information Technology</td>\n",
       "      <td>4</td>\n",
       "      <td>6</td>\n",
       "      <td>11</td>\n",
       "      <td>10</td>\n",
       "      <td>10</td>\n",
       "      <td>8</td>\n",
       "      <td>8</td>\n",
       "      <td>8</td>\n",
       "      <td>3</td>\n",
       "      <td>2</td>\n",
       "    </tr>\n",
       "    <tr>\n",
       "      <th>5</th>\n",
       "      <td>Medical Equipment/Supplies/AccessoriesHealthcare</td>\n",
       "      <td>5</td>\n",
       "      <td>7</td>\n",
       "      <td>7</td>\n",
       "      <td>5</td>\n",
       "      <td>7</td>\n",
       "      <td>4</td>\n",
       "      <td>4</td>\n",
       "      <td>4</td>\n",
       "      <td>2</td>\n",
       "      <td>4</td>\n",
       "    </tr>\n",
       "    <tr>\n",
       "      <th>6</th>\n",
       "      <td>Glass-CONSTRUCTION MATERIAL</td>\n",
       "      <td>6</td>\n",
       "      <td>5</td>\n",
       "      <td>4</td>\n",
       "      <td>3</td>\n",
       "      <td>11</td>\n",
       "      <td>11</td>\n",
       "      <td>7</td>\n",
       "      <td>11</td>\n",
       "      <td>8</td>\n",
       "      <td>1</td>\n",
       "    </tr>\n",
       "    <tr>\n",
       "      <th>7</th>\n",
       "      <td>Ratings</td>\n",
       "      <td>7</td>\n",
       "      <td>4</td>\n",
       "      <td>5</td>\n",
       "      <td>4</td>\n",
       "      <td>8</td>\n",
       "      <td>9</td>\n",
       "      <td>11</td>\n",
       "      <td>12</td>\n",
       "      <td>6</td>\n",
       "      <td>3</td>\n",
       "    </tr>\n",
       "    <tr>\n",
       "      <th>8</th>\n",
       "      <td>Hotel, Resort &amp; Restaurants-HospitalityLarge Cap</td>\n",
       "      <td>8</td>\n",
       "      <td>8</td>\n",
       "      <td>9</td>\n",
       "      <td>13</td>\n",
       "      <td>13</td>\n",
       "      <td>13</td>\n",
       "      <td>13</td>\n",
       "      <td>13</td>\n",
       "      <td>14</td>\n",
       "      <td>10</td>\n",
       "    </tr>\n",
       "    <tr>\n",
       "      <th>9</th>\n",
       "      <td>Finance - Others</td>\n",
       "      <td>9</td>\n",
       "      <td>13</td>\n",
       "      <td>8</td>\n",
       "      <td>7</td>\n",
       "      <td>6</td>\n",
       "      <td>6</td>\n",
       "      <td>10</td>\n",
       "      <td>9</td>\n",
       "      <td>11</td>\n",
       "      <td>15</td>\n",
       "    </tr>\n",
       "    <tr>\n",
       "      <th>10</th>\n",
       "      <td>Finance - Stock Broking</td>\n",
       "      <td>10</td>\n",
       "      <td>10</td>\n",
       "      <td>10</td>\n",
       "      <td>9</td>\n",
       "      <td>5</td>\n",
       "      <td>7</td>\n",
       "      <td>5</td>\n",
       "      <td>5</td>\n",
       "      <td>9</td>\n",
       "      <td>8</td>\n",
       "    </tr>\n",
       "    <tr>\n",
       "      <th>11</th>\n",
       "      <td>Textile - Weaving</td>\n",
       "      <td>11</td>\n",
       "      <td>11</td>\n",
       "      <td>14</td>\n",
       "      <td>14</td>\n",
       "      <td>15</td>\n",
       "      <td>14</td>\n",
       "      <td>14</td>\n",
       "      <td>14</td>\n",
       "      <td>12</td>\n",
       "      <td>12</td>\n",
       "    </tr>\n",
       "    <tr>\n",
       "      <th>12</th>\n",
       "      <td>Air Conditioners-CONSUMER DURABLES</td>\n",
       "      <td>12</td>\n",
       "      <td>9</td>\n",
       "      <td>6</td>\n",
       "      <td>8</td>\n",
       "      <td>4</td>\n",
       "      <td>5</td>\n",
       "      <td>6</td>\n",
       "      <td>15</td>\n",
       "      <td>13</td>\n",
       "      <td>14</td>\n",
       "    </tr>\n",
       "    <tr>\n",
       "      <th>13</th>\n",
       "      <td>Packaging-FMCG</td>\n",
       "      <td>13</td>\n",
       "      <td>15</td>\n",
       "      <td>15</td>\n",
       "      <td>12</td>\n",
       "      <td>9</td>\n",
       "      <td>12</td>\n",
       "      <td>15</td>\n",
       "      <td>10</td>\n",
       "      <td>10</td>\n",
       "      <td>7</td>\n",
       "    </tr>\n",
       "    <tr>\n",
       "      <th>14</th>\n",
       "      <td>Hospital &amp; Healthcare Services-Healthcare</td>\n",
       "      <td>14</td>\n",
       "      <td>12</td>\n",
       "      <td>12</td>\n",
       "      <td>11</td>\n",
       "      <td>12</td>\n",
       "      <td>10</td>\n",
       "      <td>9</td>\n",
       "      <td>6</td>\n",
       "      <td>7</td>\n",
       "      <td>5</td>\n",
       "    </tr>\n",
       "    <tr>\n",
       "      <th>15</th>\n",
       "      <td>Rubber Products/AGRICULTURE</td>\n",
       "      <td>15</td>\n",
       "      <td>14</td>\n",
       "      <td>13</td>\n",
       "      <td>15</td>\n",
       "      <td>14</td>\n",
       "      <td>15</td>\n",
       "      <td>12</td>\n",
       "      <td>7</td>\n",
       "      <td>5</td>\n",
       "      <td>11</td>\n",
       "    </tr>\n",
       "  </tbody>\n",
       "</table>\n",
       "</div>"
      ],
      "text/plain": [
       "                                               Sector  Live  Week 1  Week 2  \\\n",
       "1         IT - EducationInformation TechnologyMid Cap     1       1       1   \n",
       "2   Electric EquipmentElectric EquipmentCAPITAL GO...     2       2       3   \n",
       "3                                 Diamond & Jewellery     3       3       2   \n",
       "4                      Fintech-Information Technology     4       6      11   \n",
       "5    Medical Equipment/Supplies/AccessoriesHealthcare     5       7       7   \n",
       "6                         Glass-CONSTRUCTION MATERIAL     6       5       4   \n",
       "7                                             Ratings     7       4       5   \n",
       "8    Hotel, Resort & Restaurants-HospitalityLarge Cap     8       8       9   \n",
       "9                                    Finance - Others     9      13       8   \n",
       "10                            Finance - Stock Broking    10      10      10   \n",
       "11                                  Textile - Weaving    11      11      14   \n",
       "12                 Air Conditioners-CONSUMER DURABLES    12       9       6   \n",
       "13                                     Packaging-FMCG    13      15      15   \n",
       "14          Hospital & Healthcare Services-Healthcare    14      12      12   \n",
       "15                        Rubber Products/AGRICULTURE    15      14      13   \n",
       "\n",
       "    Week 3  Week 4  Week 5  Week 6  Week 7  Week 8  Week 9  \n",
       "1        6       3       2       1       1      15      13  \n",
       "2        2       2       3       3       2       4       6  \n",
       "3        1       1       1       2       3       1       9  \n",
       "4       10      10       8       8       8       3       2  \n",
       "5        5       7       4       4       4       2       4  \n",
       "6        3      11      11       7      11       8       1  \n",
       "7        4       8       9      11      12       6       3  \n",
       "8       13      13      13      13      13      14      10  \n",
       "9        7       6       6      10       9      11      15  \n",
       "10       9       5       7       5       5       9       8  \n",
       "11      14      15      14      14      14      12      12  \n",
       "12       8       4       5       6      15      13      14  \n",
       "13      12       9      12      15      10      10       7  \n",
       "14      11      12      10       9       6       7       5  \n",
       "15      15      14      15      12       7       5      11  "
      ]
     },
     "execution_count": 45,
     "metadata": {},
     "output_type": "execute_result"
    }
   ],
   "source": [
    "top_live"
   ]
  },
  {
   "cell_type": "code",
   "execution_count": 46,
   "id": "b28e3653-be8e-4eb2-94c6-f8fe84e31786",
   "metadata": {},
   "outputs": [],
   "source": [
    "rank_columns_col = ['Live','Week 1', 'Week 2', 'Week 3', 'Week 4', 'Week 5', 'Week 6', 'Week 7', 'Week 8', 'Week 9']\n",
    "styled_df = top_live.style\n",
    "for cols in rank_columns_col:\n",
    "    styled_df = styled_df.background_gradient(cmap='RdYlGn_r',subset=[cols])"
   ]
  },
  {
   "cell_type": "code",
   "execution_count": 47,
   "id": "f7f30857-f43e-48dc-a3ee-ea055569fc5e",
   "metadata": {},
   "outputs": [
    {
     "data": {
      "text/html": [
       "<style type=\"text/css\">\n",
       "#T_bb699_row0_col1, #T_bb699_row0_col2, #T_bb699_row0_col3, #T_bb699_row0_col7, #T_bb699_row0_col8, #T_bb699_row2_col4, #T_bb699_row2_col5, #T_bb699_row2_col6, #T_bb699_row2_col9, #T_bb699_row5_col10 {\n",
       "  background-color: #006837;\n",
       "  color: #f1f1f1;\n",
       "}\n",
       "#T_bb699_row0_col4, #T_bb699_row1_col10, #T_bb699_row3_col2, #T_bb699_row5_col1, #T_bb699_row6_col9, #T_bb699_row8_col5, #T_bb699_row8_col6, #T_bb699_row11_col3, #T_bb699_row11_col7, #T_bb699_row13_col8 {\n",
       "  background-color: #c3e67d;\n",
       "  color: #000000;\n",
       "}\n",
       "#T_bb699_row0_col5, #T_bb699_row1_col3, #T_bb699_row1_col6, #T_bb699_row1_col7, #T_bb699_row2_col1, #T_bb699_row2_col2, #T_bb699_row2_col8, #T_bb699_row3_col9, #T_bb699_row5_col4, #T_bb699_row6_col10 {\n",
       "  background-color: #39a758;\n",
       "  color: #f1f1f1;\n",
       "}\n",
       "#T_bb699_row0_col6, #T_bb699_row1_col1, #T_bb699_row1_col2, #T_bb699_row1_col4, #T_bb699_row1_col5, #T_bb699_row1_col8, #T_bb699_row2_col3, #T_bb699_row2_col7, #T_bb699_row3_col10, #T_bb699_row4_col9 {\n",
       "  background-color: #128a49;\n",
       "  color: #f1f1f1;\n",
       "}\n",
       "#T_bb699_row0_col9, #T_bb699_row8_col10, #T_bb699_row10_col5, #T_bb699_row11_col8, #T_bb699_row12_col2, #T_bb699_row12_col3, #T_bb699_row12_col7, #T_bb699_row14_col1, #T_bb699_row14_col4, #T_bb699_row14_col6 {\n",
       "  background-color: #a50026;\n",
       "  color: #f1f1f1;\n",
       "}\n",
       "#T_bb699_row0_col10, #T_bb699_row7_col4, #T_bb699_row7_col5, #T_bb699_row7_col6, #T_bb699_row7_col7, #T_bb699_row7_col8, #T_bb699_row8_col2, #T_bb699_row11_col9, #T_bb699_row12_col1, #T_bb699_row14_col3 {\n",
       "  background-color: #e34933;\n",
       "  color: #f1f1f1;\n",
       "}\n",
       "#T_bb699_row1_col9, #T_bb699_row3_col1, #T_bb699_row4_col6, #T_bb699_row4_col7, #T_bb699_row4_col8, #T_bb699_row4_col10, #T_bb699_row5_col3, #T_bb699_row6_col2, #T_bb699_row6_col4, #T_bb699_row11_col5 {\n",
       "  background-color: #6ec064;\n",
       "  color: #000000;\n",
       "}\n",
       "#T_bb699_row2_col10, #T_bb699_row6_col6, #T_bb699_row7_col3, #T_bb699_row8_col1, #T_bb699_row8_col8, #T_bb699_row9_col4, #T_bb699_row9_col9, #T_bb699_row11_col2, #T_bb699_row12_col5, #T_bb699_row13_col7 {\n",
       "  background-color: #fee999;\n",
       "  color: #000000;\n",
       "}\n",
       "#T_bb699_row3_col3, #T_bb699_row5_col5, #T_bb699_row5_col6, #T_bb699_row5_col8, #T_bb699_row6_col7, #T_bb699_row8_col9, #T_bb699_row10_col1, #T_bb699_row10_col2, #T_bb699_row13_col4, #T_bb699_row14_col10 {\n",
       "  background-color: #fca55d;\n",
       "  color: #000000;\n",
       "}\n",
       "#T_bb699_row3_col4, #T_bb699_row3_col5, #T_bb699_row7_col10, #T_bb699_row8_col7, #T_bb699_row9_col1, #T_bb699_row9_col2, #T_bb699_row9_col3, #T_bb699_row12_col8, #T_bb699_row12_col9, #T_bb699_row13_col6 {\n",
       "  background-color: #feca79;\n",
       "  color: #000000;\n",
       "}\n",
       "#T_bb699_row3_col6, #T_bb699_row3_col7, #T_bb699_row3_col8, #T_bb699_row5_col9, #T_bb699_row6_col5, #T_bb699_row7_col1, #T_bb699_row7_col2, #T_bb699_row8_col3, #T_bb699_row9_col10, #T_bb699_row11_col4 {\n",
       "  background-color: #fffebe;\n",
       "  color: #000000;\n",
       "}\n",
       "#T_bb699_row4_col1, #T_bb699_row4_col4, #T_bb699_row5_col2, #T_bb699_row6_col3, #T_bb699_row9_col5, #T_bb699_row9_col7, #T_bb699_row9_col8, #T_bb699_row11_col6, #T_bb699_row13_col10, #T_bb699_row14_col9 {\n",
       "  background-color: #9dd569;\n",
       "  color: #000000;\n",
       "}\n",
       "#T_bb699_row4_col2, #T_bb699_row4_col3, #T_bb699_row4_col5, #T_bb699_row5_col7, #T_bb699_row6_col1, #T_bb699_row8_col4, #T_bb699_row9_col6, #T_bb699_row12_col10, #T_bb699_row13_col9, #T_bb699_row14_col8 {\n",
       "  background-color: #e3f399;\n",
       "  color: #000000;\n",
       "}\n",
       "#T_bb699_row6_col8, #T_bb699_row10_col9, #T_bb699_row10_col10, #T_bb699_row11_col1, #T_bb699_row12_col4, #T_bb699_row12_col6, #T_bb699_row13_col2, #T_bb699_row13_col3, #T_bb699_row13_col5, #T_bb699_row14_col7 {\n",
       "  background-color: #f57547;\n",
       "  color: #f1f1f1;\n",
       "}\n",
       "#T_bb699_row7_col9, #T_bb699_row10_col3, #T_bb699_row10_col4, #T_bb699_row10_col6, #T_bb699_row10_col7, #T_bb699_row10_col8, #T_bb699_row11_col10, #T_bb699_row13_col1, #T_bb699_row14_col2, #T_bb699_row14_col5 {\n",
       "  background-color: #c82227;\n",
       "  color: #f1f1f1;\n",
       "}\n",
       "</style>\n",
       "<table id=\"T_bb699\">\n",
       "  <thead>\n",
       "    <tr>\n",
       "      <th class=\"blank level0\" >&nbsp;</th>\n",
       "      <th id=\"T_bb699_level0_col0\" class=\"col_heading level0 col0\" >Sector</th>\n",
       "      <th id=\"T_bb699_level0_col1\" class=\"col_heading level0 col1\" >Live</th>\n",
       "      <th id=\"T_bb699_level0_col2\" class=\"col_heading level0 col2\" >Week 1</th>\n",
       "      <th id=\"T_bb699_level0_col3\" class=\"col_heading level0 col3\" >Week 2</th>\n",
       "      <th id=\"T_bb699_level0_col4\" class=\"col_heading level0 col4\" >Week 3</th>\n",
       "      <th id=\"T_bb699_level0_col5\" class=\"col_heading level0 col5\" >Week 4</th>\n",
       "      <th id=\"T_bb699_level0_col6\" class=\"col_heading level0 col6\" >Week 5</th>\n",
       "      <th id=\"T_bb699_level0_col7\" class=\"col_heading level0 col7\" >Week 6</th>\n",
       "      <th id=\"T_bb699_level0_col8\" class=\"col_heading level0 col8\" >Week 7</th>\n",
       "      <th id=\"T_bb699_level0_col9\" class=\"col_heading level0 col9\" >Week 8</th>\n",
       "      <th id=\"T_bb699_level0_col10\" class=\"col_heading level0 col10\" >Week 9</th>\n",
       "    </tr>\n",
       "  </thead>\n",
       "  <tbody>\n",
       "    <tr>\n",
       "      <th id=\"T_bb699_level0_row0\" class=\"row_heading level0 row0\" >1</th>\n",
       "      <td id=\"T_bb699_row0_col0\" class=\"data row0 col0\" >IT - EducationInformation TechnologyMid Cap</td>\n",
       "      <td id=\"T_bb699_row0_col1\" class=\"data row0 col1\" >1</td>\n",
       "      <td id=\"T_bb699_row0_col2\" class=\"data row0 col2\" >1</td>\n",
       "      <td id=\"T_bb699_row0_col3\" class=\"data row0 col3\" >1</td>\n",
       "      <td id=\"T_bb699_row0_col4\" class=\"data row0 col4\" >6</td>\n",
       "      <td id=\"T_bb699_row0_col5\" class=\"data row0 col5\" >3</td>\n",
       "      <td id=\"T_bb699_row0_col6\" class=\"data row0 col6\" >2</td>\n",
       "      <td id=\"T_bb699_row0_col7\" class=\"data row0 col7\" >1</td>\n",
       "      <td id=\"T_bb699_row0_col8\" class=\"data row0 col8\" >1</td>\n",
       "      <td id=\"T_bb699_row0_col9\" class=\"data row0 col9\" >15</td>\n",
       "      <td id=\"T_bb699_row0_col10\" class=\"data row0 col10\" >13</td>\n",
       "    </tr>\n",
       "    <tr>\n",
       "      <th id=\"T_bb699_level0_row1\" class=\"row_heading level0 row1\" >2</th>\n",
       "      <td id=\"T_bb699_row1_col0\" class=\"data row1 col0\" >Electric EquipmentElectric EquipmentCAPITAL GOODSMid Cap</td>\n",
       "      <td id=\"T_bb699_row1_col1\" class=\"data row1 col1\" >2</td>\n",
       "      <td id=\"T_bb699_row1_col2\" class=\"data row1 col2\" >2</td>\n",
       "      <td id=\"T_bb699_row1_col3\" class=\"data row1 col3\" >3</td>\n",
       "      <td id=\"T_bb699_row1_col4\" class=\"data row1 col4\" >2</td>\n",
       "      <td id=\"T_bb699_row1_col5\" class=\"data row1 col5\" >2</td>\n",
       "      <td id=\"T_bb699_row1_col6\" class=\"data row1 col6\" >3</td>\n",
       "      <td id=\"T_bb699_row1_col7\" class=\"data row1 col7\" >3</td>\n",
       "      <td id=\"T_bb699_row1_col8\" class=\"data row1 col8\" >2</td>\n",
       "      <td id=\"T_bb699_row1_col9\" class=\"data row1 col9\" >4</td>\n",
       "      <td id=\"T_bb699_row1_col10\" class=\"data row1 col10\" >6</td>\n",
       "    </tr>\n",
       "    <tr>\n",
       "      <th id=\"T_bb699_level0_row2\" class=\"row_heading level0 row2\" >3</th>\n",
       "      <td id=\"T_bb699_row2_col0\" class=\"data row2 col0\" >Diamond & Jewellery</td>\n",
       "      <td id=\"T_bb699_row2_col1\" class=\"data row2 col1\" >3</td>\n",
       "      <td id=\"T_bb699_row2_col2\" class=\"data row2 col2\" >3</td>\n",
       "      <td id=\"T_bb699_row2_col3\" class=\"data row2 col3\" >2</td>\n",
       "      <td id=\"T_bb699_row2_col4\" class=\"data row2 col4\" >1</td>\n",
       "      <td id=\"T_bb699_row2_col5\" class=\"data row2 col5\" >1</td>\n",
       "      <td id=\"T_bb699_row2_col6\" class=\"data row2 col6\" >1</td>\n",
       "      <td id=\"T_bb699_row2_col7\" class=\"data row2 col7\" >2</td>\n",
       "      <td id=\"T_bb699_row2_col8\" class=\"data row2 col8\" >3</td>\n",
       "      <td id=\"T_bb699_row2_col9\" class=\"data row2 col9\" >1</td>\n",
       "      <td id=\"T_bb699_row2_col10\" class=\"data row2 col10\" >9</td>\n",
       "    </tr>\n",
       "    <tr>\n",
       "      <th id=\"T_bb699_level0_row3\" class=\"row_heading level0 row3\" >4</th>\n",
       "      <td id=\"T_bb699_row3_col0\" class=\"data row3 col0\" >Fintech-Information Technology</td>\n",
       "      <td id=\"T_bb699_row3_col1\" class=\"data row3 col1\" >4</td>\n",
       "      <td id=\"T_bb699_row3_col2\" class=\"data row3 col2\" >6</td>\n",
       "      <td id=\"T_bb699_row3_col3\" class=\"data row3 col3\" >11</td>\n",
       "      <td id=\"T_bb699_row3_col4\" class=\"data row3 col4\" >10</td>\n",
       "      <td id=\"T_bb699_row3_col5\" class=\"data row3 col5\" >10</td>\n",
       "      <td id=\"T_bb699_row3_col6\" class=\"data row3 col6\" >8</td>\n",
       "      <td id=\"T_bb699_row3_col7\" class=\"data row3 col7\" >8</td>\n",
       "      <td id=\"T_bb699_row3_col8\" class=\"data row3 col8\" >8</td>\n",
       "      <td id=\"T_bb699_row3_col9\" class=\"data row3 col9\" >3</td>\n",
       "      <td id=\"T_bb699_row3_col10\" class=\"data row3 col10\" >2</td>\n",
       "    </tr>\n",
       "    <tr>\n",
       "      <th id=\"T_bb699_level0_row4\" class=\"row_heading level0 row4\" >5</th>\n",
       "      <td id=\"T_bb699_row4_col0\" class=\"data row4 col0\" >Medical Equipment/Supplies/AccessoriesHealthcare</td>\n",
       "      <td id=\"T_bb699_row4_col1\" class=\"data row4 col1\" >5</td>\n",
       "      <td id=\"T_bb699_row4_col2\" class=\"data row4 col2\" >7</td>\n",
       "      <td id=\"T_bb699_row4_col3\" class=\"data row4 col3\" >7</td>\n",
       "      <td id=\"T_bb699_row4_col4\" class=\"data row4 col4\" >5</td>\n",
       "      <td id=\"T_bb699_row4_col5\" class=\"data row4 col5\" >7</td>\n",
       "      <td id=\"T_bb699_row4_col6\" class=\"data row4 col6\" >4</td>\n",
       "      <td id=\"T_bb699_row4_col7\" class=\"data row4 col7\" >4</td>\n",
       "      <td id=\"T_bb699_row4_col8\" class=\"data row4 col8\" >4</td>\n",
       "      <td id=\"T_bb699_row4_col9\" class=\"data row4 col9\" >2</td>\n",
       "      <td id=\"T_bb699_row4_col10\" class=\"data row4 col10\" >4</td>\n",
       "    </tr>\n",
       "    <tr>\n",
       "      <th id=\"T_bb699_level0_row5\" class=\"row_heading level0 row5\" >6</th>\n",
       "      <td id=\"T_bb699_row5_col0\" class=\"data row5 col0\" >Glass-CONSTRUCTION MATERIAL</td>\n",
       "      <td id=\"T_bb699_row5_col1\" class=\"data row5 col1\" >6</td>\n",
       "      <td id=\"T_bb699_row5_col2\" class=\"data row5 col2\" >5</td>\n",
       "      <td id=\"T_bb699_row5_col3\" class=\"data row5 col3\" >4</td>\n",
       "      <td id=\"T_bb699_row5_col4\" class=\"data row5 col4\" >3</td>\n",
       "      <td id=\"T_bb699_row5_col5\" class=\"data row5 col5\" >11</td>\n",
       "      <td id=\"T_bb699_row5_col6\" class=\"data row5 col6\" >11</td>\n",
       "      <td id=\"T_bb699_row5_col7\" class=\"data row5 col7\" >7</td>\n",
       "      <td id=\"T_bb699_row5_col8\" class=\"data row5 col8\" >11</td>\n",
       "      <td id=\"T_bb699_row5_col9\" class=\"data row5 col9\" >8</td>\n",
       "      <td id=\"T_bb699_row5_col10\" class=\"data row5 col10\" >1</td>\n",
       "    </tr>\n",
       "    <tr>\n",
       "      <th id=\"T_bb699_level0_row6\" class=\"row_heading level0 row6\" >7</th>\n",
       "      <td id=\"T_bb699_row6_col0\" class=\"data row6 col0\" >Ratings</td>\n",
       "      <td id=\"T_bb699_row6_col1\" class=\"data row6 col1\" >7</td>\n",
       "      <td id=\"T_bb699_row6_col2\" class=\"data row6 col2\" >4</td>\n",
       "      <td id=\"T_bb699_row6_col3\" class=\"data row6 col3\" >5</td>\n",
       "      <td id=\"T_bb699_row6_col4\" class=\"data row6 col4\" >4</td>\n",
       "      <td id=\"T_bb699_row6_col5\" class=\"data row6 col5\" >8</td>\n",
       "      <td id=\"T_bb699_row6_col6\" class=\"data row6 col6\" >9</td>\n",
       "      <td id=\"T_bb699_row6_col7\" class=\"data row6 col7\" >11</td>\n",
       "      <td id=\"T_bb699_row6_col8\" class=\"data row6 col8\" >12</td>\n",
       "      <td id=\"T_bb699_row6_col9\" class=\"data row6 col9\" >6</td>\n",
       "      <td id=\"T_bb699_row6_col10\" class=\"data row6 col10\" >3</td>\n",
       "    </tr>\n",
       "    <tr>\n",
       "      <th id=\"T_bb699_level0_row7\" class=\"row_heading level0 row7\" >8</th>\n",
       "      <td id=\"T_bb699_row7_col0\" class=\"data row7 col0\" >Hotel, Resort & Restaurants-HospitalityLarge Cap</td>\n",
       "      <td id=\"T_bb699_row7_col1\" class=\"data row7 col1\" >8</td>\n",
       "      <td id=\"T_bb699_row7_col2\" class=\"data row7 col2\" >8</td>\n",
       "      <td id=\"T_bb699_row7_col3\" class=\"data row7 col3\" >9</td>\n",
       "      <td id=\"T_bb699_row7_col4\" class=\"data row7 col4\" >13</td>\n",
       "      <td id=\"T_bb699_row7_col5\" class=\"data row7 col5\" >13</td>\n",
       "      <td id=\"T_bb699_row7_col6\" class=\"data row7 col6\" >13</td>\n",
       "      <td id=\"T_bb699_row7_col7\" class=\"data row7 col7\" >13</td>\n",
       "      <td id=\"T_bb699_row7_col8\" class=\"data row7 col8\" >13</td>\n",
       "      <td id=\"T_bb699_row7_col9\" class=\"data row7 col9\" >14</td>\n",
       "      <td id=\"T_bb699_row7_col10\" class=\"data row7 col10\" >10</td>\n",
       "    </tr>\n",
       "    <tr>\n",
       "      <th id=\"T_bb699_level0_row8\" class=\"row_heading level0 row8\" >9</th>\n",
       "      <td id=\"T_bb699_row8_col0\" class=\"data row8 col0\" >Finance - Others</td>\n",
       "      <td id=\"T_bb699_row8_col1\" class=\"data row8 col1\" >9</td>\n",
       "      <td id=\"T_bb699_row8_col2\" class=\"data row8 col2\" >13</td>\n",
       "      <td id=\"T_bb699_row8_col3\" class=\"data row8 col3\" >8</td>\n",
       "      <td id=\"T_bb699_row8_col4\" class=\"data row8 col4\" >7</td>\n",
       "      <td id=\"T_bb699_row8_col5\" class=\"data row8 col5\" >6</td>\n",
       "      <td id=\"T_bb699_row8_col6\" class=\"data row8 col6\" >6</td>\n",
       "      <td id=\"T_bb699_row8_col7\" class=\"data row8 col7\" >10</td>\n",
       "      <td id=\"T_bb699_row8_col8\" class=\"data row8 col8\" >9</td>\n",
       "      <td id=\"T_bb699_row8_col9\" class=\"data row8 col9\" >11</td>\n",
       "      <td id=\"T_bb699_row8_col10\" class=\"data row8 col10\" >15</td>\n",
       "    </tr>\n",
       "    <tr>\n",
       "      <th id=\"T_bb699_level0_row9\" class=\"row_heading level0 row9\" >10</th>\n",
       "      <td id=\"T_bb699_row9_col0\" class=\"data row9 col0\" >Finance - Stock Broking</td>\n",
       "      <td id=\"T_bb699_row9_col1\" class=\"data row9 col1\" >10</td>\n",
       "      <td id=\"T_bb699_row9_col2\" class=\"data row9 col2\" >10</td>\n",
       "      <td id=\"T_bb699_row9_col3\" class=\"data row9 col3\" >10</td>\n",
       "      <td id=\"T_bb699_row9_col4\" class=\"data row9 col4\" >9</td>\n",
       "      <td id=\"T_bb699_row9_col5\" class=\"data row9 col5\" >5</td>\n",
       "      <td id=\"T_bb699_row9_col6\" class=\"data row9 col6\" >7</td>\n",
       "      <td id=\"T_bb699_row9_col7\" class=\"data row9 col7\" >5</td>\n",
       "      <td id=\"T_bb699_row9_col8\" class=\"data row9 col8\" >5</td>\n",
       "      <td id=\"T_bb699_row9_col9\" class=\"data row9 col9\" >9</td>\n",
       "      <td id=\"T_bb699_row9_col10\" class=\"data row9 col10\" >8</td>\n",
       "    </tr>\n",
       "    <tr>\n",
       "      <th id=\"T_bb699_level0_row10\" class=\"row_heading level0 row10\" >11</th>\n",
       "      <td id=\"T_bb699_row10_col0\" class=\"data row10 col0\" >Textile - Weaving</td>\n",
       "      <td id=\"T_bb699_row10_col1\" class=\"data row10 col1\" >11</td>\n",
       "      <td id=\"T_bb699_row10_col2\" class=\"data row10 col2\" >11</td>\n",
       "      <td id=\"T_bb699_row10_col3\" class=\"data row10 col3\" >14</td>\n",
       "      <td id=\"T_bb699_row10_col4\" class=\"data row10 col4\" >14</td>\n",
       "      <td id=\"T_bb699_row10_col5\" class=\"data row10 col5\" >15</td>\n",
       "      <td id=\"T_bb699_row10_col6\" class=\"data row10 col6\" >14</td>\n",
       "      <td id=\"T_bb699_row10_col7\" class=\"data row10 col7\" >14</td>\n",
       "      <td id=\"T_bb699_row10_col8\" class=\"data row10 col8\" >14</td>\n",
       "      <td id=\"T_bb699_row10_col9\" class=\"data row10 col9\" >12</td>\n",
       "      <td id=\"T_bb699_row10_col10\" class=\"data row10 col10\" >12</td>\n",
       "    </tr>\n",
       "    <tr>\n",
       "      <th id=\"T_bb699_level0_row11\" class=\"row_heading level0 row11\" >12</th>\n",
       "      <td id=\"T_bb699_row11_col0\" class=\"data row11 col0\" >Air Conditioners-CONSUMER DURABLES</td>\n",
       "      <td id=\"T_bb699_row11_col1\" class=\"data row11 col1\" >12</td>\n",
       "      <td id=\"T_bb699_row11_col2\" class=\"data row11 col2\" >9</td>\n",
       "      <td id=\"T_bb699_row11_col3\" class=\"data row11 col3\" >6</td>\n",
       "      <td id=\"T_bb699_row11_col4\" class=\"data row11 col4\" >8</td>\n",
       "      <td id=\"T_bb699_row11_col5\" class=\"data row11 col5\" >4</td>\n",
       "      <td id=\"T_bb699_row11_col6\" class=\"data row11 col6\" >5</td>\n",
       "      <td id=\"T_bb699_row11_col7\" class=\"data row11 col7\" >6</td>\n",
       "      <td id=\"T_bb699_row11_col8\" class=\"data row11 col8\" >15</td>\n",
       "      <td id=\"T_bb699_row11_col9\" class=\"data row11 col9\" >13</td>\n",
       "      <td id=\"T_bb699_row11_col10\" class=\"data row11 col10\" >14</td>\n",
       "    </tr>\n",
       "    <tr>\n",
       "      <th id=\"T_bb699_level0_row12\" class=\"row_heading level0 row12\" >13</th>\n",
       "      <td id=\"T_bb699_row12_col0\" class=\"data row12 col0\" >Packaging-FMCG</td>\n",
       "      <td id=\"T_bb699_row12_col1\" class=\"data row12 col1\" >13</td>\n",
       "      <td id=\"T_bb699_row12_col2\" class=\"data row12 col2\" >15</td>\n",
       "      <td id=\"T_bb699_row12_col3\" class=\"data row12 col3\" >15</td>\n",
       "      <td id=\"T_bb699_row12_col4\" class=\"data row12 col4\" >12</td>\n",
       "      <td id=\"T_bb699_row12_col5\" class=\"data row12 col5\" >9</td>\n",
       "      <td id=\"T_bb699_row12_col6\" class=\"data row12 col6\" >12</td>\n",
       "      <td id=\"T_bb699_row12_col7\" class=\"data row12 col7\" >15</td>\n",
       "      <td id=\"T_bb699_row12_col8\" class=\"data row12 col8\" >10</td>\n",
       "      <td id=\"T_bb699_row12_col9\" class=\"data row12 col9\" >10</td>\n",
       "      <td id=\"T_bb699_row12_col10\" class=\"data row12 col10\" >7</td>\n",
       "    </tr>\n",
       "    <tr>\n",
       "      <th id=\"T_bb699_level0_row13\" class=\"row_heading level0 row13\" >14</th>\n",
       "      <td id=\"T_bb699_row13_col0\" class=\"data row13 col0\" >Hospital & Healthcare Services-Healthcare</td>\n",
       "      <td id=\"T_bb699_row13_col1\" class=\"data row13 col1\" >14</td>\n",
       "      <td id=\"T_bb699_row13_col2\" class=\"data row13 col2\" >12</td>\n",
       "      <td id=\"T_bb699_row13_col3\" class=\"data row13 col3\" >12</td>\n",
       "      <td id=\"T_bb699_row13_col4\" class=\"data row13 col4\" >11</td>\n",
       "      <td id=\"T_bb699_row13_col5\" class=\"data row13 col5\" >12</td>\n",
       "      <td id=\"T_bb699_row13_col6\" class=\"data row13 col6\" >10</td>\n",
       "      <td id=\"T_bb699_row13_col7\" class=\"data row13 col7\" >9</td>\n",
       "      <td id=\"T_bb699_row13_col8\" class=\"data row13 col8\" >6</td>\n",
       "      <td id=\"T_bb699_row13_col9\" class=\"data row13 col9\" >7</td>\n",
       "      <td id=\"T_bb699_row13_col10\" class=\"data row13 col10\" >5</td>\n",
       "    </tr>\n",
       "    <tr>\n",
       "      <th id=\"T_bb699_level0_row14\" class=\"row_heading level0 row14\" >15</th>\n",
       "      <td id=\"T_bb699_row14_col0\" class=\"data row14 col0\" >Rubber Products/AGRICULTURE</td>\n",
       "      <td id=\"T_bb699_row14_col1\" class=\"data row14 col1\" >15</td>\n",
       "      <td id=\"T_bb699_row14_col2\" class=\"data row14 col2\" >14</td>\n",
       "      <td id=\"T_bb699_row14_col3\" class=\"data row14 col3\" >13</td>\n",
       "      <td id=\"T_bb699_row14_col4\" class=\"data row14 col4\" >15</td>\n",
       "      <td id=\"T_bb699_row14_col5\" class=\"data row14 col5\" >14</td>\n",
       "      <td id=\"T_bb699_row14_col6\" class=\"data row14 col6\" >15</td>\n",
       "      <td id=\"T_bb699_row14_col7\" class=\"data row14 col7\" >12</td>\n",
       "      <td id=\"T_bb699_row14_col8\" class=\"data row14 col8\" >7</td>\n",
       "      <td id=\"T_bb699_row14_col9\" class=\"data row14 col9\" >5</td>\n",
       "      <td id=\"T_bb699_row14_col10\" class=\"data row14 col10\" >11</td>\n",
       "    </tr>\n",
       "  </tbody>\n",
       "</table>\n"
      ],
      "text/plain": [
       "<pandas.io.formats.style.Styler at 0x1c03fb87150>"
      ]
     },
     "execution_count": 47,
     "metadata": {},
     "output_type": "execute_result"
    }
   ],
   "source": [
    "styled_df"
   ]
  },
  {
   "cell_type": "code",
   "execution_count": null,
   "id": "89eca47b-48fe-4acf-a06a-395289a32ebe",
   "metadata": {},
   "outputs": [],
   "source": []
  },
  {
   "cell_type": "code",
   "execution_count": null,
   "id": "a6e125a2-0992-47d4-8efb-56eb5244850f",
   "metadata": {},
   "outputs": [],
   "source": []
  }
 ],
 "metadata": {
  "kernelspec": {
   "display_name": "Python (myenv)",
   "language": "python",
   "name": "myenv"
  },
  "language_info": {
   "codemirror_mode": {
    "name": "ipython",
    "version": 3
   },
   "file_extension": ".py",
   "mimetype": "text/x-python",
   "name": "python",
   "nbconvert_exporter": "python",
   "pygments_lexer": "ipython3",
   "version": "3.11.4"
  }
 },
 "nbformat": 4,
 "nbformat_minor": 5
}
